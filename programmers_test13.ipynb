{
 "cells": [
  {
   "cell_type": "markdown",
   "id": "80541898",
   "metadata": {},
   "source": [
    "## 모스부호"
   ]
  },
  {
   "cell_type": "code",
   "execution_count": 7,
   "id": "6a0c7694",
   "metadata": {},
   "outputs": [],
   "source": [
    "# test 1 (O)\n",
    "morse = { \n",
    "    '.-':'a','-...':'b','-.-.':'c','-..':'d','.':'e','..-.':'f',\n",
    "    '--.':'g','....':'h','..':'i','.---':'j','-.-':'k','.-..':'l',\n",
    "    '--':'m','-.':'n','---':'o','.--.':'p','--.-':'q','.-.':'r',\n",
    "    '...':'s','-':'t','..-':'u','...-':'v','.--':'w','-..-':'x',\n",
    "    '-.--':'y','--..':'z'\n",
    "}\n",
    "def solution(letter):\n",
    "    answer = ''\n",
    "    num = letter.split()\n",
    "    for i in num :\n",
    "        for key, value in morse.items():\n",
    "            if i == str(key):\n",
    "                answer += value\n",
    "    return answer"
   ]
  },
  {
   "cell_type": "code",
   "execution_count": 8,
   "id": "32c7edb0",
   "metadata": {},
   "outputs": [
    {
     "data": {
      "text/plain": [
       "'hello'"
      ]
     },
     "execution_count": 8,
     "metadata": {},
     "output_type": "execute_result"
    }
   ],
   "source": [
    "solution(\".... . .-.. .-.. ---\")"
   ]
  },
  {
   "cell_type": "code",
   "execution_count": 9,
   "id": "767aa65a",
   "metadata": {},
   "outputs": [],
   "source": [
    "# test 2 (O)\n",
    "def solution(letter):\n",
    "    answer = ''\n",
    "    morse = { \n",
    "        '.-':'a','-...':'b','-.-.':'c','-..':'d','.':'e','..-.':'f',\n",
    "        '--.':'g','....':'h','..':'i','.---':'j','-.-':'k','.-..':'l',\n",
    "        '--':'m','-.':'n','---':'o','.--.':'p','--.-':'q','.-.':'r',\n",
    "        '...':'s','-':'t','..-':'u','...-':'v','.--':'w','-..-':'x',\n",
    "        '-.--':'y','--..':'z'\n",
    "    }\n",
    "    code = letter.split(' ')\n",
    "    for c in code:\n",
    "        answer += morse[c]  # 딕셔너리의 key에 대한 value 값 불러오기 -> dic[key]\n",
    "    return answer"
   ]
  },
  {
   "cell_type": "code",
   "execution_count": 10,
   "id": "4242eeff",
   "metadata": {},
   "outputs": [
    {
     "data": {
      "text/plain": [
       "'hello'"
      ]
     },
     "execution_count": 10,
     "metadata": {},
     "output_type": "execute_result"
    }
   ],
   "source": [
    "solution(\".... . .-.. .-.. ---\")"
   ]
  },
  {
   "cell_type": "markdown",
   "id": "64b5e720",
   "metadata": {},
   "source": [
    "## 공던지기"
   ]
  },
  {
   "cell_type": "code",
   "execution_count": 20,
   "id": "4396d0ae",
   "metadata": {},
   "outputs": [],
   "source": [
    "def solution(numbers, k):\n",
    "    num = []\n",
    "    for _ in range(k):\n",
    "        num += numbers\n",
    "    return num[(k-1)*2]"
   ]
  },
  {
   "cell_type": "code",
   "execution_count": 21,
   "id": "4ae423ac",
   "metadata": {},
   "outputs": [
    {
     "data": {
      "text/plain": [
       "3"
      ]
     },
     "execution_count": 21,
     "metadata": {},
     "output_type": "execute_result"
    }
   ],
   "source": [
    "solution([1,2,3,4,5,6], 5)"
   ]
  },
  {
   "cell_type": "markdown",
   "id": "4a077936",
   "metadata": {},
   "source": [
    "## 문자열 밀기"
   ]
  },
  {
   "cell_type": "code",
   "execution_count": 147,
   "id": "011d36e5",
   "metadata": {},
   "outputs": [],
   "source": [
    "# test 1 (X) -> A[0]의 문자가 뒤에 중복으로 나오는 경우 에러 발생\n",
    "def solution(A, B):\n",
    "    for i in range(len(B)):\n",
    "        if A[0] == B[i]:\n",
    "            if B[i:] in A and B[:i] in A:\n",
    "                return i\n",
    "            else:\n",
    "                return -1"
   ]
  },
  {
   "cell_type": "code",
   "execution_count": 149,
   "id": "33726820",
   "metadata": {},
   "outputs": [
    {
     "data": {
      "text/plain": [
       "-1"
      ]
     },
     "execution_count": 149,
     "metadata": {},
     "output_type": "execute_result"
    }
   ],
   "source": [
    "solution(\"aapple\", \"aelppa\")"
   ]
  },
  {
   "cell_type": "code",
   "execution_count": 154,
   "id": "c6093fa2",
   "metadata": {},
   "outputs": [],
   "source": [
    "# test 2 (O) -> 웅재님 코드\n",
    "def solution(A, B):\n",
    "    answer = 1\n",
    "    if A == B:\n",
    "        return 0\n",
    "    while True:\n",
    "        A = A[-1]+A[0:-1]\n",
    "        if A != B:\n",
    "            answer += 1\n",
    "            if answer > len(A+B):\n",
    "                return -1\n",
    "        else:\n",
    "            return answer"
   ]
  },
  {
   "cell_type": "code",
   "execution_count": 156,
   "id": "f22bc120",
   "metadata": {},
   "outputs": [
    {
     "data": {
      "text/plain": [
       "1"
      ]
     },
     "execution_count": 156,
     "metadata": {},
     "output_type": "execute_result"
    }
   ],
   "source": [
    "solution('hello', 'ohell')"
   ]
  },
  {
   "cell_type": "code",
   "execution_count": 157,
   "id": "93e77553",
   "metadata": {},
   "outputs": [],
   "source": [
    "# rotate, deque 함수 이용하기"
   ]
  },
  {
   "cell_type": "markdown",
   "id": "00ea1143",
   "metadata": {},
   "source": [
    "## 영어가 싫어요"
   ]
  },
  {
   "cell_type": "code",
   "execution_count": 192,
   "id": "e633ad6e",
   "metadata": {},
   "outputs": [],
   "source": [
    "# test 1 (X)\n",
    "num = {\"zero\":0, \"one\":1, \"two\":2, \"three\":3, \"four\":4, \"five\":5, \"six\":6, \"seven\":7, \"eight\":8, \"nine\":9}\n",
    "def solution(numbers):\n",
    "    answer = ''\n",
    "    for key, value in num.items() :\n",
    "        if key in numbers:\n",
    "            answer += str(num[key])\n",
    "    return answer"
   ]
  },
  {
   "cell_type": "code",
   "execution_count": 199,
   "id": "df850def",
   "metadata": {},
   "outputs": [],
   "source": [
    "# test 2 (0)\n",
    "num = {\"zero\":0, \"one\":1, \"two\":2, \"three\":3, \"four\":4, \"five\":5, \"six\":6, \"seven\":7, \"eight\":8, \"nine\":9}\n",
    "def solution(numbers):\n",
    "#     answer = ''\n",
    "    for key, value in num.items() :\n",
    "        if key in numbers:\n",
    "            numbers = numbers.replace(key, str(value))\n",
    "    return int(numbers)"
   ]
  },
  {
   "cell_type": "code",
   "execution_count": 200,
   "id": "9a71333c",
   "metadata": {},
   "outputs": [
    {
     "data": {
      "text/plain": [
       "61407"
      ]
     },
     "execution_count": 200,
     "metadata": {},
     "output_type": "execute_result"
    }
   ],
   "source": [
    "solution(\"sixonefourzeroseven\")"
   ]
  },
  {
   "cell_type": "code",
   "execution_count": 201,
   "id": "0f408924",
   "metadata": {},
   "outputs": [],
   "source": [
    "# enumerate 함수 이용하기\n",
    "def solution(numbers):\n",
    "    for num, eng in enumerate([\"zero\", \"one\", \"two\", \"three\", \"four\", \"five\", \"six\", \"seven\", \"eight\", \"nine\"]):\n",
    "        numbers = numbers.replace(eng, str(num))\n",
    "    return int(numbers)"
   ]
  },
  {
   "cell_type": "markdown",
   "id": "fcc1d90e",
   "metadata": {},
   "source": [
    "## 외계어 사전"
   ]
  },
  {
   "cell_type": "code",
   "execution_count": 85,
   "id": "0bf6dca5",
   "metadata": {},
   "outputs": [],
   "source": [
    "# test 1 (O) -> 순열 함수 사용\n",
    "from itertools import permutations\n",
    "def solution(spell, dic):\n",
    "    num = []\n",
    "    perm = list(permutations(spell, len(spell)))\n",
    "    for i in perm:\n",
    "        num.append(''.join(i))\n",
    "    for j in num:\n",
    "        if j in dic:\n",
    "            return 1\n",
    "    return 2"
   ]
  },
  {
   "cell_type": "code",
   "execution_count": 86,
   "id": "5802a258",
   "metadata": {},
   "outputs": [
    {
     "data": {
      "text/plain": [
       "2"
      ]
     },
     "execution_count": 86,
     "metadata": {},
     "output_type": "execute_result"
    }
   ],
   "source": [
    "solution([\"p\", \"o\", \"s\"], [\"sod\", \"eocd\", \"qixm\", \"adio\", \"soo\"])"
   ]
  },
  {
   "cell_type": "code",
   "execution_count": 87,
   "id": "c3f17014",
   "metadata": {},
   "outputs": [
    {
     "data": {
      "text/plain": [
       "1"
      ]
     },
     "execution_count": 87,
     "metadata": {},
     "output_type": "execute_result"
    }
   ],
   "source": [
    "solution([\"z\", \"d\", \"x\"], [\"def\", \"dww\", \"dzx\", \"loveaw\"])"
   ]
  },
  {
   "cell_type": "code",
   "execution_count": 91,
   "id": "211ecfe8",
   "metadata": {},
   "outputs": [],
   "source": [
    "# test 2 (O) -> 함수 사용 없는 코드\n",
    "def solution(spell, dic):\n",
    "    spell.sort()\n",
    "    for string in dic:\n",
    "        if len(spell) == len(string):\n",
    "            s = list(string)\n",
    "            s.sort()\n",
    "            if spell == s:\n",
    "                return 1\n",
    "    return 2"
   ]
  },
  {
   "cell_type": "code",
   "execution_count": 92,
   "id": "1348d29e",
   "metadata": {},
   "outputs": [
    {
     "data": {
      "text/plain": [
       "1"
      ]
     },
     "execution_count": 92,
     "metadata": {},
     "output_type": "execute_result"
    }
   ],
   "source": [
    "solution([\"z\", \"d\", \"x\"], [\"def\", \"dww\", \"dzx\", \"loveaw\"])"
   ]
  },
  {
   "cell_type": "code",
   "execution_count": 83,
   "id": "41127b6b",
   "metadata": {},
   "outputs": [],
   "source": [
    "# test 3 -> while 문 및 rotate 함수 사용해보기 (정답은 아님)\n",
    "from collections import deque\n",
    "def solution(spell, dic):\n",
    "    spell = deque(spell)\n",
    "    count = 0\n",
    "    while count != len(spell):\n",
    "        spell.rotate(1)\n",
    "        count += 1\n",
    "#         print(spell)\n",
    "        s = ''.join(spell)\n",
    "#         print(s)\n",
    "        if s in dic:\n",
    "            return 1\n",
    "    return 2"
   ]
  },
  {
   "cell_type": "code",
   "execution_count": 84,
   "id": "605fc2a7",
   "metadata": {},
   "outputs": [
    {
     "name": "stdout",
     "output_type": "stream",
     "text": [
      "deque(['s', 'p', 'o'])\n",
      "spo\n",
      "deque(['o', 's', 'p'])\n",
      "osp\n",
      "deque(['p', 'o', 's'])\n",
      "pos\n"
     ]
    },
    {
     "data": {
      "text/plain": [
       "2"
      ]
     },
     "execution_count": 84,
     "metadata": {},
     "output_type": "execute_result"
    }
   ],
   "source": [
    "solution([\"p\", \"o\", \"s\"], [\"sod\", \"eocd\", \"qixm\", \"adio\", \"soo\"])"
   ]
  }
 ],
 "metadata": {
  "kernelspec": {
   "display_name": "Python 3 (ipykernel)",
   "language": "python",
   "name": "python3"
  },
  "language_info": {
   "codemirror_mode": {
    "name": "ipython",
    "version": 3
   },
   "file_extension": ".py",
   "mimetype": "text/x-python",
   "name": "python",
   "nbconvert_exporter": "python",
   "pygments_lexer": "ipython3",
   "version": "3.9.12"
  }
 },
 "nbformat": 4,
 "nbformat_minor": 5
}
