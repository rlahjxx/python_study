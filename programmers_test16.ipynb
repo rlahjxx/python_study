{
 "cells": [
  {
   "cell_type": "markdown",
   "id": "3a227529",
   "metadata": {},
   "source": [
    "## 컨트롤 제트"
   ]
  },
  {
   "cell_type": "code",
   "execution_count": 132,
   "id": "c30abe4f",
   "metadata": {},
   "outputs": [],
   "source": [
    "# test 1 (X)\n",
    "def solution(s):\n",
    "    num = s.split()\n",
    "    for i in range(1,len(num)):\n",
    "        if num[0] == 'Z':\n",
    "            num[0] = 0\n",
    "        if num[i] == 'Z':\n",
    "            num[i] = -int(num[i-1])\n",
    "    return sum(map(int, num))"
   ]
  },
  {
   "cell_type": "code",
   "execution_count": 133,
   "id": "8771a61d",
   "metadata": {},
   "outputs": [
    {
     "data": {
      "text/plain": [
       "6"
      ]
     },
     "execution_count": 133,
     "metadata": {},
     "output_type": "execute_result"
    }
   ],
   "source": [
    "solution('2 Z Z 4')"
   ]
  },
  {
   "cell_type": "code",
   "execution_count": 45,
   "id": "5c318da9",
   "metadata": {},
   "outputs": [],
   "source": [
    "# test 2 (X)\n",
    "def solution(s):\n",
    "    num = s.replace(' ', '')\n",
    "    answer = []\n",
    "    for i in range(1,len(num)):\n",
    "        if num[0] == 'Z':\n",
    "            num[0] = 0\n",
    "        if num[i].isdigit() and num[i-1].isdigit():\n",
    "            answer.append(num[i-1])\n",
    "        elif num[i] == 'Z' and int(num[i-1]):\n",
    "            num[i] = -int(num[i-1])\n",
    "            answer.append(num[i])\n",
    "            answer.append()\n",
    "            print(num)\n",
    "        elif num[i] == 'Z' and num[i-1].isalpha():\n",
    "            num[i], num[i-1] = 0, 0\n",
    "            print(num)\n",
    "    return sum(map(int, answer))"
   ]
  },
  {
   "cell_type": "code",
   "execution_count": 46,
   "id": "dda59a39",
   "metadata": {},
   "outputs": [
    {
     "data": {
      "text/plain": [
       "2"
      ]
     },
     "execution_count": 46,
     "metadata": {},
     "output_type": "execute_result"
    }
   ],
   "source": [
    "solution('Z 2 3 Z')"
   ]
  },
  {
   "cell_type": "code",
   "execution_count": 97,
   "id": "0a026525",
   "metadata": {},
   "outputs": [],
   "source": [
    "# test 3\n",
    "def solution(s):\n",
    "    num = s.replace(' ', '')\n",
    "    answer = []\n",
    "    for i in range(1,len(num)):\n",
    "        if num[i].isdigit() and num[i-1].isdigit():\n",
    "            answer.append(num[i-1])\n",
    "    if num[-1].isdigit():\n",
    "        answer.append(num[-1])\n",
    "    return sum(map(int, answer))"
   ]
  },
  {
   "cell_type": "code",
   "execution_count": 98,
   "id": "b6ec8ec6",
   "metadata": {},
   "outputs": [
    {
     "data": {
      "text/plain": [
       "10"
      ]
     },
     "execution_count": 98,
     "metadata": {},
     "output_type": "execute_result"
    }
   ],
   "source": [
    "solution(\"10 20 30 40\")"
   ]
  },
  {
   "cell_type": "code",
   "execution_count": 130,
   "id": "2ad86977",
   "metadata": {},
   "outputs": [],
   "source": [
    "# test 4\n",
    "def solution(s):\n",
    "    num = s.split()\n",
    "    number = []\n",
    "    answer = []\n",
    "    for i in num:\n",
    "        if i.isdigit():\n",
    "            i = int(i)\n",
    "            number.append(i)\n",
    "        else:\n",
    "            number.append(i)\n",
    "    print(number)\n",
    "    for i in range(1,len(number)):\n",
    "        if type(number[i]) == int and type(number[i-1]) == int:\n",
    "            answer.append(number[i-1])\n",
    "            print\n",
    "    if type(number[-2]) == int and type(number[-1]) == int:\n",
    "        answer.append(number[-1])\n",
    "    elif type(number[-2]) == str and type(number[-1]) == int:\n",
    "        answer.append(number[-1])\n",
    "    return sum(map(int, answer))"
   ]
  },
  {
   "cell_type": "code",
   "execution_count": 131,
   "id": "e2d498d8",
   "metadata": {},
   "outputs": [
    {
     "name": "stdout",
     "output_type": "stream",
     "text": [
      "[1, 2, 'Z', 3]\n"
     ]
    },
    {
     "data": {
      "text/plain": [
       "4"
      ]
     },
     "execution_count": 131,
     "metadata": {},
     "output_type": "execute_result"
    }
   ],
   "source": [
    "solution(\"1 2 Z 3\")"
   ]
  },
  {
   "cell_type": "code",
   "execution_count": 179,
   "id": "a160e296",
   "metadata": {},
   "outputs": [],
   "source": [
    "# test 5\n",
    "def solution(s):\n",
    "    num = s.split()\n",
    "    number = []\n",
    "    for i in num:\n",
    "        if i.isdigit():\n",
    "            i = int(i)\n",
    "            number.append(i)\n",
    "        else:\n",
    "            number.append(i)\n",
    "    answer = number.copy()\n",
    "    for i in range(1,len(number)):\n",
    "        if number[0] == 'Z':\n",
    "            answer[0] = 0\n",
    "        if number[i] == 'Z' and type(number[i-1]) == int:\n",
    "            answer[i] = - answer[i-1]\n",
    "        if number[i] == 'Z' and number[i-1] == 'Z':\n",
    "            answer[i] = 0\n",
    "    return sum(answer)"
   ]
  },
  {
   "cell_type": "code",
   "execution_count": 181,
   "id": "de20a882",
   "metadata": {},
   "outputs": [
    {
     "data": {
      "text/plain": [
       "1"
      ]
     },
     "execution_count": 181,
     "metadata": {},
     "output_type": "execute_result"
    }
   ],
   "source": [
    "solution(\"1 2 Z Z 3 Z\")"
   ]
  },
  {
   "cell_type": "code",
   "execution_count": 221,
   "id": "1c405c2a",
   "metadata": {},
   "outputs": [],
   "source": [
    "# test 6 (테스트 2,7번만 통과)\n",
    "def solution(s):\n",
    "    num = s.split()\n",
    "    number = []\n",
    "    answer = []\n",
    "    for i in num:\n",
    "        if i.isdigit():\n",
    "            i = int(i)\n",
    "            number.append(i)\n",
    "        else:\n",
    "            number.append(i)\n",
    "    for j in range(1,len(number`)):\n",
    "        if num[0] != 'Z':\n",
    "            answer.append(j)\n",
    "        if type(j) == int:\n",
    "            answer.append(j)\n",
    "        else:\n",
    "            answer = answer[:-1]\n",
    "    return sum(answer)"
   ]
  },
  {
   "cell_type": "code",
   "execution_count": 241,
   "id": "241b70ca",
   "metadata": {},
   "outputs": [],
   "source": [
    "# test 7 (O)\n",
    "def solution(s):\n",
    "    num = s.split()\n",
    "    answer = []\n",
    "    for i in num:\n",
    "        if i != 'Z':\n",
    "            answer.append(i)\n",
    "        if i == 'Z':\n",
    "            answer = answer[:-1]\n",
    "    return sum(map(int, answer))"
   ]
  },
  {
   "cell_type": "code",
   "execution_count": 242,
   "id": "2adf08ba",
   "metadata": {},
   "outputs": [
    {
     "data": {
      "text/plain": [
       "40"
      ]
     },
     "execution_count": 242,
     "metadata": {},
     "output_type": "execute_result"
    }
   ],
   "source": [
    "solution(\"Z -30 30 Z Z 40\")"
   ]
  },
  {
   "cell_type": "markdown",
   "id": "62310ca1",
   "metadata": {},
   "source": [
    "## 다음에 올 숫자"
   ]
  },
  {
   "cell_type": "code",
   "execution_count": 255,
   "id": "b37061a9",
   "metadata": {},
   "outputs": [],
   "source": [
    "# test 1 (X)\n",
    "def solution(common):\n",
    "    for i in range(2, len(common)):\n",
    "        if common[i-1] + common[0] == common[i]:\n",
    "            return common[-1] + common[0]\n",
    "        elif common[i-1] * common[0] == common[i]:\n",
    "            return common[-1] * common[0]"
   ]
  },
  {
   "cell_type": "code",
   "execution_count": 256,
   "id": "98005fc7",
   "metadata": {},
   "outputs": [],
   "source": [
    "solution([7,14,28,56])"
   ]
  },
  {
   "cell_type": "code",
   "execution_count": 252,
   "id": "c97c0080",
   "metadata": {},
   "outputs": [],
   "source": [
    "# test 2 (O)\n",
    "def solution(common):\n",
    "    for i in range(2, len(common)):\n",
    "        if common[i-1] - common[i-2] == common[i] - common[i-1]:\n",
    "            return common[-1] + (common[i-1] - common[i-2])\n",
    "        else:\n",
    "            return common[-1] * (common[i-1]//common[i-2])"
   ]
  },
  {
   "cell_type": "code",
   "execution_count": 253,
   "id": "0dbd8cc7",
   "metadata": {},
   "outputs": [
    {
     "data": {
      "text/plain": [
       "112"
      ]
     },
     "execution_count": 253,
     "metadata": {},
     "output_type": "execute_result"
    }
   ],
   "source": [
    "solution([7,14,28,56])"
   ]
  },
  {
   "cell_type": "markdown",
   "id": "77f05f63",
   "metadata": {},
   "source": [
    "## 유한소수 판별하기"
   ]
  },
  {
   "cell_type": "code",
   "execution_count": 271,
   "id": "13182c16",
   "metadata": {},
   "outputs": [],
   "source": [
    "def solution(a, b):\n",
    "    from math import gcd\n",
    "    answer = 0\n",
    "    num = gcd(a,b)\n",
    "    a,b = a/num, b/num\n",
    "    answer = str(a/b).split('.')\n",
    "    if len(answer[1]) > 5:\n",
    "        return 2\n",
    "    else:\n",
    "        return 1"
   ]
  },
  {
   "cell_type": "code",
   "execution_count": 272,
   "id": "140a1dba",
   "metadata": {},
   "outputs": [
    {
     "data": {
      "text/plain": [
       "1"
      ]
     },
     "execution_count": 272,
     "metadata": {},
     "output_type": "execute_result"
    }
   ],
   "source": [
    "solution(7,20)"
   ]
  },
  {
   "cell_type": "code",
   "execution_count": null,
   "id": "54822777",
   "metadata": {},
   "outputs": [],
   "source": []
  }
 ],
 "metadata": {
  "kernelspec": {
   "display_name": "Python 3 (ipykernel)",
   "language": "python",
   "name": "python3"
  },
  "language_info": {
   "codemirror_mode": {
    "name": "ipython",
    "version": 3
   },
   "file_extension": ".py",
   "mimetype": "text/x-python",
   "name": "python",
   "nbconvert_exporter": "python",
   "pygments_lexer": "ipython3",
   "version": "3.9.12"
  }
 },
 "nbformat": 4,
 "nbformat_minor": 5
}
