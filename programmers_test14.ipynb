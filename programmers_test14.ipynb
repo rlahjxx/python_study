{
 "cells": [
  {
   "cell_type": "markdown",
   "id": "7de2f2a0",
   "metadata": {},
   "source": [
    "## 구슬을 나누는 경우의 수"
   ]
  },
  {
   "cell_type": "code",
   "execution_count": 7,
   "id": "04b182f6",
   "metadata": {},
   "outputs": [],
   "source": [
    "from math import factorial\n",
    "def solution(balls, share):\n",
    "    answer = factorial(balls) / (factorial(share) * factorial(balls-share))\n",
    "    return int(answer)"
   ]
  },
  {
   "cell_type": "code",
   "execution_count": 8,
   "id": "781cb4b6",
   "metadata": {},
   "outputs": [
    {
     "data": {
      "text/plain": [
       "3"
      ]
     },
     "execution_count": 8,
     "metadata": {},
     "output_type": "execute_result"
    }
   ],
   "source": [
    "solution(3,2)"
   ]
  },
  {
   "cell_type": "code",
   "execution_count": 19,
   "id": "873b9a0f",
   "metadata": {},
   "outputs": [],
   "source": [
    "# math 모듈의 combination(조합) 함수 이용해보기\n",
    "import math\n",
    "def solution(balls, share):\n",
    "    return math.comb(balls, share)"
   ]
  },
  {
   "cell_type": "code",
   "execution_count": 18,
   "id": "a832c21d",
   "metadata": {},
   "outputs": [
    {
     "data": {
      "text/plain": [
       "3"
      ]
     },
     "execution_count": 18,
     "metadata": {},
     "output_type": "execute_result"
    }
   ],
   "source": [
    "solution(3,2)"
   ]
  },
  {
   "cell_type": "markdown",
   "id": "02478e3e",
   "metadata": {},
   "source": [
    "## 진료 순서 정하기"
   ]
  },
  {
   "cell_type": "code",
   "execution_count": 30,
   "id": "63e9323f",
   "metadata": {},
   "outputs": [],
   "source": [
    "def solution(emergency):\n",
    "    answer = []\n",
    "    num = sorted(emergency, reverse=True)\n",
    "    for i in emergency:\n",
    "        for j in num:\n",
    "            if i == j:\n",
    "                answer.append(num.index(j) + 1)\n",
    "    return answer"
   ]
  },
  {
   "cell_type": "code",
   "execution_count": 31,
   "id": "f59320e5",
   "metadata": {},
   "outputs": [
    {
     "data": {
      "text/plain": [
       "[7, 6, 5, 4, 3, 2, 1]"
      ]
     },
     "execution_count": 31,
     "metadata": {},
     "output_type": "execute_result"
    }
   ],
   "source": [
    "solution([1, 2, 3, 4, 5, 6, 7])"
   ]
  },
  {
   "cell_type": "markdown",
   "id": "9371603c",
   "metadata": {},
   "source": [
    "## 소인수분해"
   ]
  },
  {
   "cell_type": "code",
   "execution_count": 57,
   "id": "017bf2c1",
   "metadata": {},
   "outputs": [],
   "source": [
    "# test 1 (O)\n",
    "def solution(n):\n",
    "    answer = []\n",
    "    num = []\n",
    "    for i in range(2,n+1):\n",
    "        if n % i == 0:\n",
    "            num.append(i)\n",
    "    if len(num) == 1:\n",
    "        return num\n",
    "    else:\n",
    "        for j in num:\n",
    "            count = 0\n",
    "            for k in range(1,j+1):\n",
    "                if j % k == 0:\n",
    "                    count += 1\n",
    "            if count == 2:\n",
    "                answer.append(j)\n",
    "    return answer"
   ]
  },
  {
   "cell_type": "code",
   "execution_count": 59,
   "id": "5575908c",
   "metadata": {},
   "outputs": [
    {
     "data": {
      "text/plain": [
       "[17]"
      ]
     },
     "execution_count": 59,
     "metadata": {},
     "output_type": "execute_result"
    }
   ],
   "source": [
    "solution(17)"
   ]
  },
  {
   "cell_type": "code",
   "execution_count": 72,
   "id": "873db79d",
   "metadata": {},
   "outputs": [],
   "source": [
    "# test 2 (O)\n",
    "def solution(n):\n",
    "    answer = []\n",
    "    d = 2\n",
    "    while d <= n:\n",
    "        if n % d == 0:\n",
    "            n /= d\n",
    "            if d not in answer:\n",
    "                answer.append(d)\n",
    "        else:\n",
    "            d += 1\n",
    "    return answer"
   ]
  },
  {
   "cell_type": "markdown",
   "id": "2094bb98",
   "metadata": {},
   "source": [
    "## 최빈값 구하기"
   ]
  },
  {
   "cell_type": "code",
   "execution_count": 119,
   "id": "9c3a0fa0",
   "metadata": {},
   "outputs": [],
   "source": [
    "def solution(array):\n",
    "    answer = []\n",
    "    if len(array) == 1:\n",
    "        return array[0]\n",
    "    num = sorted(list(set(array)))\n",
    "    for i in range(len(num)):\n",
    "        answer.append(array.count(num[i]))\n",
    "    if answer.count(max(answer)) >= 2:\n",
    "        return -1\n",
    "    else:\n",
    "        return num[answer.index(max(answer))]"
   ]
  },
  {
   "cell_type": "code",
   "execution_count": 121,
   "id": "166428a5",
   "metadata": {},
   "outputs": [
    {
     "data": {
      "text/plain": [
       "9"
      ]
     },
     "execution_count": 121,
     "metadata": {},
     "output_type": "execute_result"
    }
   ],
   "source": [
    "solution([2,9,9,9,5,7,3])"
   ]
  },
  {
   "cell_type": "code",
   "execution_count": null,
   "id": "4f04d3d1",
   "metadata": {},
   "outputs": [],
   "source": [
    "def solution(array):\n",
    "    dic_a = {}\n",
    "    for i in set(array) :\n",
    "        dic_a[i] = array.count(i)\n",
    "    answer = [k for k, v in dic_a.items() if v == max(dic_a.values())]\n",
    "    return answer[0] if len(answer) == 1 else -1"
   ]
  },
  {
   "cell_type": "code",
   "execution_count": 122,
   "id": "9477fa5b",
   "metadata": {},
   "outputs": [
    {
     "data": {
      "text/plain": [
       "9"
      ]
     },
     "execution_count": 122,
     "metadata": {},
     "output_type": "execute_result"
    }
   ],
   "source": [
    "solution([2,9,9,9,5,7,3])"
   ]
  },
  {
   "cell_type": "code",
   "execution_count": null,
   "id": "7f2f32e3",
   "metadata": {},
   "outputs": [],
   "source": []
  }
 ],
 "metadata": {
  "kernelspec": {
   "display_name": "Python 3 (ipykernel)",
   "language": "python",
   "name": "python3"
  },
  "language_info": {
   "codemirror_mode": {
    "name": "ipython",
    "version": 3
   },
   "file_extension": ".py",
   "mimetype": "text/x-python",
   "name": "python",
   "nbconvert_exporter": "python",
   "pygments_lexer": "ipython3",
   "version": "3.9.12"
  }
 },
 "nbformat": 4,
 "nbformat_minor": 5
}
