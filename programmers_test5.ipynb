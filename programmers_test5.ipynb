{
 "cells": [
  {
   "cell_type": "markdown",
   "id": "561df2f7",
   "metadata": {},
   "source": [
    "## 문자 반복 출력하기"
   ]
  },
  {
   "cell_type": "code",
   "execution_count": 14,
   "id": "0fd7f6d6",
   "metadata": {},
   "outputs": [],
   "source": [
    "def solution(my_string, n):\n",
    "    answer = ''\n",
    "    for i in my_string:\n",
    "        answer += i*n\n",
    "    return answer"
   ]
  },
  {
   "cell_type": "code",
   "execution_count": 15,
   "id": "1860bf30",
   "metadata": {},
   "outputs": [
    {
     "name": "stdout",
     "output_type": "stream",
     "text": [
      "hhheeellllllooo\n"
     ]
    }
   ],
   "source": [
    "print(solution('hello', 3))"
   ]
  },
  {
   "cell_type": "markdown",
   "id": "c822c4da",
   "metadata": {},
   "source": [
    "## 분수의 덧셈"
   ]
  },
  {
   "cell_type": "code",
   "execution_count": 49,
   "id": "3b83bb4d",
   "metadata": {},
   "outputs": [],
   "source": [
    "# test 1 (X)\n",
    "def solution(denum1, num1, denum2, num2):\n",
    "    n_list = []\n",
    "    m_list = []\n",
    "    for i in range(1, num1+1):\n",
    "        if num1 % i == 0:\n",
    "            n_list.append(i)\n",
    "    for j in range(1, num2+1):\n",
    "        if num2 % j== 0:\n",
    "            m_list.append(j)\n",
    "    if n_list in m_list :\n",
    "        return [denum2 + (denum1 * num1), num2]\n",
    "    elif m_list in n_list :\n",
    "        return [denum1 + (denum2 * num2), num1]\n",
    "    elif n_list == m_list :\n",
    "        return [denum1 + denum2, num1]\n",
    "    else:\n",
    "        return [(denum1 * num1) + (denum2 * num2), num1 * num2]"
   ]
  },
  {
   "cell_type": "code",
   "execution_count": 50,
   "id": "b2b87001",
   "metadata": {},
   "outputs": [
    {
     "name": "stdout",
     "output_type": "stream",
     "text": [
      "[14, 8]\n"
     ]
    }
   ],
   "source": [
    "print(solution(1,2,3,4))"
   ]
  },
  {
   "cell_type": "code",
   "execution_count": 79,
   "id": "b02bfcbc",
   "metadata": {},
   "outputs": [],
   "source": [
    "# test 2 (X)\n",
    "def solution(denum1, num1, denum2, num2):\n",
    "    n_list = []\n",
    "    m_list = []\n",
    "    for i in range(1, num1+1):\n",
    "        if num1 % i == 0:\n",
    "            n_list.append(i)\n",
    "    for j in range(1, num2+1):\n",
    "        if num2 % j== 0:\n",
    "            m_list.append(j)\n",
    "    nm_list = []\n",
    "    for k in n_list:\n",
    "        for l in m_list:\n",
    "            if k == l:\n",
    "                nm_list.append(k)\n",
    "    if len(nm_list) == len(n_list):\n",
    "        return [denum2 + (denum1 * num1), num2]\n",
    "    elif len(nm_list) == len(m_list):\n",
    "        return [denum1 + (denum2 * num2), num1]\n",
    "    elif len(nm_list) == len(m_list) == len(n_list):\n",
    "        return [denum1 + denum2, num1]\n",
    "    elif len(nm_list) == 1:\n",
    "        return [(denum1 * num2) + (denum2 * num1), num1 * num2]"
   ]
  },
  {
   "cell_type": "code",
   "execution_count": 80,
   "id": "e3636558",
   "metadata": {},
   "outputs": [
    {
     "name": "stdout",
     "output_type": "stream",
     "text": [
      "[3, 4]\n"
     ]
    }
   ],
   "source": [
    "print(solution(1,4,1,2))"
   ]
  },
  {
   "cell_type": "code",
   "execution_count": 92,
   "id": "55c66a32",
   "metadata": {},
   "outputs": [],
   "source": [
    "# test 3 (X)\n",
    "def solution(denum1, num1, denum2, num2):\n",
    "    n_list = []\n",
    "    m_list = []\n",
    "    for i in range(1, num1+1):\n",
    "        if num1 % i == 0:\n",
    "            n_list.append(i)\n",
    "    for j in range(1, num2+1):\n",
    "        if num2 % j== 0:\n",
    "            m_list.append(j)\n",
    "    nm_list = []\n",
    "    for k in n_list:\n",
    "        for l in m_list:\n",
    "            if k == l:\n",
    "                nm_list.append(k)\n",
    "    if len(nm_list) > 1 :\n",
    "        if len(nm_list) == len(n_list):\n",
    "            return [denum2 + (denum1 * num1), num2]\n",
    "        elif len(nm_list) == len(m_list):\n",
    "            return [denum1 + (denum2 * num2), num1]\n",
    "        elif len(nm_list) == len(m_list) == len(n_list):\n",
    "            return [denum1 + denum2, num1]\n",
    "        else:\n",
    "            a = max(nm_list)*(num1//max(nm_list))*(num2//max(nm_list))\n",
    "            return [denum1*(a//num1) + denum2*(a//num2), a]\n",
    "    else:\n",
    "        return [(denum1 * num2) + (denum2 * num1), num1 * num2]"
   ]
  },
  {
   "cell_type": "code",
   "execution_count": 93,
   "id": "c90eabb7",
   "metadata": {},
   "outputs": [
    {
     "name": "stdout",
     "output_type": "stream",
     "text": [
      "[7, 12]\n"
     ]
    }
   ],
   "source": [
    "print(solution(1,4,2,6))"
   ]
  },
  {
   "cell_type": "code",
   "execution_count": 118,
   "id": "800a712e",
   "metadata": {},
   "outputs": [],
   "source": [
    "# test 4 (O)\n",
    "def solution(denum1, num1, denum2, num2):\n",
    "    n = (denum1*num2) + (denum2*num1)\n",
    "    m = num1 * num2\n",
    "    n_list = []\n",
    "    m_list = []\n",
    "    for i in range(1, n+1):\n",
    "        if n % i == 0:\n",
    "            n_list.append(i)\n",
    "    for j in range(1, m+1):\n",
    "        if m % j== 0:\n",
    "            m_list.append(j)\n",
    "    nm_list = []\n",
    "    for k in n_list:\n",
    "        for l in m_list:\n",
    "            if k == l:\n",
    "                nm_list.append(k)\n",
    "    maximum = max(nm_list)\n",
    "    return [n/maximum, m/maximum]"
   ]
  },
  {
   "cell_type": "code",
   "execution_count": 119,
   "id": "8f29297d",
   "metadata": {},
   "outputs": [
    {
     "name": "stdout",
     "output_type": "stream",
     "text": [
      "[5.0, 4.0]\n"
     ]
    }
   ],
   "source": [
    "print(solution(2,4,6,8))"
   ]
  },
  {
   "cell_type": "markdown",
   "id": "7cd5cd9c",
   "metadata": {},
   "source": [
    "### 최대공약수, 최소공배수 함수 사용하기"
   ]
  },
  {
   "cell_type": "code",
   "execution_count": 120,
   "id": "ef89257c",
   "metadata": {},
   "outputs": [],
   "source": [
    "from math import gcd  # 최대공약수\n",
    "from math import lcm  # 최소공배수\n",
    "def solution(denum1, num1, denum2, num2):\n",
    "    n = (denum1*num2) + (denum2*num1)\n",
    "    m = num1 * num2\n",
    "    nm_gcd = gcd(n,m)\n",
    "    return [n/nm_gcd, m/nm_gcd]"
   ]
  },
  {
   "cell_type": "code",
   "execution_count": 121,
   "id": "b3ca1830",
   "metadata": {},
   "outputs": [
    {
     "name": "stdout",
     "output_type": "stream",
     "text": [
      "[5.0, 4.0]\n"
     ]
    }
   ],
   "source": [
    "print(solution(2,4,6,8))"
   ]
  },
  {
   "cell_type": "code",
   "execution_count": 123,
   "id": "2d426c3d",
   "metadata": {},
   "outputs": [
    {
     "data": {
      "text/plain": [
       "24"
      ]
     },
     "execution_count": 123,
     "metadata": {},
     "output_type": "execute_result"
    }
   ],
   "source": [
    "n = 6\n",
    "m = 8\n",
    "lcm(n,m)"
   ]
  },
  {
   "cell_type": "markdown",
   "id": "713bf4cb",
   "metadata": {},
   "source": [
    "## 제곱수 판별하기"
   ]
  },
  {
   "cell_type": "code",
   "execution_count": 136,
   "id": "5eb08050",
   "metadata": {},
   "outputs": [],
   "source": [
    "# test 1 (X)\n",
    "def solution(n):\n",
    "    n_list = []\n",
    "    for i in range(1, n+1):\n",
    "        if n % i == 0:\n",
    "            n_list.append(i)\n",
    "    print(n_list)\n",
    "    for j in n_list:\n",
    "        if n % j == 0:\n",
    "            return 1\n",
    "        else:\n",
    "            return 2"
   ]
  },
  {
   "cell_type": "code",
   "execution_count": 138,
   "id": "f95520df",
   "metadata": {},
   "outputs": [
    {
     "name": "stdout",
     "output_type": "stream",
     "text": [
      "[1, 2, 13, 26, 37, 74, 481, 962]\n",
      "1\n"
     ]
    }
   ],
   "source": [
    "print(solution(962))"
   ]
  },
  {
   "cell_type": "code",
   "execution_count": 142,
   "id": "23edb6e4",
   "metadata": {},
   "outputs": [],
   "source": [
    "# test 2 (O)\n",
    "def solution(n):\n",
    "    num = int(n**(1/2))\n",
    "    if num *num == n:\n",
    "        return 1\n",
    "    else:\n",
    "        return 2"
   ]
  },
  {
   "cell_type": "code",
   "execution_count": 143,
   "id": "f444007e",
   "metadata": {},
   "outputs": [
    {
     "name": "stdout",
     "output_type": "stream",
     "text": [
      "1\n"
     ]
    }
   ],
   "source": [
    "print(solution(144))"
   ]
  },
  {
   "cell_type": "markdown",
   "id": "35e4202d",
   "metadata": {},
   "source": [
    "## 제곱근 함수 사용하기"
   ]
  },
  {
   "cell_type": "code",
   "execution_count": 149,
   "id": "d29894b1",
   "metadata": {},
   "outputs": [],
   "source": [
    "from math import sqrt\n",
    "def solution(n):\n",
    "    if int(sqrt(n))==sqrt(n):\n",
    "        return 1\n",
    "    else:\n",
    "        return 2"
   ]
  },
  {
   "cell_type": "code",
   "execution_count": 150,
   "id": "38cd40ce",
   "metadata": {},
   "outputs": [
    {
     "name": "stdout",
     "output_type": "stream",
     "text": [
      "1\n"
     ]
    }
   ],
   "source": [
    "print(solution(144))"
   ]
  },
  {
   "cell_type": "code",
   "execution_count": null,
   "id": "50c15e78",
   "metadata": {},
   "outputs": [],
   "source": []
  }
 ],
 "metadata": {
  "kernelspec": {
   "display_name": "Python 3 (ipykernel)",
   "language": "python",
   "name": "python3"
  },
  "language_info": {
   "codemirror_mode": {
    "name": "ipython",
    "version": 3
   },
   "file_extension": ".py",
   "mimetype": "text/x-python",
   "name": "python",
   "nbconvert_exporter": "python",
   "pygments_lexer": "ipython3",
   "version": "3.9.12"
  }
 },
 "nbformat": 4,
 "nbformat_minor": 5
}
