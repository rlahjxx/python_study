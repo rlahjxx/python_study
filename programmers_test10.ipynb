{
 "cells": [
  {
   "cell_type": "markdown",
   "id": "d4c4c29e",
   "metadata": {},
   "source": [
    "## 문자열 정렬하기"
   ]
  },
  {
   "cell_type": "code",
   "execution_count": 8,
   "id": "1841da8e",
   "metadata": {},
   "outputs": [],
   "source": [
    "def solution(my_string):\n",
    "    answer = ''\n",
    "    num = sorted(my_string.lower())\n",
    "    for i in num:\n",
    "        answer += i\n",
    "    return answer"
   ]
  },
  {
   "cell_type": "code",
   "execution_count": 9,
   "id": "a80c23c5",
   "metadata": {},
   "outputs": [
    {
     "data": {
      "text/plain": [
       "'ehllo'"
      ]
     },
     "execution_count": 9,
     "metadata": {},
     "output_type": "execute_result"
    }
   ],
   "source": [
    "solution('HEllo')"
   ]
  },
  {
   "cell_type": "code",
   "execution_count": 10,
   "id": "96697964",
   "metadata": {},
   "outputs": [],
   "source": [
    "def solution(my_string):\n",
    "    answer = \"\".join(sorted(list(my_string.lower())))\n",
    "    return answer"
   ]
  },
  {
   "cell_type": "code",
   "execution_count": 11,
   "id": "aea25b39",
   "metadata": {},
   "outputs": [
    {
     "data": {
      "text/plain": [
       "'ehllo'"
      ]
     },
     "execution_count": 11,
     "metadata": {},
     "output_type": "execute_result"
    }
   ],
   "source": [
    "solution('HEllo')"
   ]
  },
  {
   "cell_type": "markdown",
   "id": "5c547474",
   "metadata": {},
   "source": [
    "## 2차원으로 만들기"
   ]
  },
  {
   "cell_type": "code",
   "execution_count": 58,
   "id": "01414817",
   "metadata": {},
   "outputs": [],
   "source": [
    "# test 1 (X) - list로 안 바꿔줘서 error 발생\n",
    "import numpy as np\n",
    "def solution(num_list, n):\n",
    "    data = np.array(num_list)\n",
    "    answer = data.reshape(len(num_list)//n, n)\n",
    "    return answer"
   ]
  },
  {
   "cell_type": "code",
   "execution_count": 59,
   "id": "06b63cf0",
   "metadata": {},
   "outputs": [
    {
     "data": {
      "text/plain": [
       "array([[100,  95,   2],\n",
       "       [  4,   5,   6],\n",
       "       [ 18,  33, 948]])"
      ]
     },
     "execution_count": 59,
     "metadata": {},
     "output_type": "execute_result"
    }
   ],
   "source": [
    "solution([100, 95, 2, 4, 5, 6, 18, 33, 948], 3)"
   ]
  },
  {
   "cell_type": "code",
   "execution_count": 48,
   "id": "4ab53328",
   "metadata": {},
   "outputs": [],
   "source": [
    "# test 2 (O)\n",
    "def solution(num_list, n):\n",
    "    answer = []\n",
    "    for i in range(len(num_list)//n):\n",
    "        answer += [num_list[i*n : (i+1)*n]]\n",
    "    return answer"
   ]
  },
  {
   "cell_type": "code",
   "execution_count": 49,
   "id": "20d1a34c",
   "metadata": {},
   "outputs": [
    {
     "data": {
      "text/plain": [
       "[[100, 95, 2], [4, 5, 6], [18, 33, 948]]"
      ]
     },
     "execution_count": 49,
     "metadata": {},
     "output_type": "execute_result"
    }
   ],
   "source": [
    "solution([100, 95, 2, 4, 5, 6, 18, 33, 948], 3)"
   ]
  },
  {
   "cell_type": "code",
   "execution_count": 54,
   "id": "b769c2cb",
   "metadata": {},
   "outputs": [],
   "source": [
    "import numpy as np\n",
    "def solution(num_list, n):\n",
    "    answer = np.array(num_list).reshape(-1,n) # -1은 전체 데이터를 가리킴\n",
    "    return answer.tolist()"
   ]
  },
  {
   "cell_type": "code",
   "execution_count": 55,
   "id": "4c4a56ea",
   "metadata": {},
   "outputs": [
    {
     "data": {
      "text/plain": [
       "[[100, 95, 2], [4, 5, 6], [18, 33, 948]]"
      ]
     },
     "execution_count": 55,
     "metadata": {},
     "output_type": "execute_result"
    }
   ],
   "source": [
    "solution([100, 95, 2, 4, 5, 6, 18, 33, 948], 3)"
   ]
  },
  {
   "cell_type": "markdown",
   "id": "e34f5a70",
   "metadata": {},
   "source": [
    "## 배열 회전시키기"
   ]
  },
  {
   "cell_type": "code",
   "execution_count": 15,
   "id": "9e2a537e",
   "metadata": {},
   "outputs": [],
   "source": [
    "# test 1 (X)\n",
    "def solution(numbers, direction):\n",
    "    answer = []\n",
    "    if direction == 'right':\n",
    "        for i in range(len(numbers)):\n",
    "            answer.append(numbers[i-1])\n",
    "    else :  \n",
    "        for j in range(len(numbers)):\n",
    "            while True:\n",
    "                try:\n",
    "                    answer.append(numbers[j+1])\n",
    "                    break\n",
    "                except ValueError:\n",
    "                    answer.append(numbers[0])\n",
    "    return answer"
   ]
  },
  {
   "cell_type": "code",
   "execution_count": 31,
   "id": "a5cab100",
   "metadata": {},
   "outputs": [],
   "source": [
    "# test 2 (O)\n",
    "def solution(numbers, direction):\n",
    "    answer = []\n",
    "    if direction == 'right':\n",
    "        for i in range(len(numbers)):\n",
    "            answer.append(numbers[i-1])\n",
    "    else :\n",
    "        for j in range(1, len(numbers)):\n",
    "            answer.append(numbers[j])\n",
    "        answer.append(numbers[0])\n",
    "    return answer"
   ]
  },
  {
   "cell_type": "code",
   "execution_count": 32,
   "id": "a25e54a4",
   "metadata": {},
   "outputs": [
    {
     "data": {
      "text/plain": [
       "[3, 1, 2]"
      ]
     },
     "execution_count": 32,
     "metadata": {},
     "output_type": "execute_result"
    }
   ],
   "source": [
    "solution([1, 2, 3], 'right')"
   ]
  },
  {
   "cell_type": "code",
   "execution_count": 33,
   "id": "b63a8884",
   "metadata": {},
   "outputs": [
    {
     "data": {
      "text/plain": [
       "[455, 6, 4, -1, 45, 6, 4]"
      ]
     },
     "execution_count": 33,
     "metadata": {},
     "output_type": "execute_result"
    }
   ],
   "source": [
    "solution([4, 455, 6, 4, -1, 45, 6], 'left')"
   ]
  },
  {
   "cell_type": "code",
   "execution_count": 34,
   "id": "6a52c5ca",
   "metadata": {},
   "outputs": [],
   "source": [
    "def solution(numbers, direction):\n",
    "    return [numbers[-1]] + numbers[:-1] if direction == 'right' else numbers[1:] + [numbers[0]]"
   ]
  },
  {
   "cell_type": "code",
   "execution_count": 35,
   "id": "823b2459",
   "metadata": {},
   "outputs": [
    {
     "data": {
      "text/plain": [
       "[455, 6, 4, -1, 45, 6, 4]"
      ]
     },
     "execution_count": 35,
     "metadata": {},
     "output_type": "execute_result"
    }
   ],
   "source": [
    "solution([4, 455, 6, 4, -1, 45, 6], 'left')"
   ]
  },
  {
   "cell_type": "code",
   "execution_count": null,
   "id": "eef01ed0",
   "metadata": {},
   "outputs": [],
   "source": []
  }
 ],
 "metadata": {
  "kernelspec": {
   "display_name": "Python 3 (ipykernel)",
   "language": "python",
   "name": "python3"
  },
  "language_info": {
   "codemirror_mode": {
    "name": "ipython",
    "version": 3
   },
   "file_extension": ".py",
   "mimetype": "text/x-python",
   "name": "python",
   "nbconvert_exporter": "python",
   "pygments_lexer": "ipython3",
   "version": "3.9.12"
  }
 },
 "nbformat": 4,
 "nbformat_minor": 5
}
