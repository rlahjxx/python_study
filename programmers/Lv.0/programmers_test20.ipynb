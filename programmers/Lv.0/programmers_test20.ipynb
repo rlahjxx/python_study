{
 "cells": [
  {
   "cell_type": "markdown",
   "id": "2d98b202",
   "metadata": {},
   "source": [
    "## 다항식 더하기\n",
    "한 개 이상의 항의 합으로 이루어진 식을 다항식이라고 합니다. 다항식을 계산할 때는 동류항끼리 계산해 정리합니다. 덧셈으로 이루어진 다항식 polynomial이 매개변수로 주어질 때, 동류항끼리 더한 결괏값을 문자열로 return 하도록 solution 함수를 완성해보세요. 같은 식이라면 가장 짧은 수식을 return 합니다."
   ]
  },
  {
   "cell_type": "code",
   "execution_count": 45,
   "id": "0e583ecd",
   "metadata": {},
   "outputs": [],
   "source": [
    "def solution(polynomial):\n",
    "    n_digit, n_x = [], []\n",
    "    # 공백 제거 후 '+'로 split\n",
    "    num = polynomial.replace(' ', '')\n",
    "    num = num.split('+')\n",
    "    for i in num :\n",
    "        if i.isdigit() :\n",
    "            n_digit.append(int(i))\n",
    "        else :\n",
    "            n_x.append(i)\n",
    "    count = 0\n",
    "    for j in n_x :\n",
    "        if len(j) == 1:\n",
    "            count += 1\n",
    "        else :\n",
    "            count += int(j[:len(j)-1])\n",
    "    if sum(n_digit) == 0 :\n",
    "        if count == 1 :\n",
    "            return 'x'\n",
    "        else :\n",
    "            return str(count) + 'x'\n",
    "    elif count == 0 :\n",
    "        return str(sum(n_digit))\n",
    "    elif count == 1 :\n",
    "        return 'x + ' + str(sum(n_digit))\n",
    "    elif sum(n_digit) > 0 and count > 1 :\n",
    "        return str(count) + 'x + ' + str(sum(n_digit))"
   ]
  },
  {
   "cell_type": "code",
   "execution_count": 46,
   "id": "370eada3",
   "metadata": {},
   "outputs": [
    {
     "data": {
      "text/plain": [
       "'101x'"
      ]
     },
     "execution_count": 46,
     "metadata": {},
     "output_type": "execute_result"
    }
   ],
   "source": [
    "solution(\"2x + 99x\")"
   ]
  },
  {
   "cell_type": "markdown",
   "id": "e99532e4",
   "metadata": {},
   "source": [
    "## 안전지대\n",
    "다음 그림과 같이 지뢰가 있는 지역과 지뢰에 인접한 위, 아래, 좌, 우 대각선 칸을 모두 위험지역으로 분류합니다. 지뢰는 2차원 배열 board에 1로 표시되어 있고 board에는 지뢰가 매설 된 지역 1과, 지뢰가 없는 지역 0만 존재합니다.\n",
    "지뢰가 매설된 지역의 지도 board가 매개변수로 주어질 때, 안전한 지역의 칸 수를 return하도록 solution 함수를 완성해주세요."
   ]
  },
  {
   "cell_type": "code",
   "execution_count": 58,
   "id": "6739ab6b",
   "metadata": {},
   "outputs": [],
   "source": [
    "# 2차원 배열에서의 copy 조심 !!!! => 깊은 복사(copy.deepcopy 모듈 이용해야 함)\n",
    "# test 1 (O)\n",
    "\n",
    "import copy # deepcopy 함수 이용하기 위해 모듈 불러오기\n",
    "\n",
    "# board에서 1이 있는 좌표를 기준으로 좌,우를 0 -> 1로 바꿔주는 정의 함수 선언\n",
    "def change(board, i , j) :\n",
    "    board[i][j] = 1\n",
    "    if j != 0 : # 가장 왼쪽 줄에 폭탄이 있는 경우가 아니면 실행, 있으면 pass\n",
    "        board[i][j - 1] = 1\n",
    "    if j != len(board[i]) - 1 : # 가장 오른쪽 줄에 폭탄이 있는 경우 실행, 있으면 pass\n",
    "        board[i][j + 1] = 1\n",
    "    return board\n",
    "\n",
    "\n",
    "def solution(board):\n",
    "    b = copy.deepcopy(board) # 그냥 copy(얕은 복사)만으로는 2차원 배열에서 작용하지 않으므로, deepcopy(깊은 복사) 적용\n",
    "    for i in range(len(b)):\n",
    "        for j in range(len(b[i])):\n",
    "            if b[i][j] == 1 :\n",
    "                board = change(board, i, j)\n",
    "                if i != 0: # 가장 위쪽에 폭탄이 있는 경우가 아니면 실행, 있으면 pass\n",
    "                    board = change(board, i-1, j)\n",
    "                if i != len(b) - 1 : # 가장 아래쪽에 폭탄이 있는 경우가 아니면 실행, 있으면 pass\n",
    "                    board = change(board, i+1, j)\n",
    "    # board에서 0의 개수 세기\n",
    "    answer = 0                \n",
    "    for m in board :\n",
    "        answer += m.count(0)\n",
    "    return answer"
   ]
  },
  {
   "cell_type": "code",
   "execution_count": 59,
   "id": "823b2351",
   "metadata": {},
   "outputs": [
    {
     "data": {
      "text/plain": [
       "16"
      ]
     },
     "execution_count": 59,
     "metadata": {},
     "output_type": "execute_result"
    }
   ],
   "source": [
    "solution([[0, 0, 0, 0, 0], [0, 0, 0, 0, 0], [0, 0, 0, 0, 0], [0, 0, 1, 0, 0], [0, 0, 0, 0, 0]])"
   ]
  },
  {
   "cell_type": "code",
   "execution_count": 36,
   "id": "372c8f2e",
   "metadata": {},
   "outputs": [
    {
     "data": {
      "text/plain": [
       "[[1, 0, 0, 0, 0],\n",
       " [0, 1, 0, 0, 0],\n",
       " [0, 0, 0, 0, 0],\n",
       " [0, 0, 0, 0, 0],\n",
       " [0, 0, 0, 0, 0]]"
      ]
     },
     "execution_count": 36,
     "metadata": {},
     "output_type": "execute_result"
    }
   ],
   "source": [
    "b[0][0] = 1\n",
    "board"
   ]
  },
  {
   "cell_type": "code",
   "execution_count": null,
   "id": "273702c3",
   "metadata": {},
   "outputs": [],
   "source": []
  }
 ],
 "metadata": {
  "kernelspec": {
   "display_name": "Python 3 (ipykernel)",
   "language": "python",
   "name": "python3"
  },
  "language_info": {
   "codemirror_mode": {
    "name": "ipython",
    "version": 3
   },
   "file_extension": ".py",
   "mimetype": "text/x-python",
   "name": "python",
   "nbconvert_exporter": "python",
   "pygments_lexer": "ipython3",
   "version": "3.9.12"
  }
 },
 "nbformat": 4,
 "nbformat_minor": 5
}
