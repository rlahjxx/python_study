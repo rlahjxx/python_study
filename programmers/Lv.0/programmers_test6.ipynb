{
 "cells": [
  {
   "cell_type": "markdown",
   "id": "f4d7e7de",
   "metadata": {},
   "source": [
    "## 각도에 따른 return 값 분류"
   ]
  },
  {
   "cell_type": "code",
   "execution_count": 7,
   "id": "141f2878",
   "metadata": {},
   "outputs": [],
   "source": [
    "def solution(angle):\n",
    "    if 0 < angle < 90:\n",
    "        return 1\n",
    "    elif angle == 90:\n",
    "        return 2\n",
    "    elif 90 < angle < 180:\n",
    "        return 3\n",
    "    elif angle == 180:\n",
    "        return 4"
   ]
  },
  {
   "cell_type": "code",
   "execution_count": 9,
   "id": "9f193578",
   "metadata": {},
   "outputs": [
    {
     "name": "stdout",
     "output_type": "stream",
     "text": [
      "1\n"
     ]
    }
   ],
   "source": [
    "print(solution(70))"
   ]
  },
  {
   "cell_type": "markdown",
   "id": "5f366f9e",
   "metadata": {},
   "source": [
    "## 배열 원소의 길이"
   ]
  },
  {
   "cell_type": "code",
   "execution_count": 10,
   "id": "6e494bdf",
   "metadata": {},
   "outputs": [],
   "source": [
    "def solution(strlist):\n",
    "    answer = []\n",
    "    for i in strlist:\n",
    "        answer.append(len(i))\n",
    "    return answer"
   ]
  },
  {
   "cell_type": "code",
   "execution_count": 11,
   "id": "fc10960a",
   "metadata": {},
   "outputs": [
    {
     "name": "stdout",
     "output_type": "stream",
     "text": [
      "[2, 3, 3, 6]\n"
     ]
    }
   ],
   "source": [
    "print(solution([\"We\", \"are\", \"the\", \"world!\"]))"
   ]
  },
  {
   "cell_type": "code",
   "execution_count": 12,
   "id": "e4466de3",
   "metadata": {},
   "outputs": [],
   "source": [
    "def solution(age):\n",
    "    answer = (2022 - age) +1\n",
    "    return answer"
   ]
  },
  {
   "cell_type": "code",
   "execution_count": 14,
   "id": "e0a15b19",
   "metadata": {},
   "outputs": [
    {
     "data": {
      "text/plain": [
       "2000"
      ]
     },
     "execution_count": 14,
     "metadata": {},
     "output_type": "execute_result"
    }
   ],
   "source": [
    "solution(23)"
   ]
  },
  {
   "cell_type": "markdown",
   "id": "27df74f4",
   "metadata": {},
   "source": [
    "## 좌표의 사분면 찾기"
   ]
  },
  {
   "cell_type": "code",
   "execution_count": 19,
   "id": "ec2506af",
   "metadata": {},
   "outputs": [],
   "source": [
    "# test 1 (O)\n",
    "def solution(dot):\n",
    "    n = dot[0]/abs(dot[0])\n",
    "    m = dot[1]/abs(dot[1])\n",
    "    if n == 1 and m == 1:\n",
    "        return 1\n",
    "    elif n == -1 and m == 1:\n",
    "        return 2\n",
    "    elif n == -1 and m == -1:\n",
    "        return 3\n",
    "    elif n == 1 and m == -1:\n",
    "        return 4"
   ]
  },
  {
   "cell_type": "code",
   "execution_count": 21,
   "id": "7ce39cfc",
   "metadata": {},
   "outputs": [
    {
     "name": "stdout",
     "output_type": "stream",
     "text": [
      "3\n"
     ]
    }
   ],
   "source": [
    "print(solution([-3,-6]))"
   ]
  },
  {
   "cell_type": "code",
   "execution_count": 22,
   "id": "287d6674",
   "metadata": {},
   "outputs": [],
   "source": [
    "# 다른 사람 풀이 중 신박한 코드 발견..!\n",
    "def solution(dot):\n",
    "    a, b = 1, 0\n",
    "    if dot[0]*dot[1] > 0:\n",
    "        b = 1\n",
    "    if dot[1] < 0:\n",
    "        a = 2\n",
    "    return 2*a-b"
   ]
  },
  {
   "cell_type": "markdown",
   "id": "ac1ac56c",
   "metadata": {},
   "source": [
    "## 배열 자르기"
   ]
  },
  {
   "cell_type": "code",
   "execution_count": 24,
   "id": "7013ed31",
   "metadata": {},
   "outputs": [],
   "source": [
    "# test 1 (O)\n",
    "def solution(numbers, num1, num2):\n",
    "    answer = []\n",
    "    for i in range(num1, num2+1):\n",
    "        answer.append(numbers[i])\n",
    "    return answer"
   ]
  },
  {
   "cell_type": "code",
   "execution_count": 28,
   "id": "c505ffe2",
   "metadata": {},
   "outputs": [
    {
     "name": "stdout",
     "output_type": "stream",
     "text": [
      "[2, 3, 4]\n"
     ]
    }
   ],
   "source": [
    "numbers = [1, 2, 3, 4, 5]\n",
    "print(solution(numbers,1,3))"
   ]
  },
  {
   "cell_type": "code",
   "execution_count": 31,
   "id": "3c291899",
   "metadata": {},
   "outputs": [],
   "source": [
    "# test 2\n",
    "def solution(numbers, num1, num2):\n",
    "    return numbers[num1:num2+1]"
   ]
  },
  {
   "cell_type": "code",
   "execution_count": 30,
   "id": "48955d27",
   "metadata": {},
   "outputs": [
    {
     "name": "stdout",
     "output_type": "stream",
     "text": [
      "[2, 3, 4]\n"
     ]
    }
   ],
   "source": [
    "numbers = [1, 2, 3, 4, 5]\n",
    "print(solution(numbers,1,3))"
   ]
  },
  {
   "cell_type": "markdown",
   "id": "b090b8f8",
   "metadata": {},
   "source": [
    "## 중앙값 구하기"
   ]
  },
  {
   "cell_type": "code",
   "execution_count": 38,
   "id": "37aa15c4",
   "metadata": {},
   "outputs": [],
   "source": [
    "def solution(array):\n",
    "    array.sort()\n",
    "    answer = array[int(len(array)//2)]\n",
    "    return answer"
   ]
  },
  {
   "cell_type": "code",
   "execution_count": 39,
   "id": "3558be36",
   "metadata": {},
   "outputs": [
    {
     "data": {
      "text/plain": [
       "7"
      ]
     },
     "execution_count": 39,
     "metadata": {},
     "output_type": "execute_result"
    }
   ],
   "source": [
    "solution([1, 2, 7, 10, 11])"
   ]
  },
  {
   "cell_type": "markdown",
   "id": "38f5bcdc",
   "metadata": {},
   "source": [
    "## 문자열 뒤집기"
   ]
  },
  {
   "cell_type": "code",
   "execution_count": 53,
   "id": "1bfb3fc0",
   "metadata": {},
   "outputs": [],
   "source": [
    "def solution(my_string):\n",
    "    answer = ''\n",
    "    for i in reversed(my_string):\n",
    "        answer += i\n",
    "    return answer"
   ]
  },
  {
   "cell_type": "code",
   "execution_count": 54,
   "id": "89b33c6d",
   "metadata": {},
   "outputs": [
    {
     "data": {
      "text/plain": [
       "'olleh'"
      ]
     },
     "execution_count": 54,
     "metadata": {},
     "output_type": "execute_result"
    }
   ],
   "source": [
    "solution('hello')"
   ]
  },
  {
   "cell_type": "code",
   "execution_count": 55,
   "id": "5a910958",
   "metadata": {},
   "outputs": [],
   "source": [
    "def solution(my_string):\n",
    "    return my_string[::-1]"
   ]
  },
  {
   "cell_type": "code",
   "execution_count": 56,
   "id": "a68a8a61",
   "metadata": {},
   "outputs": [
    {
     "data": {
      "text/plain": [
       "'olleh'"
      ]
     },
     "execution_count": 56,
     "metadata": {},
     "output_type": "execute_result"
    }
   ],
   "source": [
    "solution('hello')"
   ]
  }
 ],
 "metadata": {
  "kernelspec": {
   "display_name": "Python 3 (ipykernel)",
   "language": "python",
   "name": "python3"
  },
  "language_info": {
   "codemirror_mode": {
    "name": "ipython",
    "version": 3
   },
   "file_extension": ".py",
   "mimetype": "text/x-python",
   "name": "python",
   "nbconvert_exporter": "python",
   "pygments_lexer": "ipython3",
   "version": "3.9.12"
  }
 },
 "nbformat": 4,
 "nbformat_minor": 5
}
