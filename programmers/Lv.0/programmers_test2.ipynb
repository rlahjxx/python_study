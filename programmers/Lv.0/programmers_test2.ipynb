{
 "cells": [
  {
   "cell_type": "code",
   "execution_count": 16,
   "id": "b425ebae",
   "metadata": {},
   "outputs": [],
   "source": [
    "# 입력값의 각 자릿수를 합하여 return하기 (1)\n",
    "def solution(n):\n",
    "    num = list(str(n)) # 문자열을 list에 넣어주면 자동으로 한 글자씩 split됨\n",
    "    answer = 0\n",
    "    for i in num:\n",
    "        answer += int(i)\n",
    "    return answer"
   ]
  },
  {
   "cell_type": "code",
   "execution_count": 19,
   "id": "13929a15",
   "metadata": {},
   "outputs": [
    {
     "data": {
      "text/plain": [
       "24"
      ]
     },
     "execution_count": 19,
     "metadata": {},
     "output_type": "execute_result"
    }
   ],
   "source": [
    "solution(987)"
   ]
  },
  {
   "cell_type": "code",
   "execution_count": 25,
   "id": "e49e0de8",
   "metadata": {},
   "outputs": [],
   "source": [
    "# 입력값의 각 자릿수를 합하여 return하기 (2)\n",
    "def solution(n):\n",
    "    num = str(n)\n",
    "    answer = 0\n",
    "    for i in range(len(num)): # split 없이 문자열의 인덱스를 for문 돌려 실행\n",
    "        answer += int(num[i])\n",
    "    return answer"
   ]
  },
  {
   "cell_type": "code",
   "execution_count": 28,
   "id": "a14b6596",
   "metadata": {},
   "outputs": [
    {
     "data": {
      "text/plain": [
       "24"
      ]
     },
     "execution_count": 28,
     "metadata": {},
     "output_type": "execute_result"
    }
   ],
   "source": [
    "solution(987)"
   ]
  },
  {
   "cell_type": "code",
   "execution_count": 29,
   "id": "8f2975ae",
   "metadata": {},
   "outputs": [
    {
     "data": {
      "text/plain": [
       "1.7320508075688772"
      ]
     },
     "execution_count": 29,
     "metadata": {},
     "output_type": "execute_result"
    }
   ],
   "source": [
    "# 정수 제곱근 판별\n",
    "3**(1/2)"
   ]
  },
  {
   "cell_type": "code",
   "execution_count": 36,
   "id": "dc5ee5dd",
   "metadata": {},
   "outputs": [],
   "source": [
    "# test1 (X)\n",
    "def sol(n):\n",
    "    num = n**(1/2)\n",
    "    if num**2 == n:\n",
    "        return (num+1)**2\n",
    "    else:\n",
    "        return -1"
   ]
  },
  {
   "cell_type": "code",
   "execution_count": 38,
   "id": "c4a13a7c",
   "metadata": {},
   "outputs": [
    {
     "data": {
      "text/plain": [
       "-1"
      ]
     },
     "execution_count": 38,
     "metadata": {},
     "output_type": "execute_result"
    }
   ],
   "source": [
    "sol(5)"
   ]
  },
  {
   "cell_type": "code",
   "execution_count": 69,
   "id": "978faaea",
   "metadata": {},
   "outputs": [],
   "source": [
    "# test2 (X)\n",
    "def solution(n):\n",
    "    num = n**(1/2)\n",
    "    if num * num == n:\n",
    "        return (num+1)**2\n",
    "    else:\n",
    "        return -1"
   ]
  },
  {
   "cell_type": "code",
   "execution_count": 71,
   "id": "ba03d2f0",
   "metadata": {},
   "outputs": [
    {
     "name": "stdout",
     "output_type": "stream",
     "text": [
      "18.6332495807108\n"
     ]
    }
   ],
   "source": [
    "print(solution(11))"
   ]
  },
  {
   "cell_type": "code",
   "execution_count": 75,
   "id": "0b05053b",
   "metadata": {},
   "outputs": [],
   "source": [
    "# test3 (O)\n",
    "def solution(n):\n",
    "    num = int(n**(1/2))\n",
    "    if num * num == n:\n",
    "        return (num+1)**2\n",
    "    else:\n",
    "        return -1"
   ]
  },
  {
   "cell_type": "code",
   "execution_count": 79,
   "id": "71738233",
   "metadata": {},
   "outputs": [
    {
     "name": "stdout",
     "output_type": "stream",
     "text": [
      "169\n"
     ]
    }
   ],
   "source": [
    "print(solution(144))"
   ]
  },
  {
   "cell_type": "code",
   "execution_count": 99,
   "id": "c6cf47ef",
   "metadata": {},
   "outputs": [],
   "source": [
    "# test4 (O)\n",
    "def solution(n):\n",
    "    num1 = str(n**(1/2))\n",
    "    num2 = num1.split('.')[0]\n",
    "    if float(num1) % int(num2) != 0:\n",
    "        return -1\n",
    "    else:\n",
    "        return (float(num1)+1)**2"
   ]
  },
  {
   "cell_type": "code",
   "execution_count": 101,
   "id": "6f63fabc",
   "metadata": {},
   "outputs": [
    {
     "name": "stdout",
     "output_type": "stream",
     "text": [
      "-1\n"
     ]
    }
   ],
   "source": [
    "print(solution(7))"
   ]
  },
  {
   "cell_type": "code",
   "execution_count": 1,
   "id": "5c17977f",
   "metadata": {},
   "outputs": [],
   "source": [
    "# 웅재님꺼 test\n",
    "def solution(n):\n",
    "    num = n**(1/2)\n",
    "    if num % 1 == 0:\n",
    "        return (num+1)**2\n",
    "    else:\n",
    "        return -1"
   ]
  },
  {
   "cell_type": "code",
   "execution_count": 3,
   "id": "2fe4b688",
   "metadata": {},
   "outputs": [
    {
     "name": "stdout",
     "output_type": "stream",
     "text": [
      "144.0\n"
     ]
    }
   ],
   "source": [
    "print(solution(121))"
   ]
  },
  {
   "cell_type": "code",
   "execution_count": null,
   "id": "36de9814",
   "metadata": {},
   "outputs": [],
   "source": []
  }
 ],
 "metadata": {
  "kernelspec": {
   "display_name": "Python 3 (ipykernel)",
   "language": "python",
   "name": "python3"
  },
  "language_info": {
   "codemirror_mode": {
    "name": "ipython",
    "version": 3
   },
   "file_extension": ".py",
   "mimetype": "text/x-python",
   "name": "python",
   "nbconvert_exporter": "python",
   "pygments_lexer": "ipython3",
   "version": "3.9.12"
  }
 },
 "nbformat": 4,
 "nbformat_minor": 5
}
