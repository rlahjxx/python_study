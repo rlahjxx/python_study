{
 "cells": [
  {
   "cell_type": "markdown",
   "id": "20f66b5d",
   "metadata": {},
   "source": [
    "## 문자열 내 p와 y의 개수(소문자, 대문자 상관 X)"
   ]
  },
  {
   "cell_type": "code",
   "execution_count": 12,
   "id": "26f3c887",
   "metadata": {},
   "outputs": [],
   "source": [
    "# test 1\n",
    "def solution(s):\n",
    "    s_str = list(s.upper())\n",
    "    p_num = 0\n",
    "    y_num = 0\n",
    "    for i in range(0, len(s_str)):\n",
    "        if s_str[i] == 'P':\n",
    "            p_num += 1\n",
    "        elif s_str[i] == 'Y':\n",
    "            y_num += 1\n",
    "    if p_num == y_num:\n",
    "        return True\n",
    "    else:\n",
    "        return False"
   ]
  },
  {
   "cell_type": "code",
   "execution_count": 13,
   "id": "a4f84590",
   "metadata": {},
   "outputs": [
    {
     "name": "stdout",
     "output_type": "stream",
     "text": [
      "False\n"
     ]
    }
   ],
   "source": [
    "s = \"Pyy\"\n",
    "print(solution(s))"
   ]
  },
  {
   "cell_type": "code",
   "execution_count": 11,
   "id": "543d226b",
   "metadata": {},
   "outputs": [
    {
     "data": {
      "text/plain": [
       "['P', 'Y', 'Y']"
      ]
     },
     "execution_count": 11,
     "metadata": {},
     "output_type": "execute_result"
    }
   ],
   "source": [
    "s = \"Pyy\"\n",
    "s_str = list(s.upper())\n",
    "s_str"
   ]
  },
  {
   "cell_type": "code",
   "execution_count": 16,
   "id": "3568d026",
   "metadata": {},
   "outputs": [],
   "source": [
    "# test 2\n",
    "# count 함수 이용 -> return 자체에 True, False 반환 가능\n",
    "def solution(s):\n",
    "    return s.upper().count('P') == s.upper().count('Y')"
   ]
  },
  {
   "cell_type": "code",
   "execution_count": 17,
   "id": "5c6c7c4b",
   "metadata": {},
   "outputs": [
    {
     "name": "stdout",
     "output_type": "stream",
     "text": [
      "False\n"
     ]
    }
   ],
   "source": [
    "s = \"Pyy\"\n",
    "print(solution(s))"
   ]
  },
  {
   "cell_type": "markdown",
   "id": "fa2bec19",
   "metadata": {},
   "source": [
    "## 하샤드 수(x가 자릿수의 합으로 나눠지는 경우) 판별"
   ]
  },
  {
   "cell_type": "code",
   "execution_count": 28,
   "id": "9c37b40c",
   "metadata": {},
   "outputs": [],
   "source": [
    "# test 1\n",
    "def solution(s):\n",
    "    n = list(str(s))\n",
    "    num = 0\n",
    "    for i in range(0, len(n)):\n",
    "        num += int(n[i])\n",
    "    return s % num == 0"
   ]
  },
  {
   "cell_type": "code",
   "execution_count": 25,
   "id": "9232254d",
   "metadata": {},
   "outputs": [
    {
     "name": "stdout",
     "output_type": "stream",
     "text": [
      "False\n"
     ]
    }
   ],
   "source": [
    "print(solution(13))"
   ]
  },
  {
   "cell_type": "code",
   "execution_count": 27,
   "id": "99a4ce1e",
   "metadata": {
    "scrolled": true
   },
   "outputs": [
    {
     "name": "stdout",
     "output_type": "stream",
     "text": [
      "1\n",
      "2\n",
      "3\n",
      "4\n"
     ]
    }
   ],
   "source": [
    "# 굳이 split 하지 않아도 str(n)을 range로 넣어주면 자동으로 하나씩 split 해서 가져와진다.\n",
    "n = 1234\n",
    "for i in str(n):\n",
    "    print(i)"
   ]
  },
  {
   "cell_type": "markdown",
   "id": "57da6568",
   "metadata": {},
   "source": [
    "## 정수 내림차순으로 배치하기"
   ]
  },
  {
   "cell_type": "code",
   "execution_count": 55,
   "id": "7e2de984",
   "metadata": {},
   "outputs": [],
   "source": [
    "# test 1\n",
    "def solution(s):\n",
    "    n_list = []\n",
    "    for i in str(s):\n",
    "        n_list.append(int(i))\n",
    "    n_list.sort(reverse=True)\n",
    "    num = str(n_list[0])\n",
    "    for j in range(1, len(n_list)):\n",
    "        num += str(n_list[j])\n",
    "    return int(num)"
   ]
  },
  {
   "cell_type": "code",
   "execution_count": 56,
   "id": "10ad8586",
   "metadata": {},
   "outputs": [
    {
     "name": "stdout",
     "output_type": "stream",
     "text": [
      "94320\n"
     ]
    }
   ],
   "source": [
    "print(solution(20394))"
   ]
  },
  {
   "cell_type": "code",
   "execution_count": 54,
   "id": "c01ada30",
   "metadata": {},
   "outputs": [
    {
     "data": {
      "text/plain": [
       "['5', '4', '3', '2', '1']"
      ]
     },
     "execution_count": 54,
     "metadata": {},
     "output_type": "execute_result"
    }
   ],
   "source": [
    "n = 12345\n",
    "ls = list(str(n))\n",
    "ls.sort(reverse=True)\n",
    "ls    "
   ]
  },
  {
   "cell_type": "code",
   "execution_count": 59,
   "id": "7c9f8c46",
   "metadata": {},
   "outputs": [],
   "source": [
    "# test 2 - 정수를 str 타입으로 내림차순해도 가능\n",
    "def solution(s):\n",
    "    n_list = list(str(s))\n",
    "    n_list.sort(reverse=True)\n",
    "    num = str(n_list[0])\n",
    "    for j in range(1, len(n_list)):\n",
    "        num += str(n_list[j])\n",
    "    return int(num)"
   ]
  },
  {
   "cell_type": "code",
   "execution_count": 58,
   "id": "9d976f0c",
   "metadata": {},
   "outputs": [
    {
     "name": "stdout",
     "output_type": "stream",
     "text": [
      "94320\n"
     ]
    }
   ],
   "source": [
    "print(solution(20394))"
   ]
  },
  {
   "cell_type": "code",
   "execution_count": 61,
   "id": "8a2aba3d",
   "metadata": {},
   "outputs": [],
   "source": [
    "# test 3 - join 함수 이용하여 문자열 합치기\n",
    "def solution(s):\n",
    "    n_list = list(str(s))\n",
    "    n_list.sort(reverse=True)\n",
    "    return int(\"\".join(n_list))"
   ]
  },
  {
   "cell_type": "code",
   "execution_count": 62,
   "id": "18b3563a",
   "metadata": {},
   "outputs": [
    {
     "name": "stdout",
     "output_type": "stream",
     "text": [
      "94320\n"
     ]
    }
   ],
   "source": [
    "print(solution(20394))"
   ]
  },
  {
   "cell_type": "markdown",
   "id": "a2e32377",
   "metadata": {},
   "source": [
    "## 최대공약수와 최소공배수 반환"
   ]
  },
  {
   "cell_type": "code",
   "execution_count": 66,
   "id": "f56e4a47",
   "metadata": {},
   "outputs": [
    {
     "data": {
      "text/plain": [
       "[12]"
      ]
     },
     "execution_count": 66,
     "metadata": {},
     "output_type": "execute_result"
    }
   ],
   "source": [
    "# test 1 (X)\n",
    "n = 3\n",
    "m = 12\n",
    "m_list = []\n",
    "for i in range(1, m+1):\n",
    "    if m % i ==0:\n",
    "        m_list.append(i)\n",
    "nm_list = []\n",
    "nm_list.append(m)\n",
    "if n in m_list & min(m_list) == n:\n",
    "    nm_list()\n",
    "    \n",
    "# if n in m:\n",
    "#     n"
   ]
  },
  {
   "cell_type": "code",
   "execution_count": 108,
   "id": "6ed0ef60",
   "metadata": {},
   "outputs": [],
   "source": [
    "# test 2\n",
    "def solution(n,m):\n",
    "    n_list = []\n",
    "    m_list = []\n",
    "    for i in range(1, n+1):\n",
    "        if n % i == 0:\n",
    "            n_list.append(i)\n",
    "    for j in range(1, m+1):\n",
    "        if m % j == 0:\n",
    "            m_list.append(j)\n",
    "    nm = []\n",
    "    nm_small = 1\n",
    "    for k in n_list:\n",
    "        for r in m_list:\n",
    "            if k == r:\n",
    "                nm.append(k)\n",
    "                nm_big = nm[0] * nm[-1]\n",
    "                nm_small = int(nm_big*(n/k)*(m/r))\n",
    "    nm_total = []\n",
    "    nm_total.append(nm_big)\n",
    "    nm_total.append(nm_small)\n",
    "    return nm_total"
   ]
  },
  {
   "cell_type": "code",
   "execution_count": 109,
   "id": "f00c3dd1",
   "metadata": {},
   "outputs": [
    {
     "data": {
      "text/plain": [
       "[4, 8]"
      ]
     },
     "execution_count": 109,
     "metadata": {},
     "output_type": "execute_result"
    }
   ],
   "source": [
    "solution(4,8)"
   ]
  },
  {
   "cell_type": "code",
   "execution_count": 114,
   "id": "1d7531e5",
   "metadata": {},
   "outputs": [],
   "source": [
    "# test 3 (test 2 다듬기)\n",
    "def solution(n,m):\n",
    "    n_list = []\n",
    "    m_list = []\n",
    "    for i in range(1, n+1):\n",
    "        if n % i == 0:\n",
    "            n_list.append(i)\n",
    "    for j in range(1, m+1):\n",
    "        if m % j == 0:\n",
    "            m_list.append(j)\n",
    "    nm = []\n",
    "    for k in n_list:\n",
    "        if k in m_list:\n",
    "            nm.append(k)\n",
    "    maximum = max(nm)\n",
    "    minimum = int(maximum*(n/maximum)*(m/maximum))\n",
    "    answer = [maximum, minimum]\n",
    "    return answer"
   ]
  },
  {
   "cell_type": "code",
   "execution_count": 115,
   "id": "629516f6",
   "metadata": {},
   "outputs": [
    {
     "data": {
      "text/plain": [
       "[2, 12]"
      ]
     },
     "execution_count": 115,
     "metadata": {},
     "output_type": "execute_result"
    }
   ],
   "source": [
    "solution(4,6)"
   ]
  },
  {
   "cell_type": "markdown",
   "id": "c496235e",
   "metadata": {},
   "source": [
    "## x만큼 간격이 있는 n개의 숫자"
   ]
  },
  {
   "cell_type": "code",
   "execution_count": 2,
   "id": "57c95127",
   "metadata": {},
   "outputs": [],
   "source": [
    "# test 1\n",
    "def solution(x,n):\n",
    "    n_list = []\n",
    "    for i in range(1,n+1):\n",
    "        n_list.append(x*i)\n",
    "    return n_list"
   ]
  },
  {
   "cell_type": "code",
   "execution_count": 3,
   "id": "01dca6db",
   "metadata": {},
   "outputs": [
    {
     "name": "stdout",
     "output_type": "stream",
     "text": [
      "[2, 4, 6, 8, 10]\n"
     ]
    }
   ],
   "source": [
    "print(solution(2,5))"
   ]
  },
  {
   "cell_type": "code",
   "execution_count": 4,
   "id": "68c9b0e3",
   "metadata": {},
   "outputs": [],
   "source": [
    "# test 2\n",
    "def solution(x,n):\n",
    "    answer = [x*i + x for i in range(n)]\n",
    "    return answer"
   ]
  },
  {
   "cell_type": "code",
   "execution_count": 5,
   "id": "97318342",
   "metadata": {},
   "outputs": [
    {
     "name": "stdout",
     "output_type": "stream",
     "text": [
      "[2, 4, 6, 8, 10]\n"
     ]
    }
   ],
   "source": [
    "print(solution(2,5))"
   ]
  }
 ],
 "metadata": {
  "kernelspec": {
   "display_name": "Python 3 (ipykernel)",
   "language": "python",
   "name": "python3"
  },
  "language_info": {
   "codemirror_mode": {
    "name": "ipython",
    "version": 3
   },
   "file_extension": ".py",
   "mimetype": "text/x-python",
   "name": "python",
   "nbconvert_exporter": "python",
   "pygments_lexer": "ipython3",
   "version": "3.9.12"
  }
 },
 "nbformat": 4,
 "nbformat_minor": 5
}
