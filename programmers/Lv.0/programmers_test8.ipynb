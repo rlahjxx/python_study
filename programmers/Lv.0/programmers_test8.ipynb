{
 "cells": [
  {
   "cell_type": "markdown",
   "id": "211bb771",
   "metadata": {},
   "source": [
    "## 옷가게 할인 받기"
   ]
  },
  {
   "cell_type": "code",
   "execution_count": 16,
   "id": "0f4c5245",
   "metadata": {},
   "outputs": [],
   "source": [
    "def solution(price):\n",
    "    if price >= 100000 and price < 300000:\n",
    "        return int(price * 0.95)\n",
    "    elif price >= 300000 and price < 500000:\n",
    "        return int(price * 0.9)\n",
    "    elif price >= 500000:\n",
    "        return int(price * 0.8)"
   ]
  },
  {
   "cell_type": "code",
   "execution_count": 17,
   "id": "4b177a62",
   "metadata": {},
   "outputs": [
    {
     "data": {
      "text/plain": [
       "464000"
      ]
     },
     "execution_count": 17,
     "metadata": {},
     "output_type": "execute_result"
    }
   ],
   "source": [
    "solution(580000)"
   ]
  },
  {
   "cell_type": "markdown",
   "id": "55f8cb95",
   "metadata": {},
   "source": [
    "## 문자열 안에 문자열"
   ]
  },
  {
   "cell_type": "code",
   "execution_count": 31,
   "id": "3ae2f452",
   "metadata": {},
   "outputs": [],
   "source": [
    "# test 1 (X)\n",
    "def solution(str1, str2):\n",
    "    answer = str1.split(str2)\n",
    "    if len(answer) == 2:\n",
    "        return 1\n",
    "    else:\n",
    "        return 2"
   ]
  },
  {
   "cell_type": "code",
   "execution_count": 33,
   "id": "2182455b",
   "metadata": {},
   "outputs": [
    {
     "data": {
      "text/plain": [
       "1"
      ]
     },
     "execution_count": 33,
     "metadata": {},
     "output_type": "execute_result"
    }
   ],
   "source": [
    "solution(\"ab6CDE443fgh22iJKlmn1o\", \"6CD\")"
   ]
  },
  {
   "cell_type": "code",
   "execution_count": 52,
   "id": "1b85cafe",
   "metadata": {},
   "outputs": [],
   "source": [
    "# test 2 (X)\n",
    "def solution(str1, str2):\n",
    "    answer = str1.split(str2)\n",
    "    if len(answer) == 2:\n",
    "        return 1\n",
    "    elif len(answer) == 1:\n",
    "        return 2"
   ]
  },
  {
   "cell_type": "code",
   "execution_count": 54,
   "id": "405551aa",
   "metadata": {},
   "outputs": [
    {
     "data": {
      "text/plain": [
       "2"
      ]
     },
     "execution_count": 54,
     "metadata": {},
     "output_type": "execute_result"
    }
   ],
   "source": [
    "solution(\"sdifrrhsk12sdkj2\", \"12sc\")"
   ]
  },
  {
   "cell_type": "code",
   "execution_count": 56,
   "id": "1cf49d74",
   "metadata": {},
   "outputs": [],
   "source": [
    "# test 3 (O)\n",
    "def solution(str1, str2):\n",
    "    answer = str1.split(str2)\n",
    "    if len(answer) == 1:\n",
    "        return 2\n",
    "    else :\n",
    "        return 1"
   ]
  },
  {
   "cell_type": "code",
   "execution_count": 58,
   "id": "77ace100",
   "metadata": {},
   "outputs": [
    {
     "data": {
      "text/plain": [
       "1"
      ]
     },
     "execution_count": 58,
     "metadata": {},
     "output_type": "execute_result"
    }
   ],
   "source": [
    "solution(\"sdifrrhsk12sdkj2\", \"sd\")"
   ]
  },
  {
   "cell_type": "code",
   "execution_count": 59,
   "id": "dcb8270b",
   "metadata": {},
   "outputs": [],
   "source": [
    "# test 4 (O)\n",
    "def solution(str1, str2):\n",
    "    if str2 in str1:\n",
    "        return 1\n",
    "    else:\n",
    "        return 2"
   ]
  },
  {
   "cell_type": "code",
   "execution_count": 60,
   "id": "8aca451b",
   "metadata": {},
   "outputs": [
    {
     "data": {
      "text/plain": [
       "1"
      ]
     },
     "execution_count": 60,
     "metadata": {},
     "output_type": "execute_result"
    }
   ],
   "source": [
    "solution(\"ab6CDE443fgh22iJKlmn1o\", \"6CD\")"
   ]
  },
  {
   "cell_type": "markdown",
   "id": "ea10bf0a",
   "metadata": {},
   "source": [
    "## 중복된 문자 제거"
   ]
  },
  {
   "cell_type": "code",
   "execution_count": 67,
   "id": "4e304519",
   "metadata": {},
   "outputs": [],
   "source": [
    "def solution(my_string):\n",
    "    answer = ''\n",
    "    for i in list(my_string):\n",
    "        if i not in answer:\n",
    "            answer += i\n",
    "    return answer"
   ]
  },
  {
   "cell_type": "code",
   "execution_count": 68,
   "id": "14bb43c1",
   "metadata": {},
   "outputs": [
    {
     "data": {
      "text/plain": [
       "'We arthwold'"
      ]
     },
     "execution_count": 68,
     "metadata": {},
     "output_type": "execute_result"
    }
   ],
   "source": [
    "solution(\"We are the world\")"
   ]
  },
  {
   "cell_type": "markdown",
   "id": "451d8e39",
   "metadata": {},
   "source": [
    "## 문자열 정렬하기"
   ]
  },
  {
   "cell_type": "code",
   "execution_count": 84,
   "id": "3356d0a9",
   "metadata": {},
   "outputs": [],
   "source": [
    "# test 1 (O)\n",
    "def solution(my_string):\n",
    "    answer = []\n",
    "    digit = ['0','1','2','3','4','5','6','7','8','9']\n",
    "    for i in list(my_string):\n",
    "        if i in digit:\n",
    "            answer.append(int(i))\n",
    "            answer.sort()\n",
    "    return answer"
   ]
  },
  {
   "cell_type": "code",
   "execution_count": 88,
   "id": "ced321c0",
   "metadata": {},
   "outputs": [],
   "source": [
    "# test 2(O)\n",
    "def solution(my_string):\n",
    "    answer = []\n",
    "    for i in my_string:\n",
    "        if i.isdigit():\n",
    "            answer.append(int(i))\n",
    "    answer.sort()\n",
    "    return answer"
   ]
  },
  {
   "cell_type": "code",
   "execution_count": 87,
   "id": "ea7140c2",
   "metadata": {},
   "outputs": [
    {
     "data": {
      "text/plain": [
       "[1, 2, 2, 3, 9]"
      ]
     },
     "execution_count": 87,
     "metadata": {},
     "output_type": "execute_result"
    }
   ],
   "source": [
    "solution(\"hi12392\")"
   ]
  },
  {
   "cell_type": "markdown",
   "id": "f5f24407",
   "metadata": {},
   "source": [
    "## 모음 제거"
   ]
  },
  {
   "cell_type": "code",
   "execution_count": 89,
   "id": "c84a1875",
   "metadata": {},
   "outputs": [],
   "source": [
    "def solution(my_string):\n",
    "    n_list = ['a','e','i','o','u']\n",
    "    answer = ''\n",
    "    for i in my_string:\n",
    "        if i not in n_list:\n",
    "            answer += i\n",
    "    return answer"
   ]
  },
  {
   "cell_type": "code",
   "execution_count": 90,
   "id": "b282b54b",
   "metadata": {},
   "outputs": [
    {
     "data": {
      "text/plain": [
       "'nc t mt y'"
      ]
     },
     "execution_count": 90,
     "metadata": {},
     "output_type": "execute_result"
    }
   ],
   "source": [
    "solution(\"nice to meet you\")"
   ]
  },
  {
   "cell_type": "markdown",
   "id": "5a22d59a",
   "metadata": {},
   "source": [
    "## 대문자와 소문자"
   ]
  },
  {
   "cell_type": "code",
   "execution_count": 117,
   "id": "98c675de",
   "metadata": {},
   "outputs": [],
   "source": [
    "def solution(my_string):\n",
    "    answer = ''\n",
    "    for i in list(my_string):\n",
    "        if i.isupper():\n",
    "            a = i.lower()\n",
    "            answer += a\n",
    "        elif i.islower():\n",
    "            b = i.upper()\n",
    "            answer += b\n",
    "    return answer"
   ]
  },
  {
   "cell_type": "code",
   "execution_count": 118,
   "id": "d6d3078f",
   "metadata": {},
   "outputs": [
    {
     "data": {
      "text/plain": [
       "'sssSSS'"
      ]
     },
     "execution_count": 118,
     "metadata": {},
     "output_type": "execute_result"
    }
   ],
   "source": [
    "solution('SSSsss')"
   ]
  },
  {
   "cell_type": "code",
   "execution_count": 119,
   "id": "3fe3f915",
   "metadata": {},
   "outputs": [],
   "source": [
    "def solution(my_string):\n",
    "    answer = ''\n",
    "    for i in list(my_string):\n",
    "        if i.isupper():\n",
    "            answer += i.lower()\n",
    "        elif i.islower():\n",
    "            answer += i.upper()\n",
    "    return answer"
   ]
  },
  {
   "cell_type": "code",
   "execution_count": 120,
   "id": "57038ad4",
   "metadata": {},
   "outputs": [
    {
     "data": {
      "text/plain": [
       "'sssSSS'"
      ]
     },
     "execution_count": 120,
     "metadata": {},
     "output_type": "execute_result"
    }
   ],
   "source": [
    "solution('SSSsss')"
   ]
  },
  {
   "cell_type": "markdown",
   "id": "b138e3d2",
   "metadata": {},
   "source": [
    "## 외계행성의 나이"
   ]
  },
  {
   "cell_type": "code",
   "execution_count": 155,
   "id": "cfafdb2a",
   "metadata": {},
   "outputs": [],
   "source": [
    "def solution(age):\n",
    "    n_list = ['a','b','c','d','e','f','g','h','i','j']\n",
    "    answer = ''\n",
    "    for i in str(age):\n",
    "        for j in range(1, 10):\n",
    "            j = n_list[int(i)]\n",
    "        answer += j\n",
    "    return answer"
   ]
  },
  {
   "cell_type": "code",
   "execution_count": 156,
   "id": "74eddbaf",
   "metadata": {},
   "outputs": [
    {
     "data": {
      "text/plain": [
       "'baa'"
      ]
     },
     "execution_count": 156,
     "metadata": {},
     "output_type": "execute_result"
    }
   ],
   "source": [
    "solution(100)"
   ]
  },
  {
   "cell_type": "code",
   "execution_count": null,
   "id": "7acb8e0c",
   "metadata": {},
   "outputs": [],
   "source": []
  }
 ],
 "metadata": {
  "kernelspec": {
   "display_name": "Python 3 (ipykernel)",
   "language": "python",
   "name": "python3"
  },
  "language_info": {
   "codemirror_mode": {
    "name": "ipython",
    "version": 3
   },
   "file_extension": ".py",
   "mimetype": "text/x-python",
   "name": "python",
   "nbconvert_exporter": "python",
   "pygments_lexer": "ipython3",
   "version": "3.9.12"
  }
 },
 "nbformat": 4,
 "nbformat_minor": 5
}
