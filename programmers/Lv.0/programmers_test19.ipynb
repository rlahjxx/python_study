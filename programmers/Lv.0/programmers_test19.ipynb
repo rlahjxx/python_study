{
 "cells": [
  {
   "cell_type": "markdown",
   "id": "c0edd19e",
   "metadata": {},
   "source": [
    "## 저주의 숫자\n",
    "3x 마을 사람들은 3을 저주의 숫자라고 생각하기 때문에 3의 배수와 숫자 3을 사용하지 않습니다. 3x 마을 사람들의 숫자는 다음과 같습니다.\n",
    "정수 n이 매개변수로 주어질 때, n을 3x 마을에서 사용하는 숫자로 바꿔 return하도록 solution 함수를 완성해주세요."
   ]
  },
  {
   "cell_type": "code",
   "execution_count": null,
   "id": "46bb5389",
   "metadata": {},
   "outputs": [],
   "source": [
    "# test 1 (X)\n",
    "def solution(n):\n",
    "    answer = n\n",
    "    num1 = 0\n",
    "    for i in range(1, n + 1):\n",
    "        if i % 3 == 0 :\n",
    "            num1 += 1\n",
    "    answer += num1\n",
    "    num2 = 0\n",
    "    for i in range(1, answer + 1) :\n",
    "        if i % 3 == 0 or \n",
    "        \n",
    "    return answer"
   ]
  },
  {
   "cell_type": "code",
   "execution_count": 35,
   "id": "b0f7c27d",
   "metadata": {},
   "outputs": [
    {
     "data": {
      "text/plain": [
       "25"
      ]
     },
     "execution_count": 35,
     "metadata": {},
     "output_type": "execute_result"
    }
   ],
   "source": [
    "solution(15)"
   ]
  },
  {
   "cell_type": "code",
   "execution_count": 37,
   "id": "29c1e2dc",
   "metadata": {},
   "outputs": [],
   "source": [
    "# test 2 (O)\n",
    "def solution(n):\n",
    "    # 1이나 2인 경우, 그 값을 그대로 반환\n",
    "    if n == 1 or n == 2:\n",
    "        return n\n",
    "    else : \n",
    "        # while문을 통해 3의 배수이거나 3이 들어가있는 수의 경우 pass, else일 경우 +1\n",
    "        num, answer = 2, 2\n",
    "        while answer != n :\n",
    "            num += 1\n",
    "            number = str(num).find('3')\n",
    "            if num % 3 == 0 or number != -1 :\n",
    "                pass\n",
    "            else :\n",
    "                answer += 1\n",
    "    return num"
   ]
  },
  {
   "cell_type": "code",
   "execution_count": 38,
   "id": "bad4ff3e",
   "metadata": {},
   "outputs": [
    {
     "data": {
      "text/plain": [
       "25"
      ]
     },
     "execution_count": 38,
     "metadata": {},
     "output_type": "execute_result"
    }
   ],
   "source": [
    "solution(15)"
   ]
  },
  {
   "cell_type": "markdown",
   "id": "ee9df4cd",
   "metadata": {},
   "source": [
    "## OX 퀴즈\n",
    "덧셈, 뺄셈 수식들이 'X [연산자] Y = Z' 형태로 들어있는 문자열 배열 quiz가 매개변수로 주어집니다. 수식이 옳다면 \"O\"를 틀리다면 \"X\"를 순서대로 담은 배열을 return하도록 solution 함수를 완성해주세요."
   ]
  },
  {
   "cell_type": "code",
   "execution_count": 48,
   "id": "fe0aedc9",
   "metadata": {},
   "outputs": [],
   "source": [
    "# test 1 (O)\n",
    "def solution(quiz):\n",
    "    answer = []\n",
    "    for i in quiz :\n",
    "        num = i.split('=')\n",
    "        number = num[-1].split()\n",
    "        number[0] = int(number[0])\n",
    "        if eval(num[0]) == number[0] :\n",
    "            answer.append('O')\n",
    "        else :\n",
    "            answer.append('X')\n",
    "    return answer"
   ]
  },
  {
   "cell_type": "code",
   "execution_count": 49,
   "id": "212f59f7",
   "metadata": {},
   "outputs": [
    {
     "data": {
      "text/plain": [
       "['O', 'O', 'X', 'O']"
      ]
     },
     "execution_count": 49,
     "metadata": {},
     "output_type": "execute_result"
    }
   ],
   "source": [
    "solution([\"19 - 6 = 13\", \"5 + 66 = 71\", \"5 - 15 = 63\", \"3 - 1 = 2\"])"
   ]
  },
  {
   "cell_type": "markdown",
   "id": "89e11ba8",
   "metadata": {},
   "source": [
    "## 연속된 수의 합\n",
    "연속된 세 개의 정수를 더해 12가 되는 경우는 3, 4, 5입니다. 두 정수 num과 total이 주어집니다. 연속된 수 num개를 더한 값이 total이 될 때, 정수 배열을 오름차순으로 담아 return하도록 solution함수를 완성해보세요."
   ]
  },
  {
   "cell_type": "code",
   "execution_count": 74,
   "id": "6443266f",
   "metadata": {},
   "outputs": [],
   "source": [
    "    # test 1 (O)\n",
    "def solution(num, total):\n",
    "    answer = []\n",
    "    # 가장 중간에 있는 값 생성\n",
    "    n = total // num\n",
    "    # 1) num이 홀수인 경우\n",
    "    if num % 2 == 1 :\n",
    "        for i in range(1, int((num + 1)/2)) :\n",
    "            answer.append(n - i)\n",
    "            answer.append(n + i)\n",
    "        answer.append(n)\n",
    "        return sorted(answer)\n",
    "    # 2) num이 짝수인 경우\n",
    "    else :\n",
    "        for j in range(1, int(num/2) + 1) :\n",
    "            answer.append(n - j)\n",
    "            answer.append(n + j)\n",
    "        answer.append(n)\n",
    "        answer = sorted(answer)\n",
    "        return answer[1:]"
   ]
  },
  {
   "cell_type": "code",
   "execution_count": 75,
   "id": "58d375d7",
   "metadata": {},
   "outputs": [
    {
     "data": {
      "text/plain": [
       "[-1, 0, 1, 2, 3]"
      ]
     },
     "execution_count": 75,
     "metadata": {},
     "output_type": "execute_result"
    }
   ],
   "source": [
    "solution(5,5)"
   ]
  },
  {
   "cell_type": "code",
   "execution_count": 76,
   "id": "b96beaa8",
   "metadata": {},
   "outputs": [
    {
     "data": {
      "text/plain": [
       "15"
      ]
     },
     "execution_count": 76,
     "metadata": {},
     "output_type": "execute_result"
    }
   ],
   "source": [
    "# test 2 - 더 쉬운 코드 참고\n",
    "def solution(num, total):\n",
    "    answer = []\n",
    "    var = sum(range(num+1))\n",
    "    diff = total - var\n",
    "    start_num = diff//num\n",
    "    answer = [i+1+start_num for i in range(num)]\n",
    "    return answer"
   ]
  },
  {
   "cell_type": "code",
   "execution_count": null,
   "id": "f34b7985",
   "metadata": {},
   "outputs": [],
   "source": []
  }
 ],
 "metadata": {
  "kernelspec": {
   "display_name": "Python 3 (ipykernel)",
   "language": "python",
   "name": "python3"
  },
  "language_info": {
   "codemirror_mode": {
    "name": "ipython",
    "version": 3
   },
   "file_extension": ".py",
   "mimetype": "text/x-python",
   "name": "python",
   "nbconvert_exporter": "python",
   "pygments_lexer": "ipython3",
   "version": "3.9.12"
  }
 },
 "nbformat": 4,
 "nbformat_minor": 5
}
