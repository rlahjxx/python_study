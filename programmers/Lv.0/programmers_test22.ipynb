{
 "cells": [
  {
   "cell_type": "markdown",
   "id": "4ea7655c",
   "metadata": {},
   "source": [
    "## 옹알이 (1)\n",
    "머쓱이는 태어난 지 6개월 된 조카를 돌보고 있습니다. 조카는 아직 \"aya\", \"ye\", \"woo\", \"ma\" 네 가지 발음을 최대 한 번씩 사용해 조합한(이어 붙인) 발음밖에 하지 못합니다. 문자열 배열 babbling이 매개변수로 주어질 때, 머쓱이의 조카가 발음할 수 있는 단어의 개수를 return하도록 solution 함수를 완성해주세요."
   ]
  },
  {
   "cell_type": "code",
   "execution_count": 31,
   "id": "27fd43ec",
   "metadata": {},
   "outputs": [],
   "source": [
    "# test 1 (O)\n",
    "babe = [\"aya\", \"ye\", \"woo\", \"ma\"]\n",
    "# 순서를 고려하여 개수를 나열해주는 순열 함수를 사용하여 나올 수 있는 경우의 수 모두 생성\n",
    "from itertools import permutations\n",
    "def solution(babbling):\n",
    "    count = 0\n",
    "    for i in range(1, len(babe) + 1) :\n",
    "        data = permutations(babe, i)\n",
    "        for j in data :\n",
    "            a = ''.join(j)\n",
    "            if a in babbling :\n",
    "                count += 1\n",
    "    return count"
   ]
  },
  {
   "cell_type": "code",
   "execution_count": 32,
   "id": "6b606081",
   "metadata": {},
   "outputs": [
    {
     "data": {
      "text/plain": [
       "3"
      ]
     },
     "execution_count": 32,
     "metadata": {},
     "output_type": "execute_result"
    }
   ],
   "source": [
    "solution([\"ayaye\", \"uuuma\", \"ye\", \"yemawoo\", \"ayaa\"])"
   ]
  },
  {
   "cell_type": "code",
   "execution_count": 34,
   "id": "6438d38e",
   "metadata": {},
   "outputs": [
    {
     "name": "stdout",
     "output_type": "stream",
     "text": [
      "1\n"
     ]
    }
   ],
   "source": [
    "from itertools import permutations\n",
    "babe = [\"aya\", \"ye\", \"woo\", \"ma\"]\n",
    "babbing = [\"aya\", \"yee\", \"u\", \"maa\", \"wyeoo\"]\n",
    "\n",
    "count = 0\n",
    "for i in range(1, len(babe) + 1) :\n",
    "    data = permutations(babe, i)\n",
    "    for j in data :\n",
    "        a = ''.join(j)\n",
    "        if a in babbing :\n",
    "            count += 1\n",
    "print(count)"
   ]
  },
  {
   "cell_type": "code",
   "execution_count": null,
   "id": "f3a806cf",
   "metadata": {},
   "outputs": [],
   "source": []
  }
 ],
 "metadata": {
  "kernelspec": {
   "display_name": "Python 3 (ipykernel)",
   "language": "python",
   "name": "python3"
  },
  "language_info": {
   "codemirror_mode": {
    "name": "ipython",
    "version": 3
   },
   "file_extension": ".py",
   "mimetype": "text/x-python",
   "name": "python",
   "nbconvert_exporter": "python",
   "pygments_lexer": "ipython3",
   "version": "3.9.12"
  }
 },
 "nbformat": 4,
 "nbformat_minor": 5
}
