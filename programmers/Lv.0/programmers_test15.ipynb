{
 "cells": [
  {
   "cell_type": "markdown",
   "id": "63d63611",
   "metadata": {},
   "source": [
    "## 문자열 계산하기"
   ]
  },
  {
   "cell_type": "code",
   "execution_count": 10,
   "id": "3cd51ba5",
   "metadata": {},
   "outputs": [],
   "source": [
    "# test 1 (X) -> 숫자 2개, 연산자 1개인 경우에만 가능, 그 이후부터는 error 발생\n",
    "def solution(my_string):\n",
    "    num = my_string.split()\n",
    "    if num[1] == '+':\n",
    "        return int(num[0]) + int(num[-1])\n",
    "    else:\n",
    "        return int(num[0]) - int(num[-1])"
   ]
  },
  {
   "cell_type": "code",
   "execution_count": 93,
   "id": "103e6987",
   "metadata": {},
   "outputs": [],
   "source": [
    "# test 2 (숫자가 홀수로 들어오는 경우 error 발생)\n",
    "def solution(my_string):\n",
    "    a = []\n",
    "    b = []\n",
    "    c = []\n",
    "    num = my_string.split()\n",
    "    for i in range(len(num)):\n",
    "        if i % 2 == 0:\n",
    "            a.append(num[i])\n",
    "        elif i % 2 == 1:\n",
    "            b.append(num[i])      \n",
    "    for j in range(1, len(a)+1, 2):\n",
    "        for k in range(len(b)):\n",
    "            if b[k] == '-':\n",
    "                c.append(int(a[j-1]) - int(a[j]))\n",
    "                b[k] = b[k].replace(b[k], '')\n",
    "            if b[k] == '':\n",
    "                continue\n",
    "        c.append(int(a[j-1]) + int(a[j]))\n",
    "    return sum(c)"
   ]
  },
  {
   "cell_type": "code",
   "execution_count": 11,
   "id": "19fa3b2e",
   "metadata": {},
   "outputs": [
    {
     "data": {
      "text/plain": [
       "-1"
      ]
     },
     "execution_count": 11,
     "metadata": {},
     "output_type": "execute_result"
    }
   ],
   "source": [
    "solution(\"4 - 5\")"
   ]
  },
  {
   "cell_type": "code",
   "execution_count": 116,
   "id": "a042c988",
   "metadata": {},
   "outputs": [],
   "source": [
    "# test 3 (O)\n",
    "def solution(my_string):\n",
    "    num = my_string.split()\n",
    "    answer = int(num[0])\n",
    "    for i in range(2, len(num)+1, 2):\n",
    "        if num[i-1] == '+':\n",
    "            answer += int(num[i])\n",
    "        else:\n",
    "            answer -= int(num[i])\n",
    "    return answer"
   ]
  },
  {
   "cell_type": "code",
   "execution_count": 117,
   "id": "ec3f58ad",
   "metadata": {},
   "outputs": [
    {
     "data": {
      "text/plain": [
       "5"
      ]
     },
     "execution_count": 117,
     "metadata": {},
     "output_type": "execute_result"
    }
   ],
   "source": [
    "solution('3 + 4 - 2')"
   ]
  },
  {
   "cell_type": "code",
   "execution_count": 123,
   "id": "bc131d38",
   "metadata": {},
   "outputs": [],
   "source": [
    "# test 4 - eval 함수 사용해보기\n",
    "def solution(my_string):\n",
    "    answer = eval(my_string)\n",
    "    return answer"
   ]
  },
  {
   "cell_type": "code",
   "execution_count": 124,
   "id": "bcdfdf64",
   "metadata": {},
   "outputs": [
    {
     "data": {
      "text/plain": [
       "5"
      ]
     },
     "execution_count": 124,
     "metadata": {},
     "output_type": "execute_result"
    }
   ],
   "source": [
    "solution('3 + 4 - 2')"
   ]
  },
  {
   "cell_type": "markdown",
   "id": "a4ee68e6",
   "metadata": {},
   "source": [
    "## 숨어있는 숫자의 덧셈"
   ]
  },
  {
   "cell_type": "code",
   "execution_count": 196,
   "id": "4d94b14e",
   "metadata": {},
   "outputs": [],
   "source": [
    "# test 1 (X)\n",
    "def solution(my_string):\n",
    "    num = []\n",
    "    dic = {}\n",
    "    number = []\n",
    "    answer = []\n",
    "    for i,v in enumerate(list(my_string)):\n",
    "        if v.isdigit():\n",
    "            num.append(i)\n",
    "            dic[i] = v\n",
    "    num = [1,3,4,5,8,9]\n",
    "    for r in range(1,len(num)):\n",
    "        if num[r-1] + 1 != num[r]:\n",
    "            answer.append(int(r))\n",
    "        else:\n",
    "            number.append(dic[num[r-1]])\n",
    "            number.append(dic[num[r]])\n",
    "            aa = ''.join(sorted(set(number)))\n",
    "            answer.append(int(aa))\n",
    "    return sum(answer)"
   ]
  },
  {
   "cell_type": "code",
   "execution_count": 195,
   "id": "5a8fff72",
   "metadata": {},
   "outputs": [
    {
     "name": "stdout",
     "output_type": "stream",
     "text": [
      "['1', '2']\n",
      "['1', '2', '2', '3']\n"
     ]
    },
    {
     "data": {
      "text/plain": [
       "145"
      ]
     },
     "execution_count": 195,
     "metadata": {},
     "output_type": "execute_result"
    }
   ],
   "source": [
    "solution(\"1a2b3c4d123Z\")"
   ]
  },
  {
   "cell_type": "code",
   "execution_count": 203,
   "id": "5e64d3a5",
   "metadata": {},
   "outputs": [],
   "source": [
    "# test 2 (O)\n",
    "def solution(my_string):\n",
    "    answer = 0\n",
    "    for i in my_string:\n",
    "        if i.isalpha():\n",
    "            my_string = my_string.replace(i,' ')\n",
    "    num = my_string.split()\n",
    "    for i in num:\n",
    "        answer += int(i)\n",
    "    return answer"
   ]
  },
  {
   "cell_type": "code",
   "execution_count": 204,
   "id": "1df723aa",
   "metadata": {},
   "outputs": [
    {
     "data": {
      "text/plain": [
       "133"
      ]
     },
     "execution_count": 204,
     "metadata": {},
     "output_type": "execute_result"
    }
   ],
   "source": [
    "solution(\"1a2b3c4d123Z\")"
   ]
  },
  {
   "cell_type": "code",
   "execution_count": 250,
   "id": "4fa69c78",
   "metadata": {},
   "outputs": [],
   "source": [
    "# test 3 -> 정규표현식 함수 사용해보기 (1)\n",
    "# findall(패턴, 문자열)\n",
    "# re.findall() : 문자열 안에 패턴에 맞는 케이스를 전부 찾아서 리스트로 반환\n",
    "# +를 넣으면 단어별로 추출, 안넣으면 문자 하나씩 추출\n",
    "import re\n",
    "def solution(my_string):\n",
    "    my_string = re.findall('[^a-z]+', my_string.lower()) # '[0-9]+', '\\d+'도 가능\n",
    "    answer = sum(map(int, my_string))\n",
    "    return answer"
   ]
  },
  {
   "cell_type": "code",
   "execution_count": 251,
   "id": "39e2bb82",
   "metadata": {},
   "outputs": [
    {
     "data": {
      "text/plain": [
       "133"
      ]
     },
     "execution_count": 251,
     "metadata": {},
     "output_type": "execute_result"
    }
   ],
   "source": [
    "solution(\"1a2b3c4d123Z\")"
   ]
  },
  {
   "cell_type": "code",
   "execution_count": 240,
   "id": "c8fd65bb",
   "metadata": {},
   "outputs": [],
   "source": [
    "# test 4 -> 정규표현식 함수 사용해보기 (2)\n",
    "# re.sub(패턴, 교체할 문자열, 문자열, 최대 교체 수)\n",
    "# re.sub() : 문자열에 맞는 패턴을 2번째 인자(교체할 문자열)로 교체\n",
    "import re\n",
    "def solution(my_string):\n",
    "    my_string = re.sub('[a-z]', ' ', my_string.lower())\n",
    "    answer = sum(map(int, my_string.split()))\n",
    "    return answer"
   ]
  },
  {
   "cell_type": "code",
   "execution_count": 241,
   "id": "106ae760",
   "metadata": {},
   "outputs": [
    {
     "data": {
      "text/plain": [
       "133"
      ]
     },
     "execution_count": 241,
     "metadata": {},
     "output_type": "execute_result"
    }
   ],
   "source": [
    "solution(\"1a2b3c4d123Z\")"
   ]
  },
  {
   "cell_type": "code",
   "execution_count": null,
   "id": "7aaca6a0",
   "metadata": {},
   "outputs": [],
   "source": [
    "    "
   ]
  }
 ],
 "metadata": {
  "kernelspec": {
   "display_name": "Python 3 (ipykernel)",
   "language": "python",
   "name": "python3"
  },
  "language_info": {
   "codemirror_mode": {
    "name": "ipython",
    "version": 3
   },
   "file_extension": ".py",
   "mimetype": "text/x-python",
   "name": "python",
   "nbconvert_exporter": "python",
   "pygments_lexer": "ipython3",
   "version": "3.9.12"
  }
 },
 "nbformat": 4,
 "nbformat_minor": 5
}
