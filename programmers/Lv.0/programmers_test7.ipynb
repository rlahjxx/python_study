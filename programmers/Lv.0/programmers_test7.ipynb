{
 "cells": [
  {
   "cell_type": "markdown",
   "id": "622254ee",
   "metadata": {},
   "source": [
    "## 세균 증식"
   ]
  },
  {
   "cell_type": "code",
   "execution_count": 40,
   "id": "38411b99",
   "metadata": {},
   "outputs": [
    {
     "name": "stdout",
     "output_type": "stream",
     "text": [
      "21\n",
      "63\n",
      "189\n",
      "567\n",
      "1701\n",
      "5103\n",
      "15309\n",
      "45927\n",
      "137781\n",
      "413343\n"
     ]
    }
   ],
   "source": [
    "# test 1 (X)\n",
    "n, t = 7,10\n",
    "answer = 0\n",
    "for i in range(t):\n",
    "    m = answer*2\n",
    "    answer += m\n",
    "    print(answer)"
   ]
  },
  {
   "cell_type": "code",
   "execution_count": 75,
   "id": "d61edebc",
   "metadata": {},
   "outputs": [
    {
     "name": "stdout",
     "output_type": "stream",
     "text": [
      "num 14\n",
      "answer 14\n",
      "m 14\n",
      "num 28\n",
      "answer 42\n",
      "m 35\n",
      "num 70\n",
      "answer 112\n",
      "m 98\n",
      "num 196\n",
      "answer 308\n",
      "m 287\n",
      "num 574\n",
      "answer 882\n",
      "m 854\n"
     ]
    }
   ],
   "source": [
    "# test 2 (X)\n",
    "n = 7\n",
    "m = 7\n",
    "num = n\n",
    "answer = 0\n",
    "for i in range(5):\n",
    "    num = m * 2\n",
    "    print('num', num)\n",
    "    answer += num\n",
    "    print('answer', answer)\n",
    "    m += num\n",
    "    m = m-7\n",
    "    num = m *2\n",
    "    print('m', m)"
   ]
  },
  {
   "cell_type": "code",
   "execution_count": 81,
   "id": "d7dd5b2f",
   "metadata": {},
   "outputs": [],
   "source": [
    "# test 3 (O)\n",
    "def solution(n,t):\n",
    "    m = n\n",
    "    answer = 0\n",
    "    for i in range(t):\n",
    "        answer = m * 2\n",
    "        m = m+m\n",
    "    return answer"
   ]
  },
  {
   "cell_type": "code",
   "execution_count": 83,
   "id": "a882e4e4",
   "metadata": {},
   "outputs": [
    {
     "name": "stdout",
     "output_type": "stream",
     "text": [
      "2048\n"
     ]
    }
   ],
   "source": [
    "print(solution(2,10))"
   ]
  },
  {
   "cell_type": "code",
   "execution_count": 84,
   "id": "760b5f14",
   "metadata": {},
   "outputs": [],
   "source": [
    "def solution(n, t):\n",
    "    answer = (2**t) * n\n",
    "    return answer"
   ]
  },
  {
   "cell_type": "code",
   "execution_count": 85,
   "id": "27d45568",
   "metadata": {},
   "outputs": [
    {
     "name": "stdout",
     "output_type": "stream",
     "text": [
      "2048\n"
     ]
    }
   ],
   "source": [
    "print(solution(2,10))"
   ]
  },
  {
   "cell_type": "markdown",
   "id": "1f1a3910",
   "metadata": {},
   "source": [
    "## 중복된 숫자 개수"
   ]
  },
  {
   "cell_type": "code",
   "execution_count": 89,
   "id": "79c65911",
   "metadata": {},
   "outputs": [],
   "source": [
    "def solution(array, n):\n",
    "    n_list = []\n",
    "    for i in array:\n",
    "        if i == n:\n",
    "            n_list.append(i)\n",
    "    return len(n_list)"
   ]
  },
  {
   "cell_type": "code",
   "execution_count": 91,
   "id": "9c3d0982",
   "metadata": {},
   "outputs": [
    {
     "data": {
      "text/plain": [
       "2"
      ]
     },
     "execution_count": 91,
     "metadata": {},
     "output_type": "execute_result"
    }
   ],
   "source": [
    "solution([1,1,2,3,4,5], 1)"
   ]
  },
  {
   "cell_type": "code",
   "execution_count": 93,
   "id": "49cc68aa",
   "metadata": {},
   "outputs": [],
   "source": [
    "def solution(array, n):\n",
    "    return array.count(n)"
   ]
  },
  {
   "cell_type": "code",
   "execution_count": 94,
   "id": "79fc7aa1",
   "metadata": {},
   "outputs": [
    {
     "data": {
      "text/plain": [
       "2"
      ]
     },
     "execution_count": 94,
     "metadata": {},
     "output_type": "execute_result"
    }
   ],
   "source": [
    "solution([1,1,2,3,4,5], 1)"
   ]
  },
  {
   "cell_type": "markdown",
   "id": "4562f4ab",
   "metadata": {},
   "source": [
    "## 순서쌍의 개수"
   ]
  },
  {
   "cell_type": "code",
   "execution_count": null,
   "id": "a55a77f6",
   "metadata": {},
   "outputs": [],
   "source": [
    "def solution(n):\n",
    "    n_list = []\n",
    "    for i in range(1, n//2+1):\n",
    "        if n % i == 0:\n",
    "            n_list.append(i)\n",
    "            n_list.append(n)\n",
    "    for i in n_list:\n",
    "    return answer"
   ]
  },
  {
   "cell_type": "code",
   "execution_count": 5,
   "id": "c56061bc",
   "metadata": {},
   "outputs": [],
   "source": [
    "def solution(n):\n",
    "    num = 0\n",
    "    for i in range(1, n+1):\n",
    "        if n % i == 0:\n",
    "            num += 1\n",
    "    return num"
   ]
  },
  {
   "cell_type": "code",
   "execution_count": 97,
   "id": "957a2606",
   "metadata": {},
   "outputs": [
    {
     "name": "stdout",
     "output_type": "stream",
     "text": [
      "1\n",
      "2\n",
      "4\n",
      "5\n",
      "10\n"
     ]
    }
   ],
   "source": [
    "n = 20\n",
    "for i in range(1, n//2+1):\n",
    "    if n % i == 0:\n",
    "        print(i)"
   ]
  },
  {
   "cell_type": "markdown",
   "id": "ab7f401e",
   "metadata": {},
   "source": [
    "## 가위바위보"
   ]
  },
  {
   "cell_type": "code",
   "execution_count": 3,
   "id": "8b0bc4bd",
   "metadata": {},
   "outputs": [],
   "source": [
    "def solution(rsp):\n",
    "    answer = ''\n",
    "    for i in rsp:\n",
    "        if i == '2':\n",
    "            answer += '0'\n",
    "        elif i == '0':\n",
    "            answer += '5'\n",
    "        elif i == '5':\n",
    "            answer += '2'\n",
    "    return answer"
   ]
  },
  {
   "cell_type": "code",
   "execution_count": 4,
   "id": "188fa02a",
   "metadata": {},
   "outputs": [
    {
     "data": {
      "text/plain": [
       "'520'"
      ]
     },
     "execution_count": 4,
     "metadata": {},
     "output_type": "execute_result"
    }
   ],
   "source": [
    "solution('052')"
   ]
  },
  {
   "cell_type": "code",
   "execution_count": null,
   "id": "9c896bf1",
   "metadata": {},
   "outputs": [],
   "source": []
  }
 ],
 "metadata": {
  "kernelspec": {
   "display_name": "Python 3 (ipykernel)",
   "language": "python",
   "name": "python3"
  },
  "language_info": {
   "codemirror_mode": {
    "name": "ipython",
    "version": 3
   },
   "file_extension": ".py",
   "mimetype": "text/x-python",
   "name": "python",
   "nbconvert_exporter": "python",
   "pygments_lexer": "ipython3",
   "version": "3.9.12"
  }
 },
 "nbformat": 4,
 "nbformat_minor": 5
}
