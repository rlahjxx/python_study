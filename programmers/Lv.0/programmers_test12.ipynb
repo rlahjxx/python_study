{
 "cells": [
  {
   "cell_type": "markdown",
   "id": "73792118",
   "metadata": {},
   "source": [
    "## 팩토리얼"
   ]
  },
  {
   "cell_type": "code",
   "execution_count": 22,
   "id": "03641a3b",
   "metadata": {},
   "outputs": [],
   "source": [
    "# test 1 (X)\n",
    "def solution(n):\n",
    "    answer = 1\n",
    "    n_list = []\n",
    "    n_num = []\n",
    "    m_list = []\n",
    "    m_num = []\n",
    "    for i in range(2, 11):\n",
    "        answer *= i\n",
    "        if answer > n:\n",
    "            n_list.append(i)\n",
    "            n_num.append(answer)\n",
    "        elif answer < n:\n",
    "            m_list.append(i)\n",
    "            m_num.append(answer)\n",
    "        else:\n",
    "            return i\n",
    "    if abs(min(n_num)-n) <= abs(max(m_num)-n):\n",
    "        return min(n_list)\n",
    "    else:\n",
    "        return max(m_list)"
   ]
  },
  {
   "cell_type": "code",
   "execution_count": 42,
   "id": "1cc498c4",
   "metadata": {},
   "outputs": [],
   "source": [
    "# test 2 (O)\n",
    "def solution(n):\n",
    "    answer = 1\n",
    "    n_list = []\n",
    "    for i in range(1, 11):\n",
    "        answer *= i\n",
    "        if answer < n:\n",
    "            n_list.append(i)\n",
    "        elif answer == n:\n",
    "            return i\n",
    "    return max(n_list)"
   ]
  },
  {
   "cell_type": "code",
   "execution_count": 43,
   "id": "9c328e95",
   "metadata": {},
   "outputs": [
    {
     "data": {
      "text/plain": [
       "1"
      ]
     },
     "execution_count": 43,
     "metadata": {},
     "output_type": "execute_result"
    }
   ],
   "source": [
    "solution(1)"
   ]
  },
  {
   "cell_type": "code",
   "execution_count": 44,
   "id": "aeaf2f5f",
   "metadata": {},
   "outputs": [],
   "source": [
    "# factorial 함수 이용하기\n",
    "from math import factorial\n",
    "def solution(n):\n",
    "    k = 10\n",
    "    while n < factorial(k):\n",
    "        k -= 1\n",
    "    return k"
   ]
  },
  {
   "cell_type": "code",
   "execution_count": 45,
   "id": "a4d125b0",
   "metadata": {},
   "outputs": [
    {
     "data": {
      "text/plain": [
       "3"
      ]
     },
     "execution_count": 45,
     "metadata": {},
     "output_type": "execute_result"
    }
   ],
   "source": [
    "solution(12)"
   ]
  },
  {
   "cell_type": "code",
   "execution_count": null,
   "id": "55a826ce",
   "metadata": {},
   "outputs": [],
   "source": []
  }
 ],
 "metadata": {
  "kernelspec": {
   "display_name": "Python 3 (ipykernel)",
   "language": "python",
   "name": "python3"
  },
  "language_info": {
   "codemirror_mode": {
    "name": "ipython",
    "version": 3
   },
   "file_extension": ".py",
   "mimetype": "text/x-python",
   "name": "python",
   "nbconvert_exporter": "python",
   "pygments_lexer": "ipython3",
   "version": "3.9.12"
  }
 },
 "nbformat": 4,
 "nbformat_minor": 5
}
