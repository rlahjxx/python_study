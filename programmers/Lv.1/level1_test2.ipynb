{
 "cells": [
  {
   "cell_type": "markdown",
   "id": "4fd4aeed",
   "metadata": {},
   "source": [
    "# [ 푸드 파이트 대회 ]\n",
    "수웅이는 매달 주어진 음식을 빨리 먹는 푸드 파이트 대회를 개최합니다. 이 대회에서 선수들은 1대 1로 대결하며, 매 대결마다 음식의 종류와 양이 바뀝니다. 대결은 준비된 음식들을 일렬로 배치한 뒤, 한 선수는 제일 왼쪽에 있는 음식부터 오른쪽으로, 다른 선수는 제일 오른쪽에 있는 음식부터 왼쪽으로 순서대로 먹는 방식으로 진행됩니다. 중앙에는 물을 배치하고, 물을 먼저 먹는 선수가 승리하게 됩니다.\n",
    "\n",
    "이때, 대회의 공정성을 위해 두 선수가 먹는 음식의 종류와 양이 같아야 하며, 음식을 먹는 순서도 같아야 합니다. 또한, 이번 대회부터는 칼로리가 낮은 음식을 먼저 먹을 수 있게 배치하여 선수들이 음식을 더 잘 먹을 수 있게 하려고 합니다. 이번 대회를 위해 수웅이는 음식을 주문했는데, 대회의 조건을 고려하지 않고 음식을 주문하여 몇 개의 음식은 대회에 사용하지 못하게 되었습니다.\n",
    "\n",
    "예를 들어, 3가지의 음식이 준비되어 있으며, 칼로리가 적은 순서대로 1번 음식을 3개, 2번 음식을 4개, 3번 음식을 6개 준비했으며, 물을 편의상 0번 음식이라고 칭한다면, 두 선수는 1번 음식 1개, 2번 음식 2개, 3번 음식 3개씩을 먹게 되므로 음식의 배치는 \"1223330333221\"이 됩니다. 따라서 1번 음식 1개는 대회에 사용하지 못합니다.\n",
    "\n",
    "수웅이가 준비한 음식의 양을 칼로리가 적은 순서대로 나타내는 정수 배열 food가 주어졌을 때, 대회를 위한 음식의 배치를 나타내는 문자열을 return 하는 solution 함수를 완성해주세요."
   ]
  },
  {
   "cell_type": "markdown",
   "id": "7a1319c6",
   "metadata": {},
   "source": [
    "### 시행 착오 코드"
   ]
  },
  {
   "cell_type": "code",
   "execution_count": 46,
   "id": "351b9a8a",
   "metadata": {},
   "outputs": [],
   "source": [
    "# test 1 (X) -> 음식의 개수가 물 제외하고 3개만 주어지는 줄 알고 착각함\n",
    "def solution(food):\n",
    "    for i in range(1, 4) :\n",
    "        food[i] = food[i] // 2\n",
    "    num, answer = [], ''\n",
    "    for i in range(1, 4) :\n",
    "        count = ''\n",
    "        for _ in range(1, food[i] + 1) :\n",
    "            count += str(i)\n",
    "        num.append(count)\n",
    "    for j in num :\n",
    "        answer += j\n",
    "    return answer + '0' + answer[::-1]"
   ]
  },
  {
   "cell_type": "code",
   "execution_count": 50,
   "id": "547e8283",
   "metadata": {},
   "outputs": [
    {
     "data": {
      "text/plain": [
       "'122303221'"
      ]
     },
     "execution_count": 50,
     "metadata": {},
     "output_type": "execute_result"
    }
   ],
   "source": [
    "solution([1,2,5,2])"
   ]
  },
  {
   "cell_type": "markdown",
   "id": "ce08ebe5",
   "metadata": {},
   "source": [
    "### 통과 풀이 및 보완 코드"
   ]
  },
  {
   "cell_type": "code",
   "execution_count": 48,
   "id": "964646c9",
   "metadata": {},
   "outputs": [],
   "source": [
    "\n",
    "def solution(food):\n",
    "    for i in range(1, len(food)) :\n",
    "        # 인덱스별 양쪽에 놓을 수 있는 음식의 개수 구하기\n",
    "        food[i] = food[i] // 2\n",
    "    num, answer = [], ''\n",
    "    # for문을 통해 놓을 수 있는 음식의 개수만큼 반복해서 더하기\n",
    "    for i in range(1, len(food)) :\n",
    "        count = ''\n",
    "        for _ in range(1, food[i] + 1) :\n",
    "            count += str(i)\n",
    "        num.append(count)\n",
    "    for j in num :\n",
    "        answer += j\n",
    "    return answer + '0' + answer[::-1]"
   ]
  },
  {
   "cell_type": "code",
   "execution_count": 49,
   "id": "fca95fb4",
   "metadata": {},
   "outputs": [
    {
     "data": {
      "text/plain": [
       "'23032'"
      ]
     },
     "execution_count": 49,
     "metadata": {},
     "output_type": "execute_result"
    }
   ],
   "source": [
    "solution([1,1,3,2])"
   ]
  },
  {
   "cell_type": "code",
   "execution_count": 52,
   "id": "998529e1",
   "metadata": {},
   "outputs": [],
   "source": [
    "# test 3 -> 같은 문자열을 반복해서 더할 때 for문 돌 필요 없이 str(i) * 반복 횟수로 적용\n",
    "def solution(food):\n",
    "    answer, rev = '', ''\n",
    "    for i in range(1,len(food)):\n",
    "        answer+=str(i)*(food[i]//2)\n",
    "    rev=answer[::-1]\n",
    "    answer+='0'\n",
    "    return answer+rev"
   ]
  },
  {
   "cell_type": "code",
   "execution_count": 53,
   "id": "d4df631c",
   "metadata": {},
   "outputs": [
    {
     "name": "stdout",
     "output_type": "stream",
     "text": [
      "1\n",
      "122\n",
      "1223\n"
     ]
    },
    {
     "data": {
      "text/plain": [
       "'122303221'"
      ]
     },
     "execution_count": 53,
     "metadata": {},
     "output_type": "execute_result"
    }
   ],
   "source": [
    "solution([1,2,5,2])"
   ]
  },
  {
   "cell_type": "markdown",
   "id": "645e52e0",
   "metadata": {},
   "source": [
    "# [ 옹알이 (2) ]\n",
    "머쓱이는 태어난 지 11개월 된 조카를 돌보고 있습니다. 조카는 아직 \"aya\", \"ye\", \"woo\", \"ma\" 네 가지 발음과 네 가지 발음을 조합해서 만들 수 있는 발음밖에 하지 못하고 연속해서 같은 발음을 하는 것을 어려워합니다. 문자열 배열 babbling이 매개변수로 주어질 때, 머쓱이의 조카가 발음할 수 있는 단어의 개수를 return하도록 solution 함수를 완성해주세요."
   ]
  },
  {
   "cell_type": "markdown",
   "id": "bfbb8c90",
   "metadata": {},
   "source": [
    "### 시행 착오 코드"
   ]
  },
  {
   "cell_type": "code",
   "execution_count": 54,
   "id": "fb8a02db",
   "metadata": {},
   "outputs": [],
   "source": [
    "# test 1 (X) -> 순열 함수를 이용하면 연산 구조가 너무 복잡해짐\n",
    "from itertools import permutations\n",
    "    for i in range(1, 5) :\n",
    "    m = list(permutations(babe,i))\n",
    "    count = 0\n",
    "    for i in m :\n",
    "        if ''.join(i) in babbling :\n",
    "            for j in babe :\n",
    "                if ''.join(j) == j * 2 :\n",
    "                    pass\n",
    "                count += 1\n",
    "    return count"
   ]
  },
  {
   "cell_type": "code",
   "execution_count": null,
   "id": "7c5e21e0",
   "metadata": {},
   "outputs": [],
   "source": [
    "# test 2 (X) ->\n",
    "def solution(babbling):\n",
    "    babe = [\"aya\", \"ye\", \"woo\", \"ma\"]\n",
    "    count, num = 0, []\n",
    "    for i in babbling :\n",
    "        for j in babe :\n",
    "            # 해당되면 그 해당 문자를 해당 문자의 인덱스로 변환  ex) yeye => 11\n",
    "            if j in i :\n",
    "                i = i.replace(j, str(babe.index(j)))\n",
    "        num.append(i)\n",
    "    for i in num :\n",
    "        if i.isdigit() :\n",
    "            # 숫자로만 구성된 문자열이 역순 문자열과 같다 = 같은 옹알이 반복되었다는 뜻\n",
    "            # but 2244와 같이 2개의 옹알이가 연속해서 반복되는 경우도 역순이 같지 않아 count되어 에러 발생\n",
    "            if i != i[::-1] or len(i) == 1:\n",
    "            # if sorted(list(i)) == sorted(list(set(i))) or len(i) == 1:\n",
    "                count += 1\n",
    "    return count"
   ]
  },
  {
   "cell_type": "markdown",
   "id": "e520775b",
   "metadata": {},
   "source": [
    "### 통과 풀이 및 보완 코드"
   ]
  },
  {
   "cell_type": "code",
   "execution_count": 178,
   "id": "7e6e2021",
   "metadata": {},
   "outputs": [],
   "source": [
    "# test 3 (O) \n",
    "def solution(babbling):\n",
    "    babe = [\"aya\", \"ye\", \"woo\", \"ma\"]\n",
    "    count, num = 0, []\n",
    "    for i in babbling :\n",
    "        for j in babe :\n",
    "            # 연속해서 옹알이 되는 경우를 append에서 제외할 수 있도록 조건문 걸어버리기\n",
    "            if j in i and j * 2 not in i:\n",
    "                i = i.replace(j, str(babe.index(j) + 1))\n",
    "        num.append(i)\n",
    "    for i in num :\n",
    "        if i.isdigit() :\n",
    "            count += 1             \n",
    "    return count"
   ]
  },
  {
   "cell_type": "code",
   "execution_count": 179,
   "id": "b3965257",
   "metadata": {},
   "outputs": [
    {
     "data": {
      "text/plain": [
       "2"
      ]
     },
     "execution_count": 179,
     "metadata": {},
     "output_type": "execute_result"
    }
   ],
   "source": [
    "solution([\"ayaye\", \"uuu\", \"yeye\", \"yemawooma\", \"ayaayaa\"])"
   ]
  },
  {
   "cell_type": "markdown",
   "id": "fcbb4371",
   "metadata": {},
   "source": [
    "# [ 삼총사 ]\n",
    "한국중학교에 다니는 학생들은 각자 정수 번호를 갖고 있습니다. 이 학교 학생 3명의 정수 번호를 더했을 때 0이 되면 3명의 학생은 삼총사라고 합니다. 예를 들어, 5명의 학생이 있고, 각각의 정수 번호가 순서대로 -2, 3, 0, 2, -5일 때, 첫 번째, 세 번째, 네 번째 학생의 정수 번호를 더하면 0이므로 세 학생은 삼총사입니다. 또한, 두 번째, 네 번째, 다섯 번째 학생의 정수 번호를 더해도 0이므로 세 학생도 삼총사입니다. 따라서 이 경우 한국중학교에서는 두 가지 방법으로 삼총사를 만들 수 있습니다.\n",
    "\n",
    "한국중학교 학생들의 번호를 나타내는 정수 배열 number가 매개변수로 주어질 때, 학생들 중 삼총사를 만들 수 있는 방법의 수를 return 하도록 solution 함수를 완성하세요."
   ]
  },
  {
   "cell_type": "markdown",
   "id": "2b638edd",
   "metadata": {},
   "source": [
    "### 통과 풀이"
   ]
  },
  {
   "cell_type": "code",
   "execution_count": 186,
   "id": "bffc0806",
   "metadata": {},
   "outputs": [],
   "source": [
    "def solution(number):\n",
    "    from itertools import combinations\n",
    "    count = 0\n",
    "    com = list(combinations(number, 3))\n",
    "    for i in com :\n",
    "        if sum(i) == 0 :\n",
    "            count += 1\n",
    "    return count"
   ]
  },
  {
   "cell_type": "code",
   "execution_count": 187,
   "id": "f36f35b3",
   "metadata": {},
   "outputs": [
    {
     "data": {
      "text/plain": [
       "5"
      ]
     },
     "execution_count": 187,
     "metadata": {},
     "output_type": "execute_result"
    }
   ],
   "source": [
    "solution([-3, -2, -1, 0, 1, 2, 3])"
   ]
  },
  {
   "cell_type": "markdown",
   "id": "48d41b8b",
   "metadata": {},
   "source": [
    "# [ 콜라 문제 ]\n",
    "문제를 풀던 상빈이는 콜라 문제의 완벽한 해답을 찾았습니다. 상빈이가 푼 방법은 아래 그림과 같습니다. 우선 콜라 빈 병 20병을 가져가서 10병을 받습니다. 받은 10병을 모두 마신 뒤, 가져가서 5병을 받습니다. 5병 중 4병을 모두 마신 뒤 가져가서 2병을 받고, 또 2병을 모두 마신 뒤 가져가서 1병을 받습니다. 받은 1병과 5병을 받았을 때 남은 1병을 모두 마신 뒤 가져가면 1병을 또 받을 수 있습니다. 이 경우 상빈이는 총 10 + 5 + 2 + 1 + 1 = 19병의 콜라를 받을 수 있습니다.\n",
    "문제를 열심히 풀던 상빈이는 일반화된 콜라 문제를 생각했습니다. 이 문제는 빈 병 a개를 가져다주면 콜라 b병을 주는 마트가 있을 때, 빈 병 n개를 가져다주면 몇 병을 받을 수 있는지 계산하는 문제입니다. 기존 콜라 문제와 마찬가지로, 보유 중인 빈 병이 a개 미만이면, 추가적으로 빈 병을 받을 순 없습니다. 상빈이는 열심히 고심했지만, 일반화된 콜라 문제의 답을 찾을 수 없었습니다. 상빈이를 도와, 일반화된 콜라 문제를 해결하는 프로그램을 만들어 주세요.\n",
    "\n",
    "콜라를 받기 위해 마트에 주어야 하는 병 수 a, 빈 병 a개를 가져다 주면 마트가 주는 콜라 병 수 b, 상빈이가 가지고 있는 빈 병의 개수 n이 매개변수로 주어집니다. 상빈이가 받을 수 있는 콜라의 병 수를 return 하도록 solution 함수를 작성해주세요."
   ]
  },
  {
   "cell_type": "markdown",
   "id": "61c040f6",
   "metadata": {},
   "source": [
    "### 시행 착오 코드"
   ]
  },
  {
   "cell_type": "code",
   "execution_count": 218,
   "id": "953c5639",
   "metadata": {},
   "outputs": [],
   "source": [
    "# test 1 (X)\n",
    "def solution(a, b, n):\n",
    "    answer = 0\n",
    "    while True:\n",
    "        num1 = n // a\n",
    "        if num1 < 1 :\n",
    "            return answer\n",
    "        num2 = num1 * a\n",
    "        num3 = num1 * b\n",
    "        n = num1 - num2 + num3\n",
    "        answer += num2"
   ]
  },
  {
   "cell_type": "code",
   "execution_count": 219,
   "id": "3c148abf",
   "metadata": {},
   "outputs": [
    {
     "data": {
      "text/plain": [
       "18"
      ]
     },
     "execution_count": 219,
     "metadata": {},
     "output_type": "execute_result"
    }
   ],
   "source": [
    "solution(3,1,20)"
   ]
  },
  {
   "cell_type": "code",
   "execution_count": 31,
   "id": "2b65d02c",
   "metadata": {},
   "outputs": [],
   "source": [
    "# test 2 (X)\n",
    "def solution(a, b, n):\n",
    "    answer = 0\n",
    "    while n > 2:\n",
    "        num1 = n // a\n",
    "        num2, num3 = num1 * a, num1 * b \n",
    "        n = n - num2 + num3\n",
    "        answer += num3\n",
    "    if n // a == 1 :\n",
    "        answer += 1\n",
    "    return answer"
   ]
  },
  {
   "cell_type": "code",
   "execution_count": 33,
   "id": "356199b7",
   "metadata": {},
   "outputs": [
    {
     "data": {
      "text/plain": [
       "19"
      ]
     },
     "execution_count": 33,
     "metadata": {},
     "output_type": "execute_result"
    }
   ],
   "source": [
    "solution(2,1,20)"
   ]
  },
  {
   "cell_type": "markdown",
   "id": "5786c7b2",
   "metadata": {},
   "source": [
    "### 통과 풀이"
   ]
  },
  {
   "cell_type": "code",
   "execution_count": null,
   "id": "c44e0a7b",
   "metadata": {},
   "outputs": [],
   "source": [
    "def solution(a, b, n):\n",
    "    answer = 0\n",
    "    while n >= a:\n",
    "        answer += (n // a) * b\n",
    "        n = n - ((n // a) * a) + ((n // a) * b)\n",
    "    return answer"
   ]
  },
  {
   "cell_type": "code",
   "execution_count": 38,
   "id": "95169727",
   "metadata": {},
   "outputs": [
    {
     "data": {
      "text/plain": [
       "19"
      ]
     },
     "execution_count": 38,
     "metadata": {},
     "output_type": "execute_result"
    }
   ],
   "source": [
    "solution(2,1,20)"
   ]
  },
  {
   "cell_type": "code",
   "execution_count": null,
   "id": "eb29d85b",
   "metadata": {},
   "outputs": [],
   "source": []
  }
 ],
 "metadata": {
  "kernelspec": {
   "display_name": "Python 3 (ipykernel)",
   "language": "python",
   "name": "python3"
  },
  "language_info": {
   "codemirror_mode": {
    "name": "ipython",
    "version": 3
   },
   "file_extension": ".py",
   "mimetype": "text/x-python",
   "name": "python",
   "nbconvert_exporter": "python",
   "pygments_lexer": "ipython3",
   "version": "3.9.12"
  }
 },
 "nbformat": 4,
 "nbformat_minor": 5
}
