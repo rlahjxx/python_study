{
 "cells": [
  {
   "cell_type": "markdown",
   "id": "f6378a23",
   "metadata": {},
   "source": [
    "# [ 예산 ]\n",
    "S사에서는 각 부서에 필요한 물품을 지원해 주기 위해 부서별로 물품을 구매하는데 필요한 금액을 조사했습니다. 그러나, 전체 예산이 정해져 있기 때문에 모든 부서의 물품을 구매해 줄 수는 없습니다. 그래서 최대한 많은 부서의 물품을 구매해 줄 수 있도록 하려고 합니다.\n",
    "\n",
    "물품을 구매해 줄 때는 각 부서가 신청한 금액만큼을 모두 지원해 줘야 합니다. 예를 들어 1,000원을 신청한 부서에는 정확히 1,000원을 지원해야 하며, 1,000원보다 적은 금액을 지원해 줄 수는 없습니다.\n",
    "\n",
    "부서별로 신청한 금액이 들어있는 배열 d와 예산 budget이 매개변수로 주어질 때, 최대 몇 개의 부서에 물품을 지원할 수 있는지 return 하도록 solution 함수를 완성해주세요."
   ]
  },
  {
   "cell_type": "markdown",
   "id": "be2d70ad",
   "metadata": {},
   "source": [
    "### 시행 착오 코드"
   ]
  },
  {
   "cell_type": "code",
   "execution_count": 47,
   "id": "c647bdc7",
   "metadata": {},
   "outputs": [],
   "source": [
    "# test 1 (X) -> 시간 초과 에러 발생\n",
    "from itertools import combinations\n",
    "def solution(d, budget):\n",
    "    count = 0\n",
    "    for i in range(1, len(d) + 1) :\n",
    "        for j in list(combinations(d, i)) :\n",
    "            if sum(j) <= budget :\n",
    "                if count < len(j) :\n",
    "                    count = len(j)\n",
    "    return count"
   ]
  },
  {
   "cell_type": "code",
   "execution_count": 48,
   "id": "ca2edbd9",
   "metadata": {},
   "outputs": [
    {
     "data": {
      "text/plain": [
       "3"
      ]
     },
     "execution_count": 48,
     "metadata": {},
     "output_type": "execute_result"
    }
   ],
   "source": [
    "solution([1,3,2,5,4], 9)"
   ]
  },
  {
   "cell_type": "code",
   "execution_count": 64,
   "id": "a8b506e0",
   "metadata": {},
   "outputs": [],
   "source": [
    "# test 2 (X) -> 시간 초과 에러 발생\n",
    "from itertools import combinations\n",
    "def solution(d, budget):\n",
    "    for i in range(len(d), 0, -1) :\n",
    "        for j in list(combinations(d, i)) :\n",
    "            if sum(j) <= budget :\n",
    "                return len(j)"
   ]
  },
  {
   "cell_type": "code",
   "execution_count": 71,
   "id": "3a4759fc",
   "metadata": {},
   "outputs": [
    {
     "data": {
      "text/plain": [
       "4"
      ]
     },
     "execution_count": 71,
     "metadata": {},
     "output_type": "execute_result"
    }
   ],
   "source": [
    "solution([2,2,3,3], 10)"
   ]
  },
  {
   "cell_type": "markdown",
   "id": "cc03355e",
   "metadata": {},
   "source": [
    "### 통과 풀이 및 보완 코드"
   ]
  },
  {
   "cell_type": "code",
   "execution_count": 88,
   "id": "67c7009b",
   "metadata": {},
   "outputs": [],
   "source": [
    "# test 3 (O)\n",
    "def solution(d, budget) :\n",
    "    d = sorted(d)\n",
    "    for i in range(len(d), 0 , -1) :\n",
    "        if sum(d[:i]) <= budget :\n",
    "            return len(d[:i])\n",
    "    return 0"
   ]
  },
  {
   "cell_type": "code",
   "execution_count": 90,
   "id": "07763343",
   "metadata": {},
   "outputs": [
    {
     "data": {
      "text/plain": [
       "0"
      ]
     },
     "execution_count": 90,
     "metadata": {},
     "output_type": "execute_result"
    }
   ],
   "source": [
    "solution([3], 2)"
   ]
  },
  {
   "cell_type": "markdown",
   "id": "a334a21f",
   "metadata": {},
   "source": [
    "# [ 시저 암호 ]\n",
    "어떤 문장의 각 알파벳을 일정한 거리만큼 밀어서 다른 알파벳으로 바꾸는 암호화 방식을 시저 암호라고 합니다.\n",
    "\n",
    "예를 들어 \"AB\"는 1만큼 밀면 \"BC\"가 되고, 3만큼 밀면 \"DE\"가 됩니다. \"z\"는 1만큼 밀면 \"a\"가 됩니다. \n",
    "\n",
    "문자열 s와 거리 n을 입력받아 s를 n만큼 민 암호문을 만드는 함수, solution을 완성해 보세요."
   ]
  },
  {
   "cell_type": "markdown",
   "id": "9befd5d1",
   "metadata": {},
   "source": [
    "### 시행 착오 코드"
   ]
  },
  {
   "cell_type": "code",
   "execution_count": null,
   "id": "a29c3dc3",
   "metadata": {},
   "outputs": [],
   "source": [
    "def solution(s, n):\n",
    "    alpha1, alpha2 = 'abcdefghijklmnopqrstuvwxyz', 'ABCDEFGHIJKLMNOPQRSTUVWXYZ'\n",
    "    for i in range(len(s)) :\n",
    "        if s[i] == ' ' :  pass\n",
    "        if s[i].isupper() :\n",
    "            for j in range(len(alpha2)) :\n",
    "                if s[i] == alpha2[j] :\n",
    "                    s[i] = alpha2[(j + n) % 26]\n",
    "        else :\n",
    "             for j in range(len(alpha1)) :\n",
    "                if s[i] == alpha1[j] :\n",
    "                    s[i] = alpha1[(j + n) % 26]\n",
    "    return s"
   ]
  },
  {
   "cell_type": "code",
   "execution_count": 195,
   "id": "0a4c0048",
   "metadata": {},
   "outputs": [
    {
     "data": {
      "text/plain": [
       "'e F d'"
      ]
     },
     "execution_count": 195,
     "metadata": {},
     "output_type": "execute_result"
    }
   ],
   "source": [
    "solution(\"a B z\", 4)"
   ]
  },
  {
   "cell_type": "code",
   "execution_count": 160,
   "id": "0e757216",
   "metadata": {},
   "outputs": [
    {
     "name": "stdout",
     "output_type": "stream",
     "text": [
      "AB\n"
     ]
    }
   ],
   "source": [
    "s = 'ZA'\n",
    "answer = ''\n",
    "if s.isupper() :\n",
    "    for i in s :\n",
    "        if i == 'Z' :\n",
    "            answer += chr((ord(i) + 1) - 26)\n",
    "        else :  answer += chr(ord(i) + 1)\n",
    "print(answer)"
   ]
  },
  {
   "cell_type": "code",
   "execution_count": 166,
   "id": "c9ff23df",
   "metadata": {},
   "outputs": [
    {
     "name": "stdout",
     "output_type": "stream",
     "text": [
      "CD\n"
     ]
    }
   ],
   "source": [
    "alpha1, alpha2 = 'abcdefghijklmnopqrstuvwxyz', 'ABCDEFGHIJKLMNOPQRSTUVWXYZ'\n",
    "s, n = \"AB\", 2\n",
    "for i in s :\n",
    "    if i == ' ' :  pass\n",
    "    if i.isupper() :\n",
    "        for j in range(len(alpha2)) :\n",
    "            if i == alpha2[j] :\n",
    "                s = s.replace(i, alpha2[(j + n) % 26])\n",
    "    else :\n",
    "         for j in range(len(alpha1)) :\n",
    "            if i == alpha1[j] :\n",
    "                s = s.replace(i, alpha1[(j + n) % 26])\n",
    "print(s)"
   ]
  },
  {
   "cell_type": "code",
   "execution_count": 168,
   "id": "92f31b64",
   "metadata": {},
   "outputs": [
    {
     "ename": "SyntaxError",
     "evalue": "invalid syntax (3894027555.py, line 5)",
     "output_type": "error",
     "traceback": [
      "\u001b[1;36m  Input \u001b[1;32mIn [168]\u001b[1;36m\u001b[0m\n\u001b[1;33m    for j in\u001b[0m\n\u001b[1;37m             ^\u001b[0m\n\u001b[1;31mSyntaxError\u001b[0m\u001b[1;31m:\u001b[0m invalid syntax\n"
     ]
    }
   ],
   "source": [
    "alpha = 'abcdefghijklmnopqrstuvwxyz'\n",
    "s = \"z a b\"\n",
    "if ' ' in s :\n",
    "    for i in range(len(alpha)) :\n",
    "        for j in \n",
    "if s.isupper() : \n",
    "    alpha = alpha.upper()\n",
    "for i in range(len(alpha)) :\n",
    "    if ' ' not in s :\n",
    "        if s[0] == alpha[i] :\n",
    "            print(alpha[(i + 2) % 26 : (i + len(s) + 2) % 26])"
   ]
  },
  {
   "cell_type": "markdown",
   "id": "160d166b",
   "metadata": {},
   "source": [
    "### 통과 풀이 및 보완 코드"
   ]
  },
  {
   "cell_type": "code",
   "execution_count": 200,
   "id": "397b1cce",
   "metadata": {},
   "outputs": [],
   "source": [
    "# test 1 (O)\n",
    "def solution(s, n):\n",
    "    # 알파벳이 소문자, 대문자인 경우를 나눠서 문자열로 선언\n",
    "    alpha1, alpha2 = 'abcdefghijklmnopqrstuvwxyz', 'ABCDEFGHIJKLMNOPQRSTUVWXYZ'\n",
    "    answer = ''\n",
    "    # s의 인덱스를 따기 위해 s의 개수로 for문 돌기\n",
    "    for i in range(len(s)) :\n",
    "        # 공백인 경우 => + ' '\n",
    "        if s[i] == ' ' :  answer += ' '\n",
    "        # 대문자인 경우 alpha2를 이용하여 구하기\n",
    "        if s[i].isupper() :\n",
    "            for j in range(len(alpha2)) :\n",
    "                if s[i] == alpha2[j] :\n",
    "                    # z를 a로 바꾸는 것을 대비하여 % (알파벳 개수) 를 해줌\n",
    "                    answer += alpha2[(j + n) % 26]\n",
    "        # 소문자인 경우 alpha1을 이용하여 구하기\n",
    "        else :\n",
    "             for j in range(len(alpha1)) :\n",
    "                if s[i] == alpha1[j] :\n",
    "                    answer += alpha1[(j + n) % 26]\n",
    "    return answer"
   ]
  },
  {
   "cell_type": "code",
   "execution_count": 201,
   "id": "09251551",
   "metadata": {},
   "outputs": [
    {
     "data": {
      "text/plain": [
       "'BC'"
      ]
     },
     "execution_count": 201,
     "metadata": {},
     "output_type": "execute_result"
    }
   ],
   "source": [
    "solution('AB', 1)"
   ]
  },
  {
   "cell_type": "code",
   "execution_count": 204,
   "id": "164e4672",
   "metadata": {},
   "outputs": [],
   "source": [
    "# test 2 -> 1번의 for문과 asci 코드 이용\n",
    "def solution(s, n):\n",
    "    # 'a' 부터 'z' 까지가 들어 있는 리스트 배열 선언\n",
    "    alpha = [chr(x) for x in range(97,123)]\n",
    "    answer = ''\n",
    "    # 단어 하나마다 이동 진행\n",
    "    for word in s :\n",
    "\n",
    "        # 공백일 경우 공백으로 변환\n",
    "        if word == ' ':\n",
    "            answer += ' '\n",
    "        # 단어가 소문자일 경우\n",
    "        elif word.islower() :\n",
    "            # n 만큼 이동 / 이때 배열의 최대 크기를 넘어갈 경우 26(배열 크기)으로 나눈다.\n",
    "            answer += alpha[(alpha.index(word) + n) % 26]\n",
    "\n",
    "        # 단어가 대문자 일 경우\n",
    "        else :\n",
    "            answer += alpha[(alpha.index(word.lower()) + n) % 26].upper()\n",
    "\n",
    "    return answer"
   ]
  },
  {
   "cell_type": "code",
   "execution_count": 205,
   "id": "1cd4602a",
   "metadata": {},
   "outputs": [
    {
     "data": {
      "text/plain": [
       "'BC'"
      ]
     },
     "execution_count": 205,
     "metadata": {},
     "output_type": "execute_result"
    }
   ],
   "source": [
    "solution('AB', 1)"
   ]
  },
  {
   "cell_type": "code",
   "execution_count": 210,
   "id": "a4e0c44e",
   "metadata": {},
   "outputs": [],
   "source": [
    "# test 3 -> 문자 부등호를 이용한 풀이\n",
    "def solution(s, n):\n",
    "    answer = ''\n",
    "    for i in s:\n",
    "        if i >= 'A' and i <= 'Z':\n",
    "            answer += chr((ord(i) - ord('A') + n) % 26 + ord('A'))\n",
    "        elif i >= 'a' and i <= 'z':\n",
    "            answer += chr((ord(i) - ord('a') + n) % 26 + ord('a'))\n",
    "        else : answer += ' '\n",
    "    return answer"
   ]
  },
  {
   "cell_type": "code",
   "execution_count": 212,
   "id": "64ae5f15",
   "metadata": {},
   "outputs": [
    {
     "data": {
      "text/plain": [
       "'e F d'"
      ]
     },
     "execution_count": 212,
     "metadata": {},
     "output_type": "execute_result"
    }
   ],
   "source": [
    "solution(\"a B z\", 4)"
   ]
  },
  {
   "cell_type": "code",
   "execution_count": null,
   "id": "5814a734",
   "metadata": {},
   "outputs": [],
   "source": []
  }
 ],
 "metadata": {
  "kernelspec": {
   "display_name": "Python 3 (ipykernel)",
   "language": "python",
   "name": "python3"
  },
  "language_info": {
   "codemirror_mode": {
    "name": "ipython",
    "version": 3
   },
   "file_extension": ".py",
   "mimetype": "text/x-python",
   "name": "python",
   "nbconvert_exporter": "python",
   "pygments_lexer": "ipython3",
   "version": "3.9.12"
  }
 },
 "nbformat": 4,
 "nbformat_minor": 5
}
