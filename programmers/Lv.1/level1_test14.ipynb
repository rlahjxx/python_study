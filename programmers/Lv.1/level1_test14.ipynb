{
 "cells": [
  {
   "cell_type": "markdown",
   "id": "5b108a29",
   "metadata": {},
   "source": [
    "# 크기가 작은 부분 문자열\n",
    "숫자로 이루어진 문자열 t와 p가 주어질 때, t에서 p와 길이가 같은 부분문자열 중에서, 이 부분문자열이 나타내는 수가 p가 나타내는 수보다 작거나 같은 것이 나오는 횟수를 return하는 함수 solution을 완성하세요.\n",
    "\n",
    "예를 들어, t=\"3141592\"이고 p=\"271\" 인 경우, t의 길이가 3인 부분 문자열은 314, 141, 415, 159, 592입니다. 이 문자열이 나타내는 수 중 271보다 작거나 같은 수는 141, 159 2개 입니다.\n"
   ]
  },
  {
   "cell_type": "markdown",
   "id": "85b91318",
   "metadata": {},
   "source": [
    "### 시행 착오 코드"
   ]
  },
  {
   "cell_type": "code",
   "execution_count": 19,
   "id": "5f949019",
   "metadata": {},
   "outputs": [
    {
     "name": "stdout",
     "output_type": "stream",
     "text": [
      "2\n"
     ]
    }
   ],
   "source": [
    "t, p = \"3141592\", \"271\"\n",
    "number, answer = [], 0\n",
    "for i in range(0, len(t)-len(p)+1) :\n",
    "    number.append(int(t[i:i+len(p)]))\n",
    "\n",
    "for i in number :\n",
    "    if i <= int(p) :\n",
    "        answer += 1\n",
    "print(answer)"
   ]
  },
  {
   "cell_type": "markdown",
   "id": "362cca44",
   "metadata": {},
   "source": [
    "### 통과 풀이 및 보완 코드"
   ]
  },
  {
   "cell_type": "code",
   "execution_count": 20,
   "id": "09e61900",
   "metadata": {},
   "outputs": [],
   "source": [
    "# test 1 (O)\n",
    "def solution(t, p):\n",
    "    number, answer = [], 0\n",
    "    for i in range(0, len(t)-len(p)+1) :\n",
    "        number.append(int(t[i:i+len(p)]))\n",
    "\n",
    "    for i in number :\n",
    "        if i <= int(p) :\n",
    "            answer += 1\n",
    "    return answer"
   ]
  },
  {
   "cell_type": "code",
   "execution_count": 21,
   "id": "55af63ae",
   "metadata": {},
   "outputs": [],
   "source": [
    "# test 2 -> test 1 코드 줄이기\n",
    "def solution(t, p):\n",
    "    answer = 0\n",
    "    for i in range(0, len(t)-len(p)+1) :\n",
    "        if int(p) >= int(t[i:i+len(p)]) :\n",
    "            answer += 1\n",
    "            \n",
    "    return answer"
   ]
  },
  {
   "cell_type": "code",
   "execution_count": 22,
   "id": "e3b2af02",
   "metadata": {},
   "outputs": [
    {
     "data": {
      "text/plain": [
       "2"
      ]
     },
     "execution_count": 22,
     "metadata": {},
     "output_type": "execute_result"
    }
   ],
   "source": [
    "solution('3141592', '271')"
   ]
  },
  {
   "cell_type": "markdown",
   "id": "2b97041c",
   "metadata": {},
   "source": [
    "# 가장 가까운 같은 글자\n",
    "\n",
    "문자열 s가 주어졌을 때, s의 각 위치마다 자신보다 앞에 나왔으면서, 자신과 가장 가까운 곳에 있는 같은 글자가 어디 있는지 알고 싶습니다.\n",
    "예를 들어, s=\"banana\"라고 할 때,  각 글자들을 왼쪽부터 오른쪽으로 읽어 나가면서 다음과 같이 진행할 수 있습니다.\n",
    "\n",
    "b는 처음 나왔기 때문에 자신의 앞에 같은 글자가 없습니다. 이는 -1로 표현합니다.\n",
    "\n",
    "a는 처음 나왔기 때문에 자신의 앞에 같은 글자가 없습니다. 이는 -1로 표현합니다.\n",
    "\n",
    "n은 처음 나왔기 때문에 자신의 앞에 같은 글자가 없습니다. 이는 -1로 표현합니다.\n",
    "\n",
    "a는 자신보다 두 칸 앞에 a가 있습니다. 이는 2로 표현합니다.\n",
    "\n",
    "n도 자신보다 두 칸 앞에 n이 있습니다. 이는 2로 표현합니다.\n",
    "\n",
    "a는 자신보다 두 칸, 네 칸 앞에 a가 있습니다. 이 중 가까운 것은 두 칸 앞이고, 이는 2로 표현합니다.\n",
    "\n",
    "따라서 최종 결과물은 [-1, -1, -1, 2, 2, 2]가 됩니다.\n",
    "\n",
    "문자열 s이 주어질 때, 위와 같이 정의된 연산을 수행하는 함수 solution을 완성해주세요."
   ]
  },
  {
   "cell_type": "markdown",
   "id": "8209e819",
   "metadata": {},
   "source": [
    "### 시행 착오 코드"
   ]
  },
  {
   "cell_type": "code",
   "execution_count": 60,
   "id": "85e88485",
   "metadata": {},
   "outputs": [
    {
     "name": "stdout",
     "output_type": "stream",
     "text": [
      "['b', 'a', 'n']\n",
      "[-1, -1, -1, 2, 2, 2, 4]\n"
     ]
    }
   ],
   "source": [
    "# for문으로 실행하는 경우 에러 발생 -> 같은 문자가 2개 이상일 때 중복으로 숫자 들어감\n",
    "s = \"banana\"\n",
    "string, answer = [], []\n",
    "for i in range(0, len(s)) :\n",
    "    if s[i] not in string :\n",
    "        string.append(s[i])\n",
    "        answer.append(-1)\n",
    "    else :\n",
    "        for j in range(i-1, -1, -1) :\n",
    "            if s[i] == s[j] :\n",
    "                answer.append(i-j)\n",
    "print(string)\n",
    "print(answer)"
   ]
  },
  {
   "cell_type": "code",
   "execution_count": 58,
   "id": "4d7b3036",
   "metadata": {},
   "outputs": [
    {
     "name": "stdout",
     "output_type": "stream",
     "text": [
      "1\n",
      "2\n",
      "3\n",
      "4\n",
      "5\n",
      "6\n",
      "[-1, -1, -1, 2, 2, 2]\n"
     ]
    }
   ],
   "source": [
    "# while문의 break를 이용하여 같은 문자가 2개 이상인 경우 중복하여 숫자가 들어가는 것을 방지함\n",
    "s = \"banana\"\n",
    "i = 0\n",
    "string, answer = [], []\n",
    "while i < len(s) :\n",
    "    if s[i] not in string :\n",
    "        string.append(s[i])\n",
    "        answer.append(-1)\n",
    "    else :\n",
    "        for j in range(i-1, -1, -1) :\n",
    "            if s[i] == s[j] :\n",
    "                answer.append(i-j)\n",
    "                break\n",
    "    i = i + 1\n",
    "return answer"
   ]
  },
  {
   "cell_type": "markdown",
   "id": "068da037",
   "metadata": {},
   "source": [
    "### 통과 풀이 및 보완 코드"
   ]
  },
  {
   "cell_type": "code",
   "execution_count": 59,
   "id": "104ffe19",
   "metadata": {},
   "outputs": [],
   "source": [
    "# test 1 (O)\n",
    "def solution(s):\n",
    "    i, string, answer = 0, [], []\n",
    "    while i < len(s) :\n",
    "        if s[i] not in string :\n",
    "            string.append(s[i])\n",
    "            answer.append(-1)\n",
    "        else :\n",
    "            for j in range(i-1, -1, -1) :\n",
    "                if s[i] == s[j] :\n",
    "                    answer.append(i-j)\n",
    "                    break\n",
    "        i = i + 1\n",
    "    return answer"
   ]
  },
  {
   "cell_type": "code",
   "execution_count": 62,
   "id": "2be373f1",
   "metadata": {},
   "outputs": [
    {
     "data": {
      "text/plain": [
       "[-1, -1, -1, 2, 2, 2]"
      ]
     },
     "execution_count": 62,
     "metadata": {},
     "output_type": "execute_result"
    }
   ],
   "source": [
    "solution('banana')"
   ]
  },
  {
   "cell_type": "code",
   "execution_count": 61,
   "id": "26481e89",
   "metadata": {},
   "outputs": [],
   "source": [
    "def solution(s):\n",
    "    answer = []\n",
    "    dic = dict()\n",
    "    for i in range(len(s)):\n",
    "        if s[i] not in dic:\n",
    "            answer.append(-1)\n",
    "        else:\n",
    "            answer.append(i - dic[s[i]])\n",
    "        dic[s[i]] = i\n",
    "\n",
    "    return answer"
   ]
  },
  {
   "cell_type": "code",
   "execution_count": 63,
   "id": "165e545d",
   "metadata": {},
   "outputs": [
    {
     "data": {
      "text/plain": [
       "[-1, -1, -1, 2, 2, 2]"
      ]
     },
     "execution_count": 63,
     "metadata": {},
     "output_type": "execute_result"
    }
   ],
   "source": [
    "solution('banana')"
   ]
  },
  {
   "cell_type": "code",
   "execution_count": null,
   "id": "e17c0ce9",
   "metadata": {},
   "outputs": [],
   "source": []
  }
 ],
 "metadata": {
  "kernelspec": {
   "display_name": "Python 3 (ipykernel)",
   "language": "python",
   "name": "python3"
  },
  "language_info": {
   "codemirror_mode": {
    "name": "ipython",
    "version": 3
   },
   "file_extension": ".py",
   "mimetype": "text/x-python",
   "name": "python",
   "nbconvert_exporter": "python",
   "pygments_lexer": "ipython3",
   "version": "3.9.12"
  }
 },
 "nbformat": 4,
 "nbformat_minor": 5
}
