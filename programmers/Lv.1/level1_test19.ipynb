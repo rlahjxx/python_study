{
 "cells": [
  {
   "cell_type": "markdown",
   "id": "0b96dc24",
   "metadata": {},
   "source": [
    "# 기사단원의 무기\n",
    "숫자나라 기사단의 각 기사에게는 1번부터 number까지 번호가 지정되어 있습니다. 기사들은 무기점에서 무기를 구매하려고 합니다.\n",
    "\n",
    "각 기사는 자신의 기사 번호의 약수 개수에 해당하는 공격력을 가진 무기를 구매하려 합니다. 단, 이웃나라와의 협약에 의해 공격력의 제한수치를 정하고, 제한수치보다 큰 공격력을 가진 무기를 구매해야 하는 기사는 협약기관에서 정한 공격력을 가지는 무기를 구매해야 합니다.\n",
    "\n",
    "예를 들어, 15번으로 지정된 기사단원은 15의 약수가 1, 3, 5, 15로 4개 이므로, 공격력이 4인 무기를 구매합니다. 만약, 이웃나라와의 협약으로 정해진 공격력의 제한수치가 3이고 제한수치를 초과한 기사가 사용할 무기의 공격력이 2라면, 15번으로 지정된 기사단원은 무기점에서 공격력이 2인 무기를 구매합니다. 무기를 만들 때, 무기의 공격력 1당 1kg의 철이 필요합니다. 그래서 무기점에서 무기를 모두 만들기 위해 필요한 철의 무게를 미리 계산하려 합니다.\n",
    "\n",
    "기사단원의 수를 나타내는 정수 number와 이웃나라와 협약으로 정해진 공격력의 제한수치를 나타내는 정수 limit와 제한수치를 초과한 기사가 사용할 무기의 공격력을 나타내는 정수 power가 주어졌을 때, 무기점의 주인이 무기를 모두 만들기 위해 필요한 철의 무게를 return 하는 solution 함수를 완성하시오."
   ]
  },
  {
   "cell_type": "markdown",
   "id": "39f2267c",
   "metadata": {},
   "source": [
    "### 시행 착오 코드"
   ]
  },
  {
   "cell_type": "code",
   "execution_count": 11,
   "id": "8ee7b870",
   "metadata": {},
   "outputs": [
    {
     "name": "stdout",
     "output_type": "stream",
     "text": [
      "21\n"
     ]
    }
   ],
   "source": [
    "number, limit, power = 10, 3, 2\n",
    "pw = [1]\n",
    "for i in range(2, number + 1) :\n",
    "    count = 0\n",
    "    for j in range(1, i+1) :\n",
    "        if i % j == 0 :\n",
    "            count += 1\n",
    "    pw.append(count)\n",
    "\n",
    "for i in range(0, len(pw)) :\n",
    "    if pw[i] > limit :\n",
    "        pw[i] = power\n",
    "print(sum(pw))"
   ]
  },
  {
   "cell_type": "code",
   "execution_count": 31,
   "id": "99bbdc14",
   "metadata": {},
   "outputs": [
    {
     "name": "stdout",
     "output_type": "stream",
     "text": [
      "2 1\n",
      "3 1\n",
      "4 1\n",
      "4 2\n",
      "5 1\n",
      "[1, 2, 2, 3, 2]\n"
     ]
    }
   ],
   "source": [
    "number, limit, power = 5, 3, 2\n",
    "pw = [1]\n",
    "\n",
    "for i in range(2, number + 1) :\n",
    "    count = 0\n",
    "    for j in range(1, int(i**(1/2))+1) :\n",
    "        if i % j == 0 :\n",
    "            count += 1\n",
    "            print(i,j)\n",
    "            if (j**2) != i :\n",
    "                count += 1\n",
    "    pw.append(count)\n",
    "    \n",
    "print(pw)"
   ]
  },
  {
   "cell_type": "code",
   "execution_count": 20,
   "id": "e4e3ccef",
   "metadata": {},
   "outputs": [
    {
     "name": "stdout",
     "output_type": "stream",
     "text": [
      "[0, 1, 2, 2, 3, 2, 4, 2, 4, 3, 4]\n"
     ]
    }
   ],
   "source": [
    "# 약수 구하기 시간 복잡도 줄이는 코드 (?)\n",
    "number = 10\n",
    "divisor=[0 for i in range(number+1)]\n",
    "for i in range(2,number+1):\n",
    "    for j in range(1,min(number//i+1,i)):\n",
    "        divisor[i*j]+=2\n",
    "for i in range(1,int(number**(1/2))+1):\n",
    "    divisor[i**2]+=1\n",
    "print(divisor)"
   ]
  },
  {
   "cell_type": "markdown",
   "id": "71aa23d0",
   "metadata": {},
   "source": [
    "### 통과 풀이 및 보완 코드"
   ]
  },
  {
   "cell_type": "code",
   "execution_count": null,
   "id": "dd2c89da",
   "metadata": {},
   "outputs": [],
   "source": [
    "# test 1 (X) -> 시간 초과 에러 발생\n",
    "def solution(number, limit, power):\n",
    "    pw = [1]\n",
    "    \n",
    "    for i in range(2, number + 1) :\n",
    "        count = 0\n",
    "        for j in range(1, i+1) :\n",
    "            if i % j == 0 :\n",
    "                count += 1\n",
    "        pw.append(count)\n",
    "\n",
    "    for i in range(0, len(pw)) :\n",
    "        if pw[i] > limit :\n",
    "            pw[i] = power\n",
    "    return sum(pw)"
   ]
  },
  {
   "cell_type": "code",
   "execution_count": 27,
   "id": "6b172d16",
   "metadata": {},
   "outputs": [
    {
     "data": {
      "text/plain": [
       "21"
      ]
     },
     "execution_count": 27,
     "metadata": {},
     "output_type": "execute_result"
    }
   ],
   "source": [
    "solution(10, 3, 2)"
   ]
  },
  {
   "cell_type": "code",
   "execution_count": 25,
   "id": "e6984e8a",
   "metadata": {},
   "outputs": [],
   "source": [
    "# test 2 (O) -> 루트를 이용하여 for문을 1/2만 돌도록 수정\n",
    "def solution(number, limit, power):\n",
    "    pw = [1]\n",
    "    for i in range(2, number + 1) :\n",
    "        count = 0\n",
    "        for j in range(1, int(i**(1/2))+1) :\n",
    "            if i % j == 0 :\n",
    "                count += 1\n",
    "                if (j**2) != i :\n",
    "                    count += 1\n",
    "        pw.append(count)\n",
    "\n",
    "    for i in range(0, len(pw)) :\n",
    "        if pw[i] > limit :\n",
    "            pw[i] = power\n",
    "            \n",
    "    return sum(pw)"
   ]
  },
  {
   "cell_type": "code",
   "execution_count": 26,
   "id": "8feb85f5",
   "metadata": {},
   "outputs": [
    {
     "data": {
      "text/plain": [
       "21"
      ]
     },
     "execution_count": 26,
     "metadata": {},
     "output_type": "execute_result"
    }
   ],
   "source": [
    "solution(10, 3, 2)"
   ]
  },
  {
   "cell_type": "code",
   "execution_count": null,
   "id": "111385df",
   "metadata": {},
   "outputs": [],
   "source": []
  }
 ],
 "metadata": {
  "kernelspec": {
   "display_name": "Python 3 (ipykernel)",
   "language": "python",
   "name": "python3"
  },
  "language_info": {
   "codemirror_mode": {
    "name": "ipython",
    "version": 3
   },
   "file_extension": ".py",
   "mimetype": "text/x-python",
   "name": "python",
   "nbconvert_exporter": "python",
   "pygments_lexer": "ipython3",
   "version": "3.9.12"
  }
 },
 "nbformat": 4,
 "nbformat_minor": 5
}
