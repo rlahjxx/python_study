{
 "cells": [
  {
   "cell_type": "markdown",
   "id": "43a80934",
   "metadata": {},
   "source": [
    "# 모의고사\n",
    "\n",
    "수포자는 수학을 포기한 사람의 준말입니다. 수포자 삼인방은 모의고사에 수학 문제를 전부 찍으려 합니다. 수포자는 1번 문제부터 마지막 문제까지 다음과 같이 찍습니다.\n",
    "\n",
    "1번 수포자가 찍는 방식: 1, 2, 3, 4, 5, 1, 2, 3, 4, 5, ...\n",
    "\n",
    "2번 수포자가 찍는 방식: 2, 1, 2, 3, 2, 4, 2, 5, 2, 1, 2, 3, 2, 4, 2, 5, ...\n",
    "\n",
    "3번 수포자가 찍는 방식: 3, 3, 1, 1, 2, 2, 4, 4, 5, 5, 3, 3, 1, 1, 2, 2, 4, 4, 5, 5, ...\n",
    "\n",
    "1번 문제부터 마지막 문제까지의 정답이 순서대로 들은 배열 answers가 주어졌을 때, 가장 많은 문제를 맞힌 사람이 누구인지 배열에 담아 return 하도록 solution 함수를 작성해주세요."
   ]
  },
  {
   "cell_type": "markdown",
   "id": "69e15721",
   "metadata": {},
   "source": [
    "### 시행 착오 코드"
   ]
  },
  {
   "cell_type": "code",
   "execution_count": null,
   "id": "82f7b3b1",
   "metadata": {},
   "outputs": [],
   "source": [
    "# test 1 (X) -> 런타임 에러\n",
    "def solution(answers):\n",
    "    num = {1:[1,2,3,4,5], 2:[2,1,2,3,2,4,2,5], 3:[3,3,1,1,2,2,4,4,5,5]}\n",
    "    number, answer = {}, []\n",
    "    n = len(answers)\n",
    "    for i, v in num.items() :\n",
    "        if len(v) >= n :\n",
    "            number[i] = [x==y for x,y in zip(v[:n],answers)].count(True)\n",
    "        else :\n",
    "            v = v*((n//v)+1)\n",
    "            number[i] = [x==y for x,y in zip(v[:n],answers)].count(True)\n",
    "    a = max(number.values())\n",
    "    for i, v in number.items() :\n",
    "        if v == a :\n",
    "            answer.append(i)\n",
    "    return answer"
   ]
  },
  {
   "cell_type": "code",
   "execution_count": 12,
   "id": "cbc62851",
   "metadata": {},
   "outputs": [
    {
     "name": "stdout",
     "output_type": "stream",
     "text": [
      "[1]\n"
     ]
    }
   ],
   "source": [
    "answers = [1,3,2,4,2,1,3,2,4,1]\n",
    "n = len(answers)\n",
    "a1 = [1,2,3,4,5]*((n//5)+1)\n",
    "a2 = [2,1,2,3,2,4,2,5]*((n//8)+1)\n",
    "a3 = [3,3,1,1,2,2,4,4,5,5]*((n//10)+1)\n",
    "number, answer = {1:0, 2:0, 3:0}, []\n",
    "for x1, x2, x3, y in zip(a1[:n], a2[:n], a3[:n], answers) :\n",
    "    if x1 == y :\n",
    "        number[1] += 1\n",
    "    if x2 == y :\n",
    "        number[2] += 1\n",
    "    if x3 == y :\n",
    "        number[3] += 1\n",
    "a = max(number.values())\n",
    "for i, v in number.items() :\n",
    "    if v == a :\n",
    "        answer.append(i)\n",
    "print(answer)"
   ]
  },
  {
   "cell_type": "code",
   "execution_count": null,
   "id": "25be05e3",
   "metadata": {},
   "outputs": [],
   "source": [
    "num = {1:[1,2,3,4,5], 2:[2,1,2,3,2,4,2,5], 3:[3,3,1,1,2,2,4,4,5,5]}\n",
    "answers = [1,3,2,4,2]\n",
    "number, answer = {}, []\n",
    "n = len(answers)\n",
    "for i, v in num.items() :\n",
    "    if len(v) >= n :\n",
    "        number[i] = [x==y for x,y in zip(v[:n],answers)].count(True)\n",
    "    else :\n",
    "        v = v*((n//v)+1)\n",
    "        number[i] = [x==y for x,y in zip(v[:n],answers)].count(True)\n",
    "a = max(number.values())\n",
    "for i, v in number.items() :\n",
    "    if v == a :\n",
    "        answer.append(i)\n",
    "print(answer)"
   ]
  },
  {
   "cell_type": "markdown",
   "id": "83f97870",
   "metadata": {},
   "source": [
    "### 통과 풀이 및 보완 코드"
   ]
  },
  {
   "cell_type": "code",
   "execution_count": 13,
   "id": "4ae38e62",
   "metadata": {},
   "outputs": [],
   "source": [
    "# test 2 (O)\n",
    "def solution(answers):\n",
    "    n = len(answers)\n",
    "    a1 = [1,2,3,4,5]*((n//5)+1)\n",
    "    a2 = [2,1,2,3,2,4,2,5]*((n//8)+1)\n",
    "    a3 = [3,3,1,1,2,2,4,4,5,5]*((n//10)+1)\n",
    "    number, answer = {1:0, 2:0, 3:0}, []\n",
    "    for x1, x2, x3, y in zip(a1[:n], a2[:n], a3[:n], answers) :\n",
    "        if x1 == y :\n",
    "            number[1] += 1\n",
    "        if x2 == y :\n",
    "            number[2] += 1\n",
    "        if x3 == y :\n",
    "            number[3] += 1\n",
    "    a = max(number.values())\n",
    "    for i, v in number.items() :\n",
    "        if v == a :\n",
    "            answer.append(i)\n",
    "    return answer"
   ]
  },
  {
   "cell_type": "code",
   "execution_count": 14,
   "id": "aac3dd11",
   "metadata": {},
   "outputs": [
    {
     "data": {
      "text/plain": [
       "[1, 2, 3]"
      ]
     },
     "execution_count": 14,
     "metadata": {},
     "output_type": "execute_result"
    }
   ],
   "source": [
    "solution([1,3,2,4,2])"
   ]
  },
  {
   "cell_type": "code",
   "execution_count": 19,
   "id": "23b49e8a",
   "metadata": {},
   "outputs": [],
   "source": [
    "# test 2 보완 -> \n",
    "def solution(answers):\n",
    "    n = len(answers)\n",
    "    a1 = [1,2,3,4,5]*((n//5)+1)\n",
    "    a2 = [2,1,2,3,2,4,2,5]*((n//8)+1)\n",
    "    a3 = [3,3,1,1,2,2,4,4,5,5]*((n//10)+1)\n",
    "    score, answer = [0,0,0], []\n",
    "    for x1, x2, x3, y in zip(a1[:n], a2[:n], a3[:n], answers) :\n",
    "        if x1 == y :\n",
    "            score[0] += 1\n",
    "        if x2 == y :\n",
    "            score[1] += 1\n",
    "        if x3 == y :\n",
    "            score[2] += 1\n",
    "    for i, v in enumerate(score) :\n",
    "        if v == max(score) :\n",
    "            answer.append(i+1)\n",
    "    return answer"
   ]
  },
  {
   "cell_type": "code",
   "execution_count": 18,
   "id": "4ff77bcb",
   "metadata": {},
   "outputs": [
    {
     "data": {
      "text/plain": [
       "[1, 2, 3]"
      ]
     },
     "execution_count": 18,
     "metadata": {},
     "output_type": "execute_result"
    }
   ],
   "source": [
    "solution([1,3,2,4,2])"
   ]
  },
  {
   "cell_type": "code",
   "execution_count": null,
   "id": "f66b0471",
   "metadata": {},
   "outputs": [],
   "source": []
  }
 ],
 "metadata": {
  "kernelspec": {
   "display_name": "Python 3 (ipykernel)",
   "language": "python",
   "name": "python3"
  },
  "language_info": {
   "codemirror_mode": {
    "name": "ipython",
    "version": 3
   },
   "file_extension": ".py",
   "mimetype": "text/x-python",
   "name": "python",
   "nbconvert_exporter": "python",
   "pygments_lexer": "ipython3",
   "version": "3.9.12"
  }
 },
 "nbformat": 4,
 "nbformat_minor": 5
}
