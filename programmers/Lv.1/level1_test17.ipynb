{
 "cells": [
  {
   "cell_type": "markdown",
   "id": "fe7d8cb7",
   "metadata": {},
   "source": [
    "# 명예의 전당 (1)\n",
    "\"명예의 전당\"이라는 TV 프로그램에서는 매일 1명의 가수가 노래를 부르고, 시청자들의 문자 투표수로 가수에게 점수를 부여합니다. 매일 출연한 가수의 점수가 지금까지 출연 가수들의 점수 중 상위 k번째 이내이면 해당 가수의 점수를 명예의 전당이라는 목록에 올려 기념합니다. 즉 프로그램 시작 이후 초기에 k일까지는 모든 출연 가수의 점수가 명예의 전당에 오르게 됩니다. k일 다음부터는 출연 가수의 점수가 기존의 명예의 전당 목록의 k번째 순위의 가수 점수보다 더 높으면, 출연 가수의 점수가 명예의 전당에 오르게 되고 기존의 k번째 순위의 점수는 명예의 전당에서 내려오게 됩니다.\n",
    "\n",
    "이 프로그램에서는 매일 \"명예의 전당\"의 최하위 점수를 발표합니다. 예를 들어, k = 3이고, 7일 동안 진행된 가수의 점수가 [10, 100, 20, 150, 1, 100, 200]이라면, 명예의 전당에서 발표된 점수는 아래의 그림과 같이 [10, 10, 10, 20, 20, 100, 100]입니다.\n",
    "\n",
    "명예의 전당 목록의 점수의 개수 k, 1일부터 마지막 날까지 출연한 가수들의 점수인 score가 주어졌을 때, 매일 발표된 명예의 전당의 최하위 점수를 return하는 solution 함수를 완성해주세요."
   ]
  },
  {
   "cell_type": "markdown",
   "id": "bf487092",
   "metadata": {},
   "source": [
    "### 시행 착오 코드"
   ]
  },
  {
   "cell_type": "code",
   "execution_count": 11,
   "id": "f19961db",
   "metadata": {},
   "outputs": [
    {
     "data": {
      "text/plain": [
       "[200, 150, 100]"
      ]
     },
     "execution_count": 11,
     "metadata": {},
     "output_type": "execute_result"
    }
   ],
   "source": [
    "k, score = 3, [10, 100, 20, 150, 1, 100, 200]\n",
    "answer, total = [], []\n",
    "for i in score :\n",
    "    if len(answer) < k :\n",
    "        answer.append(i)\n",
    "    else :\n",
    "        answer = sorted(answer)\n",
    "        if answer[0] <= i :\n",
    "            answer.append(i)\n",
    "            answer = sorted(answer, reverse=True)\n",
    "            answer.pop()\n",
    "answer"
   ]
  },
  {
   "cell_type": "code",
   "execution_count": 17,
   "id": "285d6b69",
   "metadata": {},
   "outputs": [
    {
     "name": "stdout",
     "output_type": "stream",
     "text": [
      "[1000, 500, 300, 300]\n",
      "[0, 0, 0, 0, 20, 40, 70, 70, 150, 300]\n"
     ]
    }
   ],
   "source": [
    "# k, score = 3, [10, 100, 20, 150, 1, 100, 200]\n",
    "k, score = 4, [0, 300, 40, 300, 20, 70, 150, 50, 500, 1000]\n",
    "answer, total = [], []\n",
    "for i in score :\n",
    "    if len(answer) < k :\n",
    "        answer.append(i)\n",
    "        total.append(min(answer))\n",
    "    else :\n",
    "        answer = sorted(answer)\n",
    "        if answer[0] <= i :\n",
    "            answer.append(i)\n",
    "            answer = sorted(answer, reverse=True)\n",
    "            answer.pop()\n",
    "            total.append(min(answer))\n",
    "        if answer[-1] > i :\n",
    "            total.append(min(answer))\n",
    "print(answer)\n",
    "print(total)"
   ]
  },
  {
   "cell_type": "markdown",
   "id": "27ddeae9",
   "metadata": {},
   "source": [
    "### 통과 풀이 및 보완 코드"
   ]
  },
  {
   "cell_type": "code",
   "execution_count": 18,
   "id": "58361032",
   "metadata": {},
   "outputs": [],
   "source": [
    "# test 1 (O)\n",
    "def solution(k, score):\n",
    "    answer, total = [], []\n",
    "    for i in score :\n",
    "        if len(answer) < k :\n",
    "            answer.append(i)\n",
    "            total.append(min(answer))\n",
    "        else :\n",
    "            answer = sorted(answer)\n",
    "            if answer[0] <= i :\n",
    "                answer.append(i)\n",
    "                answer = sorted(answer, reverse=True)\n",
    "                answer.pop()\n",
    "                total.append(min(answer))\n",
    "            if answer[-1] > i :\n",
    "                total.append(min(answer))\n",
    "    return total"
   ]
  },
  {
   "cell_type": "code",
   "execution_count": 19,
   "id": "8ab20c3f",
   "metadata": {},
   "outputs": [
    {
     "data": {
      "text/plain": [
       "[10, 10, 10, 20, 20, 100, 100]"
      ]
     },
     "execution_count": 19,
     "metadata": {},
     "output_type": "execute_result"
    }
   ],
   "source": [
    "solution(3, [10, 100, 20, 150, 1, 100, 200])"
   ]
  },
  {
   "cell_type": "code",
   "execution_count": 20,
   "id": "5ec77481",
   "metadata": {},
   "outputs": [],
   "source": [
    "# 보완 코드\n",
    "def solution(k, score):\n",
    "\n",
    "    q = []\n",
    "\n",
    "    answer = []\n",
    "    for s in score:\n",
    "\n",
    "        q.append(s)\n",
    "        if (len(q) > k):\n",
    "            q.remove(min(q))\n",
    "        answer.append(min(q))\n",
    "\n",
    "    return answer"
   ]
  },
  {
   "cell_type": "code",
   "execution_count": 21,
   "id": "9ab10d0a",
   "metadata": {},
   "outputs": [
    {
     "data": {
      "text/plain": [
       "[10, 10, 10, 20, 20, 100, 100]"
      ]
     },
     "execution_count": 21,
     "metadata": {},
     "output_type": "execute_result"
    }
   ],
   "source": [
    "solution(3, [10, 100, 20, 150, 1, 100, 200])"
   ]
  },
  {
   "cell_type": "markdown",
   "id": "c5e3bf67",
   "metadata": {},
   "source": [
    "# 체육복\n",
    "점심시간에 도둑이 들어, 일부 학생이 체육복을 도난당했습니다. 다행히 여벌 체육복이 있는 학생이 이들에게 체육복을 빌려주려 합니다. 학생들의 번호는 체격 순으로 매겨져 있어, 바로 앞번호의 학생이나 바로 뒷번호의 학생에게만 체육복을 빌려줄 수 있습니다. 예를 들어, 4번 학생은 3번 학생이나 5번 학생에게만 체육복을 빌려줄 수 있습니다. 체육복이 없으면 수업을 들을 수 없기 때문에 체육복을 적절히 빌려 최대한 많은 학생이 체육수업을 들어야 합니다.\n",
    "\n",
    "전체 학생의 수 n, 체육복을 도난당한 학생들의 번호가 담긴 배열 lost, 여벌의 체육복을 가져온 학생들의 번호가 담긴 배열 reserve가 매개변수로 주어질 때, 체육수업을 들을 수 있는 학생의 최댓값을 return 하도록 solution 함수를 작성해주세요."
   ]
  },
  {
   "cell_type": "markdown",
   "id": "cc71967e",
   "metadata": {},
   "source": [
    "### 시행 착오 코드"
   ]
  },
  {
   "cell_type": "code",
   "execution_count": 40,
   "id": "0bef0a17",
   "metadata": {},
   "outputs": [
    {
     "data": {
      "text/plain": [
       "5"
      ]
     },
     "execution_count": 40,
     "metadata": {},
     "output_type": "execute_result"
    }
   ],
   "source": [
    "n, lost, reserve = 5, [2,4], [3]\n",
    "answer = n-len(lost)\n",
    "for i in reserve :\n",
    "    if i not in lost :\n",
    "        if i-1 in lost :\n",
    "            lost.remove(i-1)\n",
    "            answer += 1\n",
    "        if i+1 in lost :\n",
    "            lost.remove(i+1)\n",
    "            answer += 1\n",
    "answer"
   ]
  },
  {
   "cell_type": "code",
   "execution_count": 49,
   "id": "fecd76ac",
   "metadata": {},
   "outputs": [
    {
     "ename": "IndexError",
     "evalue": "list index out of range",
     "output_type": "error",
     "traceback": [
      "\u001b[1;31m---------------------------------------------------------------------------\u001b[0m",
      "\u001b[1;31mIndexError\u001b[0m                                Traceback (most recent call last)",
      "Input \u001b[1;32mIn [49]\u001b[0m, in \u001b[0;36m<cell line: 3>\u001b[1;34m()\u001b[0m\n\u001b[0;32m      7\u001b[0m     answer \u001b[38;5;241m+\u001b[39m\u001b[38;5;241m=\u001b[39m \u001b[38;5;241m1\u001b[39m\n\u001b[0;32m      8\u001b[0m     \u001b[38;5;28;01mbreak\u001b[39;00m\n\u001b[1;32m----> 9\u001b[0m \u001b[38;5;28;01mif\u001b[39;00m \u001b[43mreserve\u001b[49m\u001b[43m[\u001b[49m\u001b[43mi\u001b[49m\u001b[38;5;241;43m+\u001b[39;49m\u001b[38;5;241;43m1\u001b[39;49m\u001b[43m]\u001b[49m \u001b[38;5;129;01min\u001b[39;00m lost :\n\u001b[0;32m     10\u001b[0m     lost\u001b[38;5;241m.\u001b[39mremove(reserve[i\u001b[38;5;241m+\u001b[39m\u001b[38;5;241m1\u001b[39m])\n\u001b[0;32m     11\u001b[0m     answer \u001b[38;5;241m+\u001b[39m\u001b[38;5;241m=\u001b[39m \u001b[38;5;241m1\u001b[39m\n",
      "\u001b[1;31mIndexError\u001b[0m: list index out of range"
     ]
    }
   ],
   "source": [
    "n, lost, reserve = 5, [2,4], [3]\n",
    "i, answer = 0, n - len(lost)\n",
    "while len(lost) != 0 :\n",
    "    if reserve[i] not in lost :\n",
    "        if reserve[i-1] in lost :\n",
    "            lost.remove(reserve[i-1])\n",
    "            answer += 1\n",
    "            break\n",
    "        if reserve[i+1] in lost :\n",
    "            lost.remove(reserve[i+1])\n",
    "            answer += 1\n",
    "    i += 1"
   ]
  },
  {
   "cell_type": "code",
   "execution_count": 128,
   "id": "518a6e2b",
   "metadata": {},
   "outputs": [
    {
     "name": "stdout",
     "output_type": "stream",
     "text": [
      "1\n",
      "2\n",
      "3\n"
     ]
    }
   ],
   "source": [
    "n, lost, reserve = 4, [1,3,4], [2,3,4]\n",
    "count, answer = 0, n - len(lost)\n",
    "lost, reserve = sorted(lost), sorted(reserve)\n",
    "for i in reserve :\n",
    "    if i not in lost :\n",
    "        if "
   ]
  },
  {
   "cell_type": "code",
   "execution_count": null,
   "id": "16a0e4e5",
   "metadata": {},
   "outputs": [],
   "source": []
  },
  {
   "cell_type": "code",
   "execution_count": 28,
   "id": "7d75b596",
   "metadata": {},
   "outputs": [],
   "source": [
    "# test 1 (X) -> 정확성 28%\n",
    "def solution(n, lost, reserve):\n",
    "    answer = n-len(lost)\n",
    "    for i in reserve :\n",
    "        if i not in lost :\n",
    "            if i-1 in lost :\n",
    "                lost.remove(i-1)\n",
    "                answer += 1\n",
    "            if i+1 in lost :\n",
    "                lost.remove(i+1)\n",
    "                answer += 1\n",
    "    return answer"
   ]
  },
  {
   "cell_type": "code",
   "execution_count": null,
   "id": "9d88a754",
   "metadata": {},
   "outputs": [],
   "source": [
    "# test 2 (X) -> 정확성 48% (i-1, i+1 중복을 고려하여 break 이용하기 위해 while문으로 수정)\n",
    "def solution(n, lost, reserve):\n",
    "    count = 0\n",
    "    answer = n - len(lost)\n",
    "    while count <= len(reserve) :\n",
    "\n",
    "        for i in reserve :\n",
    "\n",
    "            if i not in lost :\n",
    "\n",
    "                if i-1 in lost :\n",
    "\n",
    "                    reserve.remove(i)\n",
    "                    lost.remove(i-1)\n",
    "                    answer += 1\n",
    "                    break\n",
    "\n",
    "                if i+1 in lost :\n",
    "                    reserve.remove(i)\n",
    "                    lost.remove(i+1)\n",
    "                    answer += 1\n",
    "        count += 1\n",
    "    return answer"
   ]
  },
  {
   "cell_type": "code",
   "execution_count": null,
   "id": "5325295f",
   "metadata": {},
   "outputs": [],
   "source": [
    "# test 3 (X) -> 정확성 68% ( 여벌이 있는 학생이 도난당한 경우를 대비하여 else문 추가)\n",
    "def solution(n, lost, reserve):\n",
    "    count = 0\n",
    "    answer = n - len(lost)\n",
    "    while count <= len(reserve) :\n",
    "\n",
    "        for i in reserve :\n",
    "\n",
    "            if i not in lost :\n",
    "\n",
    "                if i-1 in lost :\n",
    "\n",
    "                    reserve.remove(i)\n",
    "                    lost.remove(i-1)\n",
    "                    answer += 1\n",
    "                    break\n",
    "\n",
    "                if i+1 in lost :\n",
    "                    reserve.remove(i)\n",
    "                    lost.remove(i+1)\n",
    "                    answer += 1\n",
    "            \n",
    "            else :\n",
    "                reserve.remove(i)\n",
    "                lost.remove(i)\n",
    "                answer += 1\n",
    "                \n",
    "        count += 1\n",
    "    return answer"
   ]
  },
  {
   "cell_type": "markdown",
   "id": "acac4ff7",
   "metadata": {},
   "source": [
    "### 통과 풀이 및 보완 코드"
   ]
  },
  {
   "cell_type": "code",
   "execution_count": 36,
   "id": "e8356c50",
   "metadata": {},
   "outputs": [],
   "source": [
    "def solution(n, lost, reserve):\n",
    "    answer = n-len(lost)\n",
    "    for i in reserve :\n",
    "        if i not in lost :\n",
    "            if i-1 in lost :\n",
    "                lost.remove(i-1)\n",
    "                print(lost)\n",
    "            if i+1 in lost :\n",
    "                lost.remove(i+1)\n",
    "                answer += 1\n",
    "    return answer"
   ]
  },
  {
   "cell_type": "code",
   "execution_count": 37,
   "id": "0ef43c53",
   "metadata": {},
   "outputs": [
    {
     "data": {
      "text/plain": [
       "5"
      ]
     },
     "execution_count": 37,
     "metadata": {},
     "output_type": "execute_result"
    }
   ],
   "source": [
    "solution(5, [2,4], [1,3,5])"
   ]
  },
  {
   "cell_type": "code",
   "execution_count": null,
   "id": "5d3bbbc9",
   "metadata": {},
   "outputs": [],
   "source": [
    "def solution(n, lost, reserve):\n",
    "    i, answer = 0, n - len(lost)\n",
    "    while len(reserve) != 0 :\n",
    "        for i in reserve :\n",
    "            if i not in lost :\n",
    "                if i-1 in lost :\n",
    "                    reserve.remove(i)\n",
    "                    answer += 1\n",
    "                    break\n",
    "                if i+1 in lost :\n",
    "                    reserve.remove(i+1)\n",
    "                    answer += 1\n",
    "        i += 1\n",
    "    return answer"
   ]
  },
  {
   "cell_type": "code",
   "execution_count": 83,
   "id": "4feb1a43",
   "metadata": {},
   "outputs": [],
   "source": [
    "def solution(n, lost, reserve):\n",
    "    count, answer = 0, n - len(lost)\n",
    "    lost, reserve = sorted(lost), sorted(reserve)\n",
    "    while count <= len(reserve) :\n",
    "\n",
    "        for i in reserve :\n",
    "\n",
    "            if i not in lost :\n",
    "\n",
    "                if i-1 in lost :\n",
    "\n",
    "                    reserve.remove(i)\n",
    "                    lost.remove(i-1)\n",
    "                    answer += 1\n",
    "                    break\n",
    "\n",
    "                if i+1 in lost :\n",
    "                    reserve.remove(i)\n",
    "                    lost.remove(i+1)\n",
    "                    answer += 1\n",
    "            \n",
    "            else :\n",
    "                reserve.remove(i)\n",
    "                lost.remove(i)\n",
    "                answer += 1\n",
    "                \n",
    "        count += 1\n",
    "    return answer"
   ]
  },
  {
   "cell_type": "code",
   "execution_count": null,
   "id": "aa1d0d24",
   "metadata": {},
   "outputs": [],
   "source": []
  }
 ],
 "metadata": {
  "kernelspec": {
   "display_name": "Python 3 (ipykernel)",
   "language": "python",
   "name": "python3"
  },
  "language_info": {
   "codemirror_mode": {
    "name": "ipython",
    "version": 3
   },
   "file_extension": ".py",
   "mimetype": "text/x-python",
   "name": "python",
   "nbconvert_exporter": "python",
   "pygments_lexer": "ipython3",
   "version": "3.9.12"
  }
 },
 "nbformat": 4,
 "nbformat_minor": 5
}
