{
 "cells": [
  {
   "cell_type": "markdown",
   "id": "75cd9260",
   "metadata": {},
   "source": [
    "# [ 숫자 짝꿍 ]\n",
    "두 정수 X, Y의 임의의 자리에서 공통으로 나타나는 정수 k(0 ≤ k ≤ 9)들을 이용하여 만들 수 있는 가장 큰 정수를 두 수의 짝꿍이라 합니다(단, 공통으로 나타나는 정수 중 서로 짝지을 수 있는 숫자만 사용합니다). X, Y의 짝꿍이 존재하지 않으면, 짝꿍은 -1입니다. X, Y의 짝꿍이 0으로만 구성되어 있다면, 짝꿍은 0입니다.\n",
    "\n",
    "예를 들어, X = 3403이고 Y = 13203이라면, X와 Y의 짝꿍은 X와 Y에서 공통으로 나타나는 3, 0, 3으로 만들 수 있는 가장 큰 정수인 330입니다. 다른 예시로 X = 5525이고 Y = 1255이면 X와 Y의 짝꿍은 X와 Y에서 공통으로 나타나는 2, 5, 5로 만들 수 있는 가장 큰 정수인 552입니다(X에는 5가 3개, Y에는 5가 2개 나타나므로 남는 5 한 개는 짝 지을 수 없습니다.)\n",
    "두 정수 X, Y가 주어졌을 때, X, Y의 짝꿍을 return하는 solution 함수를 완성해주세요."
   ]
  },
  {
   "cell_type": "markdown",
   "id": "809ee79e",
   "metadata": {},
   "source": [
    "### 통과 풀이 및 보완 코드"
   ]
  },
  {
   "cell_type": "code",
   "execution_count": 70,
   "id": "e1944dd7",
   "metadata": {},
   "outputs": [],
   "source": [
    "# test 1 (O)\n",
    "def solution(X, Y):\n",
    "    answer, number = {}, ''\n",
    "    num = sorted(list(set(X) & set(Y)), reverse=True)\n",
    "    if len(num) == 0 :\n",
    "        return '-1'\n",
    "    elif len(num) == 1 and num[0] == '0' :\n",
    "        return '0'\n",
    "    else :\n",
    "        for i in num :\n",
    "            if X.count(i) >= Y.count(i) :\n",
    "                answer[i] = Y.count(i)\n",
    "            else :\n",
    "                answer[i] = X.count(i)\n",
    "        for i, v in answer.items() :\n",
    "            number += i *v\n",
    "        return number"
   ]
  },
  {
   "cell_type": "code",
   "execution_count": 71,
   "id": "f7347954",
   "metadata": {},
   "outputs": [
    {
     "data": {
      "text/plain": [
       "'0'"
      ]
     },
     "execution_count": 71,
     "metadata": {},
     "output_type": "execute_result"
    }
   ],
   "source": [
    "solution('100', '203045')"
   ]
  },
  {
   "cell_type": "code",
   "execution_count": 9,
   "id": "12c983b8",
   "metadata": {},
   "outputs": [
    {
     "data": {
      "text/plain": [
       "['2', '5']"
      ]
     },
     "execution_count": 9,
     "metadata": {},
     "output_type": "execute_result"
    }
   ],
   "source": [
    "# test 2 -> 역순으로 for 문을 돌며 x,y의 count 개수 중 최소값인 수를 문자열에 곱하여 더함\n",
    "def solution(X, Y):\n",
    "    answer = ''\n",
    "\n",
    "    for i in range(9,-1,-1) :\n",
    "        answer += (str(i) * min(X.count(str(i)), Y.count(str(i))))\n",
    "\n",
    "    if answer == '' :\n",
    "        return '-1'\n",
    "    elif len(answer) == answer.count('0'):\n",
    "        return '0'\n",
    "    else :\n",
    "        return answer"
   ]
  },
  {
   "cell_type": "markdown",
   "id": "ec719c34",
   "metadata": {},
   "source": [
    "# [ 성격 유형 검사하기 ]\n",
    "질문마다 판단하는 지표를 담은 1차원 문자열 배열 survey와 검사자가 각 질문마다 선택한 선택지를 담은 1차원 정수 배열 choices가 매개변수로 주어집니다. 이때, 검사자의 성격 유형 검사 결과를 지표 번호 순서대로 return 하도록 solution 함수를 완성해주세요."
   ]
  },
  {
   "cell_type": "markdown",
   "id": "900be191",
   "metadata": {},
   "source": [
    "### 통과 풀이"
   ]
  },
  {
   "cell_type": "code",
   "execution_count": 58,
   "id": "b376c6bd",
   "metadata": {},
   "outputs": [],
   "source": [
    "# test 1 (O)\n",
    "def solution(survey, choices):\n",
    "    answer = [{'R' : 0, 'T' : 0}, {'C' : 0, 'F' : 0}, {'J' : 0, 'M' : 0}, {'A' : 0, 'N' : 0}]\n",
    "    n = {1 : 3, 2 : 2, 3 : 1, 5 : 1, 6 : 2, 7 : 3}\n",
    "    # survey의 원소를 for문 돌려 answer에 해당되는 dict을 찾은 후, 해당 문자열의 value 값에 더하기\n",
    "    for i in range(len(survey)) :\n",
    "        for j in answer :\n",
    "            if survey[i][0] in j :\n",
    "                if choices[i] in n.keys() :\n",
    "                    if choices[i] <= 3 :\n",
    "                        j[survey[i][0]] += n[choices[i]]\n",
    "                    elif choices[i] >= 5 :\n",
    "                        j[survey[i][1]] += n[choices[i]]\n",
    "                else :\n",
    "                    pass\n",
    "    mbti = ''\n",
    "    # 각 dict의 value 2개를 비교하여 더 큰 값의 문자열 합치기\n",
    "    for i in answer :\n",
    "        if list(i.values())[0] >= list(i.values())[-1] :\n",
    "            mbti += list(i.keys())[0]\n",
    "        else :\n",
    "            mbti += list(i.keys())[1]\n",
    "    return mbti"
   ]
  },
  {
   "cell_type": "code",
   "execution_count": 57,
   "id": "d2579dc1",
   "metadata": {},
   "outputs": [
    {
     "name": "stdout",
     "output_type": "stream",
     "text": [
      "[{'R': 0, 'T': 3}, {'C': 1, 'F': 0}, {'J': 0, 'M': 2}, {'A': 1, 'N': 1}]\n",
      "TCMA\n"
     ]
    }
   ],
   "source": [
    "answer = [{'R' : 0, 'T' : 0}, {'C' : 0, 'F' : 0}, {'J' : 0, 'M' : 0}, {'A' : 0, 'N' : 0}]\n",
    "n = {1 : 3, 2 : 2, 3 : 1, 5 : 1, 6 : 2, 7 : 3}\n",
    "for i in range(len(servey)) :\n",
    "    for j in answer :\n",
    "        if servey[i][0] in j :\n",
    "            if choices[i] in n.keys() :\n",
    "                if choices[i] <= 3 :\n",
    "                    j[servey[i][0]] += n[choices[i]]\n",
    "                elif choices[i] >= 5 :\n",
    "                    j[servey[i][1]] += n[choices[i]]\n",
    "            else :\n",
    "                pass\n",
    "mbti = ''\n",
    "for i in answer :\n",
    "    if list(i.values())[0] >= list(i.values())[-1] :\n",
    "        mbti += list(i.keys())[0]\n",
    "    else :\n",
    "        mbti += list(i.keys())[1]\n",
    "print(mbti)"
   ]
  },
  {
   "cell_type": "code",
   "execution_count": null,
   "id": "9557f0a8",
   "metadata": {},
   "outputs": [],
   "source": []
  }
 ],
 "metadata": {
  "kernelspec": {
   "display_name": "Python 3 (ipykernel)",
   "language": "python",
   "name": "python3"
  },
  "language_info": {
   "codemirror_mode": {
    "name": "ipython",
    "version": 3
   },
   "file_extension": ".py",
   "mimetype": "text/x-python",
   "name": "python",
   "nbconvert_exporter": "python",
   "pygments_lexer": "ipython3",
   "version": "3.9.12"
  }
 },
 "nbformat": 4,
 "nbformat_minor": 5
}
