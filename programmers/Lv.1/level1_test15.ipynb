{
 "cells": [
  {
   "cell_type": "markdown",
   "id": "8ed1a8bb",
   "metadata": {},
   "source": [
    "# [1차] 다트 게임\n",
    "카카오톡 게임별의 하반기 신규 서비스로 다트 게임을 출시하기로 했다. 다트 게임은 다트판에 다트를 세 차례 던져 그 점수의 합계로 실력을 겨루는 게임으로, 모두가 간단히 즐길 수 있다.\n",
    "갓 입사한 무지는 코딩 실력을 인정받아 게임의 핵심 부분인 점수 계산 로직을 맡게 되었다. 다트 게임의 점수 계산 로직은 아래와 같다.\n",
    "\n",
    "다트 게임은 총 3번의 기회로 구성된다.\n",
    "\n",
    "각 기회마다 얻을 수 있는 점수는 0점에서 10점까지이다.\n",
    "\n",
    "점수와 함께 Single(S), Double(D), Triple(T) 영역이 존재하고 각 영역 당첨 시 점수에서 1제곱, 2제곱, 3제곱 (점수1 , 점수2 , 점수3 )으로 계산된다.\n",
    "\n",
    "옵션으로 스타상(*) , 아차상(#)이 존재하며 스타상(*) 당첨 시 해당 점수와 바로 전에 얻은 점수를 각 2배로 만든다. 아차상(#) 당첨 시 해당 점수는 마이너스된다.\n",
    "\n",
    "스타상(*)은 첫 번째 기회에서도 나올 수 있다. 이 경우 첫 번째 스타상(*)의 점수만 2배가 된다. (예제 4번 참고)\n",
    "\n",
    "스타상(*)의 효과는 다른 스타상(*)의 효과와 중첩될 수 있다. 이 경우 중첩된 스타상(*) 점수는 4배가 된다. (예제 4번 참고)\n",
    "\n",
    "스타상(*)의 효과는 아차상(#)의 효과와 중첩될 수 있다. 이 경우 중첩된 아차상(#)의 점수는 -2배가 된다. (예제 5번 참고)\n",
    "\n",
    "Single(S), Double(D), Triple(T)은 점수마다 하나씩 존재한다.\n",
    "\n",
    "스타상(*), 아차상(#)은 점수마다 둘 중 하나만 존재할 수 있으며, 존재하지 않을 수도 있다.\n",
    "\n",
    "0~10의 정수와 문자 S, D, T, *, #로 구성된 문자열이 입력될 시 총점수를 반환하는 함수를 작성하라."
   ]
  },
  {
   "cell_type": "markdown",
   "id": "cb70b754",
   "metadata": {},
   "source": [
    "### 시행 착오 코드"
   ]
  },
  {
   "cell_type": "code",
   "execution_count": 39,
   "id": "140f7206",
   "metadata": {},
   "outputs": [
    {
     "name": "stdout",
     "output_type": "stream",
     "text": [
      "1S2D*3T\n",
      "['1S', '2D*', '3T']\n",
      "1\n",
      "9\n",
      "36\n"
     ]
    },
    {
     "data": {
      "text/plain": [
       "36"
      ]
     },
     "execution_count": 39,
     "metadata": {},
     "output_type": "execute_result"
    }
   ],
   "source": [
    "# dartResult = \"1D#2S*3S\"\n",
    "dartResult = \"1S2D*3T\"\n",
    "print(dartResult)\n",
    "number, answer = [], 0\n",
    "\n",
    "for i in range(0, len(dartResult)) :\n",
    "    if not dartResult[i].isdigit() :\n",
    "        if dartResult[i] == '*' or dartResult[i] == '#' :\n",
    "            number.pop()\n",
    "            number.append(dartResult[i-2:i+1])\n",
    "        else :\n",
    "            number.append(dartResult[i-1:i+1])\n",
    "print(number)\n",
    "\n",
    "for i in number :\n",
    "    n = 0\n",
    "    if i[1] == 'S' :\n",
    "        n = int(i[0])**1\n",
    "    if i[1] == 'D' :\n",
    "        n = int(i[0])**2\n",
    "    if i[1] == 'T' :\n",
    "        n = int(i[0])**3\n",
    "    if len(i) == 3 :\n",
    "        if i[2] == '*' :\n",
    "            n = n*2\n",
    "        if i[2] == '#' :\n",
    "            n = n*(-1)\n",
    "    answer += n\n",
    "    print(answer)\n",
    "answer"
   ]
  },
  {
   "cell_type": "code",
   "execution_count": 53,
   "id": "c54c0dc5",
   "metadata": {},
   "outputs": [
    {
     "name": "stdout",
     "output_type": "stream",
     "text": [
      "['kS', '2D*', '3T']\n"
     ]
    },
    {
     "ename": "ValueError",
     "evalue": "invalid literal for int() with base 10: 'k'",
     "output_type": "error",
     "traceback": [
      "\u001b[1;31m---------------------------------------------------------------------------\u001b[0m",
      "\u001b[1;31mValueError\u001b[0m                                Traceback (most recent call last)",
      "Input \u001b[1;32mIn [53]\u001b[0m, in \u001b[0;36m<cell line: 15>\u001b[1;34m()\u001b[0m\n\u001b[0;32m     16\u001b[0m n \u001b[38;5;241m=\u001b[39m \u001b[38;5;241m0\u001b[39m\n\u001b[0;32m     17\u001b[0m \u001b[38;5;28;01mif\u001b[39;00m i[\u001b[38;5;241m1\u001b[39m] \u001b[38;5;241m==\u001b[39m \u001b[38;5;124m'\u001b[39m\u001b[38;5;124mS\u001b[39m\u001b[38;5;124m'\u001b[39m :\n\u001b[1;32m---> 18\u001b[0m     n \u001b[38;5;241m=\u001b[39m \u001b[38;5;28;43mint\u001b[39;49m\u001b[43m(\u001b[49m\u001b[43mi\u001b[49m\u001b[43m[\u001b[49m\u001b[38;5;241;43m0\u001b[39;49m\u001b[43m]\u001b[49m\u001b[43m)\u001b[49m\u001b[38;5;241m*\u001b[39m\u001b[38;5;241m*\u001b[39m\u001b[38;5;241m1\u001b[39m\n\u001b[0;32m     19\u001b[0m \u001b[38;5;28;01mif\u001b[39;00m i[\u001b[38;5;241m1\u001b[39m] \u001b[38;5;241m==\u001b[39m \u001b[38;5;124m'\u001b[39m\u001b[38;5;124mD\u001b[39m\u001b[38;5;124m'\u001b[39m :\n\u001b[0;32m     20\u001b[0m     n \u001b[38;5;241m=\u001b[39m \u001b[38;5;28mint\u001b[39m(i[\u001b[38;5;241m0\u001b[39m])\u001b[38;5;241m*\u001b[39m\u001b[38;5;241m*\u001b[39m\u001b[38;5;241m2\u001b[39m\n",
      "\u001b[1;31mValueError\u001b[0m: invalid literal for int() with base 10: 'k'"
     ]
    }
   ],
   "source": [
    "# dartResult = \"1D#2S*3S\"\n",
    "dartResult = \"10S2D*3T\"\n",
    "dartResult = dartResult.replace('10','k')\n",
    "number, answer = [], []\n",
    "\n",
    "for i in range(0, len(dartResult)) :\n",
    "    if not dartResult[i] == 'k' and not dartResult[i].isdigit() :\n",
    "        if dartResult[i] == '*' or dartResult[i] == '#' :\n",
    "            number.pop()\n",
    "            number.append(dartResult[i-2:i+1])\n",
    "        else :\n",
    "            number.append(dartResult[i-1:i+1])\n",
    "print(number)\n",
    "\n",
    "for i in number :\n",
    "    n = 0\n",
    "    if i[1] == 'S' :\n",
    "        n = int(i[0])**1\n",
    "    if i[1] == 'D' :\n",
    "        n = int(i[0])**2\n",
    "    if i[1] == 'T' :\n",
    "        n = int(i[0])**3\n",
    "    if len(i) == 3 :\n",
    "        if i[2] == '*' :\n",
    "            n = n*2\n",
    "        if i[2] == '#' :\n",
    "            n = n*(-1)\n",
    "    "
   ]
  },
  {
   "cell_type": "code",
   "execution_count": 28,
   "id": "9ca50189",
   "metadata": {},
   "outputs": [
    {
     "name": "stdout",
     "output_type": "stream",
     "text": [
      "['1', 'D', '#', '2', 'S', '*', '3', 'S']\n",
      "하이\n"
     ]
    }
   ],
   "source": [
    "dartResult = \"1D#2S*3S\"\n",
    "dart = list(dartResult)\n",
    "print(dart)\n",
    "for i in \n",
    "if '#' and '*' in dart :\n",
    "    "
   ]
  },
  {
   "cell_type": "code",
   "execution_count": 18,
   "id": "d367f819",
   "metadata": {},
   "outputs": [
    {
     "data": {
      "text/plain": [
       "['1S2D', '3T']"
      ]
     },
     "execution_count": 18,
     "metadata": {},
     "output_type": "execute_result"
    }
   ],
   "source": [
    "dartResult = \"1S2D*3T\"\n",
    "dartResult = dartResult.split('*')\n",
    "dartResult"
   ]
  }
 ],
 "metadata": {
  "kernelspec": {
   "display_name": "Python 3 (ipykernel)",
   "language": "python",
   "name": "python3"
  },
  "language_info": {
   "codemirror_mode": {
    "name": "ipython",
    "version": 3
   },
   "file_extension": ".py",
   "mimetype": "text/x-python",
   "name": "python",
   "nbconvert_exporter": "python",
   "pygments_lexer": "ipython3",
   "version": "3.9.12"
  }
 },
 "nbformat": 4,
 "nbformat_minor": 5
}
