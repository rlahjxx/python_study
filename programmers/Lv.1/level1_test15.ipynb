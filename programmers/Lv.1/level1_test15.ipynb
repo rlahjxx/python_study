{
 "cells": [
  {
   "cell_type": "markdown",
   "id": "8ed1a8bb",
   "metadata": {},
   "source": [
    "# ★★★ [1차] 다트 게임\n",
    "카카오톡 게임별의 하반기 신규 서비스로 다트 게임을 출시하기로 했다. 다트 게임은 다트판에 다트를 세 차례 던져 그 점수의 합계로 실력을 겨루는 게임으로, 모두가 간단히 즐길 수 있다.\n",
    "갓 입사한 무지는 코딩 실력을 인정받아 게임의 핵심 부분인 점수 계산 로직을 맡게 되었다. 다트 게임의 점수 계산 로직은 아래와 같다.\n",
    "\n",
    "다트 게임은 총 3번의 기회로 구성된다.\n",
    "\n",
    "각 기회마다 얻을 수 있는 점수는 0점에서 10점까지이다.\n",
    "\n",
    "점수와 함께 Single(S), Double(D), Triple(T) 영역이 존재하고 각 영역 당첨 시 점수에서 1제곱, 2제곱, 3제곱 (점수1 , 점수2 , 점수3 )으로 계산된다.\n",
    "\n",
    "옵션으로 스타상(*) , 아차상(#)이 존재하며 스타상(*) 당첨 시 해당 점수와 바로 전에 얻은 점수를 각 2배로 만든다. 아차상(#) 당첨 시 해당 점수는 마이너스된다.\n",
    "\n",
    "스타상(*)은 첫 번째 기회에서도 나올 수 있다. 이 경우 첫 번째 스타상(*)의 점수만 2배가 된다. (예제 4번 참고)\n",
    "\n",
    "스타상(*)의 효과는 다른 스타상(*)의 효과와 중첩될 수 있다. 이 경우 중첩된 스타상(*) 점수는 4배가 된다. (예제 4번 참고)\n",
    "\n",
    "스타상(*)의 효과는 아차상(#)의 효과와 중첩될 수 있다. 이 경우 중첩된 아차상(#)의 점수는 -2배가 된다. (예제 5번 참고)\n",
    "\n",
    "Single(S), Double(D), Triple(T)은 점수마다 하나씩 존재한다.\n",
    "\n",
    "스타상(*), 아차상(#)은 점수마다 둘 중 하나만 존재할 수 있으며, 존재하지 않을 수도 있다.\n",
    "\n",
    "0~10의 정수와 문자 S, D, T, *, #로 구성된 문자열이 입력될 시 총점수를 반환하는 함수를 작성하라."
   ]
  },
  {
   "cell_type": "markdown",
   "id": "cb70b754",
   "metadata": {},
   "source": [
    "### 시행 착오 코드"
   ]
  },
  {
   "cell_type": "code",
   "execution_count": 39,
   "id": "140f7206",
   "metadata": {},
   "outputs": [
    {
     "name": "stdout",
     "output_type": "stream",
     "text": [
      "1S2D*3T\n",
      "['1S', '2D*', '3T']\n",
      "1\n",
      "9\n",
      "36\n"
     ]
    },
    {
     "data": {
      "text/plain": [
       "36"
      ]
     },
     "execution_count": 39,
     "metadata": {},
     "output_type": "execute_result"
    }
   ],
   "source": [
    "# dartResult = \"1D#2S*3S\"\n",
    "dartResult = \"1S2D*3T\"\n",
    "print(dartResult)\n",
    "number, answer = [], 0\n",
    "\n",
    "for i in range(0, len(dartResult)) :\n",
    "    if not dartResult[i].isdigit() :\n",
    "        if dartResult[i] == '*' or dartResult[i] == '#' :\n",
    "            number.pop()\n",
    "            number.append(dartResult[i-2:i+1])\n",
    "        else :\n",
    "            number.append(dartResult[i-1:i+1])\n",
    "print(number)\n",
    "\n",
    "for i in number :\n",
    "    n = 0\n",
    "    if i[1] == 'S' :\n",
    "        n = int(i[0])**1\n",
    "    if i[1] == 'D' :\n",
    "        n = int(i[0])**2\n",
    "    if i[1] == 'T' :\n",
    "        n = int(i[0])**3\n",
    "    if len(i) == 3 :\n",
    "        if i[2] == '*' :\n",
    "            n = n*2\n",
    "        if i[2] == '#' :\n",
    "            n = n*(-1)\n",
    "    answer += n\n",
    "    print(answer)\n",
    "answer"
   ]
  },
  {
   "cell_type": "code",
   "execution_count": 7,
   "id": "c54c0dc5",
   "metadata": {},
   "outputs": [
    {
     "name": "stdout",
     "output_type": "stream",
     "text": [
      "['kS', '2D*', '3T']\n"
     ]
    }
   ],
   "source": [
    "# dartResult = \"1D#2S*3S\"\n",
    "dartResult = \"10S2D*3T\"\n",
    "dartResult = dartResult.replace('10','k')\n",
    "dart, answer = [], []\n",
    "\n",
    "for i in range(0, len(dartResult)) :\n",
    "    if not dartResult[i] == 'k' and not dartResult[i].isdigit() :\n",
    "        if dartResult[i] == '*' or dartResult[i] == '#' :\n",
    "            dart.pop()\n",
    "            dart.append(dartResult[i-2:i+1])\n",
    "        else :\n",
    "            dart.append(dartResult[i-1:i+1])\n",
    "print(dart)\n",
    "\n",
    "for i in dart :\n",
    "    n = 0\n",
    "    if i[1] == 'S' :\n",
    "        n = int(i[0])**1\n",
    "    if i[1] == 'D' :\n",
    "        n = int(i[0])**2\n",
    "    if i[1] == 'T' :\n",
    "        n = int(i[0])**3\n",
    "    if len(i) == 3 :\n",
    "        if i[2] == '*' :\n",
    "            n = n*2\n",
    "        if i[2] == '#' :\n",
    "            n = n*(-1)\n",
    "    "
   ]
  },
  {
   "cell_type": "code",
   "execution_count": 11,
   "id": "7e443e28",
   "metadata": {},
   "outputs": [
    {
     "name": "stdout",
     "output_type": "stream",
     "text": [
      "['kS', '2D*', '3T']\n",
      "['k', '2', '3'] ['S', 'D', 'T'] ['*']\n"
     ]
    }
   ],
   "source": [
    "# dartResult = \"1D#2S*3S\"\n",
    "dartResult = \"10S2D*3T\"\n",
    "dartResult = dartResult.replace('10','k')\n",
    "dart, answer = [], []\n",
    "num, alpha, plus = [], [], []\n",
    "\n",
    "for i in range(0, len(dartResult)) :\n",
    "    if not dartResult[i] == 'k' and not dartResult[i].isdigit() :\n",
    "        if dartResult[i] == '*' or dartResult[i] == '#' :\n",
    "            dart.pop()\n",
    "            dart.append(dartResult[i-2:i+1])\n",
    "        else :\n",
    "            dart.append(dartResult[i-1:i+1])\n",
    "print(dart)\n",
    "\n",
    "for i in dart :\n",
    "    if '*' in i or '#' in i :\n",
    "        "
   ]
  },
  {
   "cell_type": "code",
   "execution_count": 5,
   "id": "3c77adfe",
   "metadata": {},
   "outputs": [
    {
     "name": "stdout",
     "output_type": "stream",
     "text": [
      "['k', '2', '3'] ['S', 'D', 'T'] ['*']\n"
     ]
    }
   ],
   "source": [
    "# dartResult = \"1D#2S*3S\"\n",
    "dartResult = \"10S2D*3T\"\n",
    "dartResult = dartResult.replace('10','k')\n",
    "num, alpha, plus = [], [], []\n",
    "\n",
    "for i in dartResult :\n",
    "    if i.isdigit() or i == 'k' :\n",
    "        num.append(i)\n",
    "    elif i.isalpha() and i.isupper() :\n",
    "        alpha.append(i)\n",
    "    else :\n",
    "        plus.append(i)\n",
    "\n",
    "print(num, alpha, plus)"
   ]
  },
  {
   "cell_type": "markdown",
   "id": "2450aa71",
   "metadata": {},
   "source": [
    "### 통과 풀이 및 보완 코드"
   ]
  },
  {
   "cell_type": "code",
   "execution_count": 12,
   "id": "6daab5bf",
   "metadata": {},
   "outputs": [],
   "source": [
    "def solution(dartResult):\n",
    "    n = ''\n",
    "    score = []\n",
    "    for i in dartResult:\n",
    "        if i.isnumeric():\n",
    "            n += i\n",
    "        elif i == 'S':\n",
    "            n = int(n)**1\n",
    "            score.append(n)\n",
    "            n = ''\n",
    "        elif i == 'D':\n",
    "            n = int(n)**2\n",
    "            score.append(n)\n",
    "            n = ''\n",
    "        elif i == 'T':\n",
    "            n = int(n)**3\n",
    "            score.append(n)\n",
    "            n = ''\n",
    "        elif i == '*':\n",
    "            if len(score) > 1:\n",
    "                score[-2] = score[-2] * 2\n",
    "                score[-1] = score[-1] * 2\n",
    "            else:\n",
    "                score[-1] = score[-1] * 2\n",
    "        elif i == '#':\n",
    "            score[-1] = score[-1] * -1\n",
    "        \n",
    "    return sum(score)"
   ]
  },
  {
   "cell_type": "code",
   "execution_count": 13,
   "id": "dd5ea075",
   "metadata": {},
   "outputs": [
    {
     "data": {
      "text/plain": [
       "5"
      ]
     },
     "execution_count": 13,
     "metadata": {},
     "output_type": "execute_result"
    }
   ],
   "source": [
    "solution(\"1D#2S*3S\")"
   ]
  },
  {
   "cell_type": "code",
   "execution_count": 16,
   "id": "2cf0a3f1",
   "metadata": {},
   "outputs": [],
   "source": [
    "def solution(dartResult):\n",
    "    bonus = {'S':1,'D':2,'T':3}\n",
    "    dartResult = dartResult.replace('10','A')\n",
    "\n",
    "    score = []\n",
    "    score.append(0)\n",
    "\n",
    "    for i in dartResult:\n",
    "        if i.isnumeric():\n",
    "            n = int(i)\n",
    "        if i == 'A':\n",
    "            n = 10\n",
    "        if i in bonus:\n",
    "            result = n**bonus[i]\n",
    "            score.append(result)\n",
    "        if i == '#':\n",
    "            score[-1] = score[-1]*(-1)\n",
    "        if i == '*':\n",
    "            score[-1] = score[-1]*2\n",
    "            score[-2] = score[-2]*2\n",
    "\n",
    "    return sum(score)"
   ]
  },
  {
   "cell_type": "code",
   "execution_count": 18,
   "id": "60fc04eb",
   "metadata": {},
   "outputs": [
    {
     "data": {
      "text/plain": [
       "5"
      ]
     },
     "execution_count": 18,
     "metadata": {},
     "output_type": "execute_result"
    }
   ],
   "source": [
    "solution(\"1D#2S*3S\")"
   ]
  },
  {
   "cell_type": "markdown",
   "id": "040147b8",
   "metadata": {},
   "source": [
    "# 과일 장수\n",
    "과일 장수가 사과 상자를 포장하고 있습니다. 사과는 상태에 따라 1점부터 k점까지의 점수로 분류하며, k점이 최상품의 사과이고 1점이 최하품의 사과입니다. 사과 한 상자의 가격은 다음과 같이 결정됩니다.\n",
    "\n",
    "한 상자에 사과를 m개씩 담아 포장합니다.\n",
    "\n",
    "상자에 담긴 사과 중 가장 낮은 점수가 p (1 ≤ p ≤ k)점인 경우, 사과 한 상자의 가격은 p * m 입니다.\n",
    "\n",
    "과일 장수가 가능한 많은 사과를 팔았을 때, 얻을 수 있는 최대 이익을 계산하고자 합니다.(사과는 상자 단위로만 판매하며, 남는 사과는 버립니다)\n",
    "\n",
    "예를 들어, k = 3, m = 4, 사과 7개의 점수가 [1, 2, 3, 1, 2, 3, 1]이라면, 다음과 같이 [2, 3, 2, 3]으로 구성된 사과 상자 1개를 만들어 판매하여 최대 이익을 얻을 수 있습니다.\n",
    "\n",
    "(최저 사과 점수) x (한 상자에 담긴 사과 개수) x (상자의 개수) = 2 x 4 x 1 = 8\n",
    "\n",
    "사과의 최대 점수 k, 한 상자에 들어가는 사과의 수 m, 사과들의 점수 score가 주어졌을 때, 과일 장수가 얻을 수 있는 최대 이익을 return하는 solution 함수를 완성해주세요."
   ]
  },
  {
   "cell_type": "markdown",
   "id": "091cf2c2",
   "metadata": {},
   "source": [
    "### 시행 착오 코드"
   ]
  },
  {
   "cell_type": "code",
   "execution_count": 45,
   "id": "2f45e998",
   "metadata": {},
   "outputs": [
    {
     "name": "stdout",
     "output_type": "stream",
     "text": [
      "[[4, 4, 4], [4, 4, 4], [2, 2, 2], [2, 1, 1]]\n",
      "33\n"
     ]
    }
   ],
   "source": [
    "# k, m, score = 3, 4, [1,2,3,1,2,3,1]\n",
    "k, m, score = 4, 3, [4, 1, 2, 2, 4, 4, 4, 4, 1, 2, 4, 2]\n",
    "count, answer = [], 0\n",
    "\n",
    "score = sorted(score, reverse=True)\n",
    "for i in range(0, len(score), m) :\n",
    "    count.append(list(score[i:i+m]))\n",
    "    \n",
    "print(count)\n",
    "for i in count :\n",
    "    if len(i) == m :\n",
    "        answer += min(i) * m\n",
    "    \n",
    "print(answer)"
   ]
  },
  {
   "cell_type": "code",
   "execution_count": 25,
   "id": "7c2028f0",
   "metadata": {},
   "outputs": [
    {
     "data": {
      "text/plain": [
       "{1: 3, 2: 2, 3: 2}"
      ]
     },
     "execution_count": 25,
     "metadata": {},
     "output_type": "execute_result"
    }
   ],
   "source": [
    "k, m, score = 3, 4, [1,2,3,1,2,3,1]\n",
    "n = list(set(score))\n",
    "count = {}\n",
    "for i in n :\n",
    "    count[i] = 0\n",
    "    \n",
    "for i in count :\n",
    "    for j in score :\n",
    "        if i == j :\n",
    "            count[i] += 1\n",
    "count"
   ]
  },
  {
   "cell_type": "markdown",
   "id": "57958661",
   "metadata": {},
   "source": [
    "### 통과 풀이 및 보완 코드"
   ]
  },
  {
   "cell_type": "code",
   "execution_count": 50,
   "id": "bc480092",
   "metadata": {},
   "outputs": [],
   "source": [
    "def solution(k, m, score):\n",
    "    count, answer = [], 0\n",
    "\n",
    "    score = sorted(score, reverse=True)\n",
    "    for i in range(0, len(score), m) :\n",
    "        count.append(list(score[i:i+m]))\n",
    "\n",
    "    for i in count :\n",
    "        if len(i) == m :\n",
    "            answer += min(i) * m\n",
    "\n",
    "    return answer"
   ]
  },
  {
   "cell_type": "code",
   "execution_count": 51,
   "id": "78081e83",
   "metadata": {},
   "outputs": [
    {
     "data": {
      "text/plain": [
       "8"
      ]
     },
     "execution_count": 51,
     "metadata": {},
     "output_type": "execute_result"
    }
   ],
   "source": [
    "solution(3,4, [1,2,3,1,2,3,1])"
   ]
  },
  {
   "cell_type": "code",
   "execution_count": null,
   "id": "2af611b7",
   "metadata": {},
   "outputs": [],
   "source": []
  }
 ],
 "metadata": {
  "kernelspec": {
   "display_name": "Python 3 (ipykernel)",
   "language": "python",
   "name": "python3"
  },
  "language_info": {
   "codemirror_mode": {
    "name": "ipython",
    "version": 3
   },
   "file_extension": ".py",
   "mimetype": "text/x-python",
   "name": "python",
   "nbconvert_exporter": "python",
   "pygments_lexer": "ipython3",
   "version": "3.9.12"
  }
 },
 "nbformat": 4,
 "nbformat_minor": 5
}
