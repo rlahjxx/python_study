{
 "cells": [
  {
   "cell_type": "markdown",
   "id": "37694472",
   "metadata": {},
   "source": [
    "# 로또의 최고 순위와 최저 순위\n",
    "\n",
    "민우가 구매한 로또 번호를 담은 배열 lottos, 당첨 번호를 담은 배열 win_nums가 매개변수로 주어집니다.\n",
    "\n",
    "이때, 당첨 가능한 최고 순위와 최저 순위를 차례대로 배열에 담아서 return 하도록 solution 함수를 완성해주세요."
   ]
  },
  {
   "cell_type": "markdown",
   "id": "95bd25bd",
   "metadata": {},
   "source": [
    "### 시행 착오 코드"
   ]
  },
  {
   "cell_type": "code",
   "execution_count": 6,
   "id": "25af7967",
   "metadata": {},
   "outputs": [
    {
     "data": {
      "text/plain": [
       "[3, 5]"
      ]
     },
     "execution_count": 6,
     "metadata": {},
     "output_type": "execute_result"
    }
   ],
   "source": [
    "lottos, win_nums = [44, 1, 0, 0, 31, 25], [31, 10, 45, 1, 6, 19]\n",
    "dic = {6:1, 5:2, 4:3, 3:4, 2:5, 1:6, 0:6}\n",
    "count, plus = 0, lottos.count(0)\n",
    "answer = []\n",
    "for i in win_nums :\n",
    "    if i in lottos :\n",
    "        count += 1\n",
    "        \n",
    "answer.append(dic[count + plus])\n",
    "answer.append(dic[count])\n",
    "answer"
   ]
  },
  {
   "cell_type": "markdown",
   "id": "6ec90d10",
   "metadata": {},
   "source": [
    "### 통과 풀이 및 보완 코드"
   ]
  },
  {
   "cell_type": "code",
   "execution_count": 7,
   "id": "6622ab6b",
   "metadata": {},
   "outputs": [],
   "source": [
    "def solution(lottos, win_nums):\n",
    "    dic = {6:1, 5:2, 4:3, 3:4, 2:5, 1:6, 0:6}\n",
    "    count, plus = 0, lottos.count(0)\n",
    "    answer = []\n",
    "    \n",
    "    for i in win_nums :\n",
    "        if i in lottos :\n",
    "            count += 1\n",
    "\n",
    "    answer.append(dic[count + plus])\n",
    "    answer.append(dic[count])\n",
    "    return answer"
   ]
  },
  {
   "cell_type": "code",
   "execution_count": 8,
   "id": "8e5dd9dd",
   "metadata": {},
   "outputs": [
    {
     "data": {
      "text/plain": [
       "[3, 5]"
      ]
     },
     "execution_count": 8,
     "metadata": {},
     "output_type": "execute_result"
    }
   ],
   "source": [
    "solution([44, 1, 0, 0, 31, 25], [31, 10, 45, 1, 6, 19])"
   ]
  },
  {
   "cell_type": "code",
   "execution_count": null,
   "id": "7eabf74d",
   "metadata": {},
   "outputs": [],
   "source": []
  }
 ],
 "metadata": {
  "kernelspec": {
   "display_name": "Python 3 (ipykernel)",
   "language": "python",
   "name": "python3"
  },
  "language_info": {
   "codemirror_mode": {
    "name": "ipython",
    "version": 3
   },
   "file_extension": ".py",
   "mimetype": "text/x-python",
   "name": "python",
   "nbconvert_exporter": "python",
   "pygments_lexer": "ipython3",
   "version": "3.9.12"
  }
 },
 "nbformat": 4,
 "nbformat_minor": 5
}
