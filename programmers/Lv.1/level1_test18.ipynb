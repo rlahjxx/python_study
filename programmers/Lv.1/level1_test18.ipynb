{
 "cells": [
  {
   "cell_type": "markdown",
   "id": "6d646a8b",
   "metadata": {},
   "source": [
    "# 완주하지 못한 선수\n",
    "수많은 마라톤 선수들이 마라톤에 참여하였습니다. 단 한 명의 선수를 제외하고는 모든 선수가 마라톤을 완주하였습니다.\n",
    "\n",
    "마라톤에 참여한 선수들의 이름이 담긴 배열 participant와 완주한 선수들의 이름이 담긴 배열 completion이 주어질 때, 완주하지 못한 선수의 이름을 return 하도록 solution 함수를 작성해주세요."
   ]
  },
  {
   "cell_type": "markdown",
   "id": "1b70b987",
   "metadata": {},
   "source": [
    "### 시행 착오 코드"
   ]
  },
  {
   "cell_type": "code",
   "execution_count": 5,
   "id": "3686bdb1",
   "metadata": {},
   "outputs": [
    {
     "name": "stdout",
     "output_type": "stream",
     "text": [
      "0\n",
      "1\n",
      "2\n",
      "3\n",
      "['stanko', 'ana']\n"
     ]
    }
   ],
   "source": [
    "# participant, completion = [\"leo\", \"kiki\", \"eden\"], [\"eden\", \"kiki\"]\n",
    "participant, completion = [\"mislav\", \"stanko\", \"mislav\", \"ana\"], [\"stanko\", \"ana\", \"mislav\"]\n",
    "string = ' '.join(i for i in participant)\n",
    "\n",
    "for i in range(0, len(participant)) :\n",
    "    if participant[i] in participant and participant[i] in completion :\n",
    "        participant.remove(participant[i])\n",
    "print(part)\n",
    "# print(participant[0])"
   ]
  },
  {
   "cell_type": "code",
   "execution_count": 16,
   "id": "ea906740",
   "metadata": {},
   "outputs": [
    {
     "name": "stdout",
     "output_type": "stream",
     "text": [
      "leo\n"
     ]
    }
   ],
   "source": [
    "participant, completion = [\"leo\", \"kiki\", \"eden\"], [\"eden\", \"kiki\"]\n",
    "participant, completion = [\"mislav\", \"stanko\", \"mislav\", \"ana\"], [\"stanko\", \"ana\", \"mislav\"]\n",
    "p_string = ' '.join(i for i in participant)\n",
    "c_string = ' '.join(i for i in completion)\n",
    "\n",
    "for i in participant :\n",
    "    if p_string.count(i) == c_string.count(i) :\n",
    "        continue\n",
    "    if p_string.count(i) >= c_string.count(i) :\n",
    "        print(i)"
   ]
  },
  {
   "cell_type": "code",
   "execution_count": 29,
   "id": "56061cea",
   "metadata": {},
   "outputs": [
    {
     "name": "stdout",
     "output_type": "stream",
     "text": [
      "mislav\n"
     ]
    }
   ],
   "source": [
    "participant, completion = [\"mislav\", \"stanko\", \"mislav\", \"ana\"], [\"stanko\", \"ana\", \"mislav\"]\n",
    "dic = {}\n",
    "part = list(set(participant))\n",
    "for i in part :\n",
    "    dic[i] = 0\n",
    "\n",
    "for i in participant :\n",
    "    dic[i] += 1\n",
    "\n",
    "for i in completion :\n",
    "    if i in dic.keys() :\n",
    "        dic[i] -= 1\n",
    "\n",
    "for i in dic.items() :\n",
    "    if i[1] > 0 :\n",
    "        print(i[0])"
   ]
  },
  {
   "cell_type": "code",
   "execution_count": 17,
   "id": "9b0351b1",
   "metadata": {},
   "outputs": [],
   "source": [
    "# test 1 (X) -> 테스트 케이스 4번 에러, 효율성 테스트 0%\n",
    "def solution(participant, completion):\n",
    "    p_string = ' '.join(i for i in participant)\n",
    "    c_string = ' '.join(i for i in completion)\n",
    "\n",
    "    for i in participant :\n",
    "        if p_string.count(i) == c_string.count(i) :\n",
    "            continue\n",
    "        if p_string.count(i) >= c_string.count(i) :\n",
    "            return i"
   ]
  },
  {
   "cell_type": "code",
   "execution_count": 18,
   "id": "ca44e6d5",
   "metadata": {},
   "outputs": [
    {
     "data": {
      "text/plain": [
       "'leo'"
      ]
     },
     "execution_count": 18,
     "metadata": {},
     "output_type": "execute_result"
    }
   ],
   "source": [
    "solution([\"leo\", \"kiki\", \"eden\"], [\"eden\", \"kiki\"])"
   ]
  },
  {
   "cell_type": "markdown",
   "id": "c692088e",
   "metadata": {},
   "source": [
    "### 통과 풀이 및 보완 코드"
   ]
  },
  {
   "cell_type": "code",
   "execution_count": 30,
   "id": "509d29cb",
   "metadata": {},
   "outputs": [],
   "source": [
    "def solution(participant, completion):\n",
    "    dic = {}\n",
    "    part = list(set(participant))\n",
    "    for i in part :\n",
    "        dic[i] = 0\n",
    "\n",
    "    for i in participant :\n",
    "        dic[i] += 1\n",
    "\n",
    "    for i in completion :\n",
    "        if i in dic.keys() :\n",
    "            dic[i] -= 1\n",
    "\n",
    "    for i in dic.items() :\n",
    "        if i[1] > 0 :\n",
    "            return i[0]"
   ]
  },
  {
   "cell_type": "code",
   "execution_count": 31,
   "id": "6a2c7fee",
   "metadata": {},
   "outputs": [
    {
     "data": {
      "text/plain": [
       "'leo'"
      ]
     },
     "execution_count": 31,
     "metadata": {},
     "output_type": "execute_result"
    }
   ],
   "source": [
    "solution([\"leo\", \"kiki\", \"eden\"], [\"eden\", \"kiki\"])"
   ]
  },
  {
   "cell_type": "code",
   "execution_count": null,
   "id": "40d3ab2e",
   "metadata": {},
   "outputs": [],
   "source": []
  }
 ],
 "metadata": {
  "kernelspec": {
   "display_name": "Python 3 (ipykernel)",
   "language": "python",
   "name": "python3"
  },
  "language_info": {
   "codemirror_mode": {
    "name": "ipython",
    "version": 3
   },
   "file_extension": ".py",
   "mimetype": "text/x-python",
   "name": "python",
   "nbconvert_exporter": "python",
   "pygments_lexer": "ipython3",
   "version": "3.9.12"
  }
 },
 "nbformat": 4,
 "nbformat_minor": 5
}
