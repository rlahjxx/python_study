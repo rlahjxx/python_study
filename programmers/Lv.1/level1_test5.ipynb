{
 "cells": [
  {
   "cell_type": "markdown",
   "id": "eef155ee",
   "metadata": {},
   "source": [
    "# [ 가운데 글자 가져오기 ]\n",
    "단어 s의 가운데 글자를 반환하는 함수, solution을 만들어 보세요. 단어의 길이가 짝수라면 가운데 두글자를 반환하면 됩니다."
   ]
  },
  {
   "cell_type": "markdown",
   "id": "c6614b5e",
   "metadata": {},
   "source": [
    "### 통과 풀이"
   ]
  },
  {
   "cell_type": "code",
   "execution_count": 10,
   "id": "3b7b7e80",
   "metadata": {},
   "outputs": [],
   "source": [
    "# test 1 (O) -> 인덱스를 활용하여 글자 가져오기\n",
    "def solution(s):\n",
    "    if len(s) % 2 == 0 :\n",
    "        return s[len(s)//2 - 1 : (len(s)//2) + 1]\n",
    "    else :\n",
    "        return s[len(s)//2]"
   ]
  },
  {
   "cell_type": "code",
   "execution_count": 11,
   "id": "2bd2da38",
   "metadata": {},
   "outputs": [
    {
     "data": {
      "text/plain": [
       "'c'"
      ]
     },
     "execution_count": 11,
     "metadata": {},
     "output_type": "execute_result"
    }
   ],
   "source": [
    "solution(\"abcde\")"
   ]
  },
  {
   "cell_type": "markdown",
   "id": "4e728c23",
   "metadata": {},
   "source": [
    "# [ 수박수박수박수박수박수? ]\n",
    "길이가 n이고, \"수박수박수박수....\"와 같은 패턴을 유지하는 문자열을 리턴하는 함수, solution을 완성하세요. 예를들어 n이 4이면 \"수박수박\"을 리턴하고 3이라면 \"수박수\"를 리턴하면 됩니다."
   ]
  },
  {
   "cell_type": "markdown",
   "id": "324da002",
   "metadata": {},
   "source": [
    "### 통과 풀이"
   ]
  },
  {
   "cell_type": "code",
   "execution_count": 16,
   "id": "98dc66cc",
   "metadata": {},
   "outputs": [],
   "source": [
    "# test 1 (O)\n",
    "def solution(n):\n",
    "    answer = ''\n",
    "    for i in range(1, n + 1) :\n",
    "        if i % 2 == 0 :\n",
    "            answer += '박'\n",
    "        else :\n",
    "            answer += '수'\n",
    "    return answer"
   ]
  },
  {
   "cell_type": "markdown",
   "id": "93e90b63",
   "metadata": {},
   "source": [
    "# [ 내적 ]\n",
    "길이가 같은 두 1차원 정수 배열 a, b가 매개변수로 주어집니다. a와 b의 내적을 return 하도록 solution 함수를 완성해주세요.\n",
    "\n",
    "이때, a와 b의 내적은 a[0]*b[0] + a[1]*b[1] + ... + a[n-1]*b[n-1] 입니다. (n은 a, b의 길이)"
   ]
  },
  {
   "cell_type": "markdown",
   "id": "68d42d84",
   "metadata": {},
   "source": [
    "### 통과 풀이 및 보완 코드"
   ]
  },
  {
   "cell_type": "code",
   "execution_count": 21,
   "id": "632bdb6e",
   "metadata": {},
   "outputs": [],
   "source": [
    "# test 1 (O)\n",
    "def solution(a, b):\n",
    "    answer = 0\n",
    "    for i in range(len(b)) :\n",
    "        answer += a[i] * b[i]\n",
    "    return answer"
   ]
  },
  {
   "cell_type": "code",
   "execution_count": 22,
   "id": "1dd94da0",
   "metadata": {},
   "outputs": [
    {
     "data": {
      "text/plain": [
       "3"
      ]
     },
     "execution_count": 22,
     "metadata": {},
     "output_type": "execute_result"
    }
   ],
   "source": [
    "solution([1,2,3,4], [-3,-1,0,2])"
   ]
  },
  {
   "cell_type": "code",
   "execution_count": 20,
   "id": "7f03c0ad",
   "metadata": {},
   "outputs": [
    {
     "name": "stdout",
     "output_type": "stream",
     "text": [
      "3\n"
     ]
    }
   ],
   "source": [
    "# test 2 -> zip() 함수를 이용하여 풀기\n",
    "def solution(a, b):\n",
    "    return sum([x*y for x, y in zip(a,b)])"
   ]
  },
  {
   "cell_type": "code",
   "execution_count": 23,
   "id": "da1e6674",
   "metadata": {},
   "outputs": [
    {
     "name": "stdout",
     "output_type": "stream",
     "text": [
      "(1, -3)\n",
      "(2, -1)\n",
      "(3, 0)\n",
      "(4, 2)\n"
     ]
    }
   ],
   "source": [
    "a, b = [1,2,3,4], [-3,-1,0,2]\n",
    "for i in zip(a,b) :\n",
    "    print(i)"
   ]
  },
  {
   "cell_type": "markdown",
   "id": "dd3e09fa",
   "metadata": {},
   "source": [
    "# [ 문자열 내림차순으로 배열하기 ]\n",
    "문자열 s에 나타나는 문자를 큰것부터 작은 순으로 정렬해 새로운 문자열을 리턴하는 함수, solution을 완성해주세요.\n",
    "\n",
    "s는 영문 대소문자로만 구성되어 있으며, 대문자는 소문자보다 작은 것으로 간주합니다."
   ]
  },
  {
   "cell_type": "markdown",
   "id": "ffd42121",
   "metadata": {},
   "source": [
    "### 통과 풀이 및 보완 코드"
   ]
  },
  {
   "cell_type": "code",
   "execution_count": 47,
   "id": "a481cd4a",
   "metadata": {},
   "outputs": [],
   "source": [
    "def solution(s):\n",
    "    s1, s2 = [], []\n",
    "    for i in s :\n",
    "        if i.islower() : s1.append(i)\n",
    "        else : s2.append(i)\n",
    "    answer = sorted(s1 + s2, reverse=True)\n",
    "    return ''.join(answer)"
   ]
  },
  {
   "cell_type": "code",
   "execution_count": 48,
   "id": "0fdc7f25",
   "metadata": {},
   "outputs": [
    {
     "data": {
      "text/plain": [
       "'gfedcbZ'"
      ]
     },
     "execution_count": 48,
     "metadata": {},
     "output_type": "execute_result"
    }
   ],
   "source": [
    "solution(\"Zbcdefg\")"
   ]
  },
  {
   "cell_type": "code",
   "execution_count": 49,
   "id": "88058fd5",
   "metadata": {},
   "outputs": [],
   "source": [
    "def solution(s):\n",
    "    return ''.join(sorted(s, reverse=True))"
   ]
  },
  {
   "cell_type": "code",
   "execution_count": 51,
   "id": "8100c33a",
   "metadata": {},
   "outputs": [
    {
     "data": {
      "text/plain": [
       "'gfedcbZ'"
      ]
     },
     "execution_count": 51,
     "metadata": {},
     "output_type": "execute_result"
    }
   ],
   "source": [
    "solution(\"Zbcdefg\")"
   ]
  },
  {
   "cell_type": "markdown",
   "id": "c485c1ce",
   "metadata": {},
   "source": [
    "# [ 문자열 다루기 기본 ]\n",
    "문자열 s의 길이가 4 혹은 6이고, 숫자로만 구성돼있는지 확인해주는 함수, solution을 완성하세요. 예를 들어 s가 \"a234\"이면 False를 리턴하고 \"1234\"라면 True를 리턴하면 됩니다."
   ]
  },
  {
   "cell_type": "markdown",
   "id": "0a090353",
   "metadata": {},
   "source": [
    "### 시행 착오 코드"
   ]
  },
  {
   "cell_type": "code",
   "execution_count": 60,
   "id": "9954b507",
   "metadata": {},
   "outputs": [],
   "source": [
    "# test 1 (X)\n",
    "def solution(s):\n",
    "    for i in s :\n",
    "        if i.isalpha() and len(s) != 4 or len(s) != 6:\n",
    "            return False\n",
    "    return True"
   ]
  },
  {
   "cell_type": "code",
   "execution_count": 61,
   "id": "a9a5da04",
   "metadata": {},
   "outputs": [
    {
     "data": {
      "text/plain": [
       "False"
      ]
     },
     "execution_count": 61,
     "metadata": {},
     "output_type": "execute_result"
    }
   ],
   "source": [
    "solution(\"a234\")"
   ]
  },
  {
   "cell_type": "markdown",
   "id": "858a0f41",
   "metadata": {},
   "source": [
    "### 통과 풀이"
   ]
  },
  {
   "cell_type": "code",
   "execution_count": null,
   "id": "36489d29",
   "metadata": {},
   "outputs": [],
   "source": [
    "def solution(s):\n",
    "    if len(s) == 4 or len(s) == 6 :\n",
    "        for i in s :\n",
    "            if i.isalpha() :\n",
    "                return False\n",
    "        return True\n",
    "    return False"
   ]
  },
  {
   "cell_type": "code",
   "execution_count": 62,
   "id": "9ef0412b",
   "metadata": {},
   "outputs": [
    {
     "data": {
      "text/plain": [
       "False"
      ]
     },
     "execution_count": 62,
     "metadata": {},
     "output_type": "execute_result"
    }
   ],
   "source": [
    "solution(\"a234\")"
   ]
  },
  {
   "cell_type": "markdown",
   "id": "637aef10",
   "metadata": {},
   "source": [
    "# [ 약수의 개수와 덧셈 ]\n",
    "두 정수 left와 right가 매개변수로 주어집니다. left부터 right까지의 모든 수들 중에서, 약수의 개수가 짝수인 수는 더하고, 약수의 개수가 홀수인 수는 뺀 수를 return 하도록 solution 함수를 완성해주세요."
   ]
  },
  {
   "cell_type": "markdown",
   "id": "635a604e",
   "metadata": {},
   "source": [
    "### 통과 풀이"
   ]
  },
  {
   "cell_type": "code",
   "execution_count": 65,
   "id": "95c1be29",
   "metadata": {},
   "outputs": [],
   "source": [
    "def solution(left, right):\n",
    "    answer = 0\n",
    "    for i in range(left, right + 1) :\n",
    "        num = []\n",
    "        for j in range(1, i + 1) :\n",
    "            if i % j == 0 :\n",
    "                num.append(j)\n",
    "        if len(num) % 2 == 0 :\n",
    "            answer += i\n",
    "        else :\n",
    "            answer -= i\n",
    "    return answer"
   ]
  },
  {
   "cell_type": "code",
   "execution_count": 66,
   "id": "acb56480",
   "metadata": {},
   "outputs": [
    {
     "data": {
      "text/plain": [
       "52"
      ]
     },
     "execution_count": 66,
     "metadata": {},
     "output_type": "execute_result"
    }
   ],
   "source": [
    "solution(24, 27)"
   ]
  },
  {
   "cell_type": "markdown",
   "id": "992ebff1",
   "metadata": {},
   "source": [
    "# [ 부족한 금액 계산하기 ]\n",
    "새로 생긴 놀이기구는 인기가 매우 많아 줄이 끊이질 않습니다. 이 놀이기구의 원래 이용료는 price원 인데, 놀이기구를 N 번 째 이용한다면 원래 이용료의 N배를 받기로 하였습니다. 즉, 처음 이용료가 100이었다면 2번째에는 200, 3번째에는 300으로 요금이 인상됩니다.\n",
    "놀이기구를 count번 타게 되면 현재 자신이 가지고 있는 금액에서 얼마가 모자라는지를 return 하도록 solution 함수를 완성하세요.\n",
    "단, 금액이 부족하지 않으면 0을 return 하세요."
   ]
  },
  {
   "cell_type": "markdown",
   "id": "e764b120",
   "metadata": {},
   "source": [
    "### 통과 풀이"
   ]
  },
  {
   "cell_type": "code",
   "execution_count": 67,
   "id": "607d0baf",
   "metadata": {},
   "outputs": [],
   "source": [
    "def solution(price, money, count):\n",
    "    play = 0\n",
    "    for i in range(1, count + 1) :\n",
    "        play += price * i\n",
    "    if play <= money :\n",
    "        return 0\n",
    "    else :\n",
    "        return play - money"
   ]
  },
  {
   "cell_type": "code",
   "execution_count": null,
   "id": "ad5aaef6",
   "metadata": {},
   "outputs": [],
   "source": []
  }
 ],
 "metadata": {
  "kernelspec": {
   "display_name": "Python 3 (ipykernel)",
   "language": "python",
   "name": "python3"
  },
  "language_info": {
   "codemirror_mode": {
    "name": "ipython",
    "version": 3
   },
   "file_extension": ".py",
   "mimetype": "text/x-python",
   "name": "python",
   "nbconvert_exporter": "python",
   "pygments_lexer": "ipython3",
   "version": "3.9.12"
  }
 },
 "nbformat": 4,
 "nbformat_minor": 5
}
