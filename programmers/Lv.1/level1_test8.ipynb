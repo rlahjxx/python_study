{
 "cells": [
  {
   "cell_type": "markdown",
   "id": "1b3ae809",
   "metadata": {},
   "source": [
    "# [ 비밀지도 ]\n",
    "네오는 평소 프로도가 비상금을 숨겨놓는 장소를 알려줄 비밀지도를 손에 넣었다. 그런데 이 비밀지도는 숫자로 암호화되어 있어 위치를 확인하기 위해서는 암호를 해독해야 한다. 다행히 지도 암호를 해독할 방법을 적어놓은 메모도 함께 발견했다.\n",
    "\n",
    "* 지도는 한 변의 길이가 n인 정사각형 배열 형태로, 각 칸은 \"공백\"(\" \") 또는 \"벽\"(\"#\") 두 종류로 이루어져 있다.\n",
    "* 전체 지도는 두 장의 지도를 겹쳐서 얻을 수 있다. 각각 \"지도 1\"과 \"지도 2\"라고 하자. 지도 1 또는 지도 2 중 어느 하나라도 벽인 부분은 전체 지도에서도 벽이다. 지도 1과 지도 2에서 모두 공백인 부분은 전체 지도에서도 공백이다.\n",
    "* \"지도 1\"과 \"지도 2\"는 각각 정수 배열로 암호화되어 있다.\n",
    "* 암호화된 배열은 지도의 각 가로줄에서 벽 부분을 1, 공백 부분을 0으로 부호화했을 때 얻어지는 이진수에 해당하는 값의 배열이다.\n",
    "\n",
    "네오가 프로도의 비상금을 손에 넣을 수 있도록, 비밀지도의 암호를 해독하는 작업을 도와줄 프로그램을 작성하라."
   ]
  },
  {
   "cell_type": "markdown",
   "id": "2c995b37",
   "metadata": {},
   "source": [
    "### 통과 풀이 및 보완 코드"
   ]
  },
  {
   "cell_type": "code",
   "execution_count": 50,
   "id": "451fc647",
   "metadata": {},
   "outputs": [],
   "source": [
    "# test 1 (O)\n",
    "def solution(n, arr1, arr2):\n",
    "    arr3, answer = [], []\n",
    "    for i in arr1 + arr2 :\n",
    "        i = format(i, 'b')\n",
    "        if len(i) < n :\n",
    "            i = '0' * (n - len(i)) + i\n",
    "        arr3.append(i)\n",
    "    a, b = arr3[:n], arr3[n:]\n",
    "    for i in range(len(a)) :\n",
    "        num = ''\n",
    "        for j in range(n) :\n",
    "            if int(a[i][j]) + int(b[i][j]) >= 1 :\n",
    "                num += '#'\n",
    "            elif int(a[i][j]) + int(b[i][j]) == 0 :\n",
    "                num += ' '\n",
    "        answer.append(num)\n",
    "    return answer"
   ]
  },
  {
   "cell_type": "code",
   "execution_count": 51,
   "id": "6be7d44b",
   "metadata": {},
   "outputs": [
    {
     "data": {
      "text/plain": [
       "['######', '###  #', '##  ##', ' #### ', ' #####', '### # ']"
      ]
     },
     "execution_count": 51,
     "metadata": {},
     "output_type": "execute_result"
    }
   ],
   "source": [
    "solution(6, [46, 33, 33 ,22, 31, 50], [27 ,56, 19, 14, 14, 10])"
   ]
  },
  {
   "cell_type": "code",
   "execution_count": 55,
   "id": "5cef8f80",
   "metadata": {},
   "outputs": [],
   "source": [
    "# test 2 -> 10진수를 2진수로 변환하는 bin 함수 & rjust 함수 이용\n",
    "def solution(n, arr1, arr2):\n",
    "    answer = []\n",
    "    for i,j in zip(arr1,arr2):\n",
    "        a12 = str(bin(i|j)[2:])\n",
    "        a12=a12.rjust(n,'0')\n",
    "        a12=a12.replace('1','#')\n",
    "        a12=a12.replace('0',' ')\n",
    "        answer.append(a12)\n",
    "    return answer"
   ]
  },
  {
   "cell_type": "markdown",
   "id": "98fc1f7c",
   "metadata": {},
   "source": [
    "# [ 최소직사각형 ]\n",
    "명함 지갑을 만드는 회사에서 지갑의 크기를 정하려고 합니다. 다양한 모양과 크기의 명함들을 모두 수납할 수 있으면서, 작아서 들고 다니기 편한 지갑을 만들어야 합니다. 이러한 요건을 만족하는 지갑을 만들기 위해 디자인팀은 모든 명함의 가로 길이와 세로 길이를 조사했습니다.\n",
    "\n",
    "가장 긴 가로 길이와 세로 길이가 각각 80, 70이기 때문에 80(가로) x 70(세로) 크기의 지갑을 만들면 모든 명함들을 수납할 수 있습니다. 하지만 2번 명함을 가로로 눕혀 수납한다면 80(가로) x 50(세로) 크기의 지갑으로 모든 명함들을 수납할 수 있습니다. 이때의 지갑 크기는 4000(=80 x 50)입니다.\n",
    "\n",
    "모든 명함의 가로 길이와 세로 길이를 나타내는 2차원 배열 sizes가 매개변수로 주어집니다. 모든 명함을 수납할 수 있는 가장 작은 지갑을 만들 때, 지갑의 크기를 return 하도록 solution 함수를 완성해주세요."
   ]
  },
  {
   "cell_type": "markdown",
   "id": "f063726a",
   "metadata": {},
   "source": [
    "### 통과 풀이 및 보완 코드"
   ]
  },
  {
   "cell_type": "code",
   "execution_count": 12,
   "id": "b39b62ad",
   "metadata": {},
   "outputs": [],
   "source": [
    "def solution(sizes):\n",
    "    ss, a, b = [], 0, 0\n",
    "    for i in sizes :\n",
    "        ss.append(sorted(i, reverse=True))\n",
    "    for i in ss :\n",
    "        if i[0] > a :\n",
    "            a = i[0]\n",
    "        if i[1] > b :\n",
    "            b = i[1]\n",
    "    return a * b"
   ]
  },
  {
   "cell_type": "code",
   "execution_count": 13,
   "id": "b286c0d5",
   "metadata": {},
   "outputs": [
    {
     "data": {
      "text/plain": [
       "4000"
      ]
     },
     "execution_count": 13,
     "metadata": {},
     "output_type": "execute_result"
    }
   ],
   "source": [
    "solution([[60, 50], [30, 70], [60, 30], [80, 40]])"
   ]
  },
  {
   "cell_type": "code",
   "execution_count": 14,
   "id": "38b3a531",
   "metadata": {},
   "outputs": [],
   "source": [
    "def solution(sizes):\n",
    "    return max(max(x) for x in sizes) * max(min(x) for x in sizes)"
   ]
  },
  {
   "cell_type": "code",
   "execution_count": 15,
   "id": "627d218a",
   "metadata": {},
   "outputs": [
    {
     "data": {
      "text/plain": [
       "4000"
      ]
     },
     "execution_count": 15,
     "metadata": {},
     "output_type": "execute_result"
    }
   ],
   "source": [
    "solution([[60, 50], [30, 70], [60, 30], [80, 40]])"
   ]
  },
  {
   "cell_type": "markdown",
   "id": "ece21452",
   "metadata": {},
   "source": [
    "# [ 문자열 내 마음대로 정렬하기 ]\n",
    "문자열로 구성된 리스트 strings와, 정수 n이 주어졌을 때, 각 문자열의 인덱스 n번째 글자를 기준으로 오름차순 정렬하려 합니다. 예를 들어 strings가 [\"sun\", \"bed\", \"car\"]이고 n이 1이면 각 단어의 인덱스 1의 문자 \"u\", \"e\", \"a\"로 strings를 정렬합니다.\n",
    "* strings는 길이 1 이상, 50이하인 배열입니다.\n",
    "* strings의 원소는 소문자 알파벳으로 이루어져 있습니다.\n",
    "* strings의 원소는 길이 1 이상, 100이하인 문자열입니다.\n",
    "* 모든 strings의 원소의 길이는 n보다 큽니다.\n",
    "* 인덱스 1의 문자가 같은 문자열이 여럿 일 경우, 사전순으로 앞선 문자열이 앞쪽에 위치합니다."
   ]
  },
  {
   "cell_type": "code",
   "execution_count": 4,
   "id": "aff98ead",
   "metadata": {},
   "outputs": [],
   "source": [
    "# test 1 (O)\n",
    "def solution(strings, n):\n",
    "    # strings 를 오름차순으로 정렬\n",
    "    strings = sorted(strings)\n",
    "    dic, answer = {}, []\n",
    "    # 인덱스를 key, 인덱스에 따른 문자열을 value로 dictionary에 저장\n",
    "    for i in range(len(strings)) :\n",
    "        dic[i] = strings[i][n]\n",
    "    # value 값을 기준으로 정렬\n",
    "    sorted_dic = sorted(dic.items(), key = lambda x: x[1])\n",
    "    for i in sorted_dic :\n",
    "        answer.append(strings[i[0]])\n",
    "    return answer"
   ]
  },
  {
   "cell_type": "code",
   "execution_count": 9,
   "id": "f8488589",
   "metadata": {},
   "outputs": [
    {
     "data": {
      "text/plain": [
       "['car', 'bed', 'sun']"
      ]
     },
     "execution_count": 9,
     "metadata": {},
     "output_type": "execute_result"
    }
   ],
   "source": [
    "solution([\"sun\", \"bed\", \"car\"], 1)"
   ]
  },
  {
   "cell_type": "code",
   "execution_count": 7,
   "id": "66cec56b",
   "metadata": {},
   "outputs": [],
   "source": [
    "# test 2 -> 코드 더 줄이기\n",
    "def solution(strings, n):\n",
    "    return sorted(strings, key=lambda x: x[n])"
   ]
  },
  {
   "cell_type": "code",
   "execution_count": 8,
   "id": "96dd1e8c",
   "metadata": {},
   "outputs": [
    {
     "data": {
      "text/plain": [
       "['car', 'bed', 'sun']"
      ]
     },
     "execution_count": 8,
     "metadata": {},
     "output_type": "execute_result"
    }
   ],
   "source": [
    "solution([\"sun\", \"bed\", \"car\"], 1)"
   ]
  },
  {
   "cell_type": "code",
   "execution_count": null,
   "id": "efdb92a4",
   "metadata": {},
   "outputs": [],
   "source": []
  }
 ],
 "metadata": {
  "kernelspec": {
   "display_name": "Python 3 (ipykernel)",
   "language": "python",
   "name": "python3"
  },
  "language_info": {
   "codemirror_mode": {
    "name": "ipython",
    "version": 3
   },
   "file_extension": ".py",
   "mimetype": "text/x-python",
   "name": "python",
   "nbconvert_exporter": "python",
   "pygments_lexer": "ipython3",
   "version": "3.9.12"
  }
 },
 "nbformat": 4,
 "nbformat_minor": 5
}
