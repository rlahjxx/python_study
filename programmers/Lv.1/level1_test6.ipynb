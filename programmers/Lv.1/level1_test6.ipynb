{
 "cells": [
  {
   "cell_type": "markdown",
   "id": "1cca95dc",
   "metadata": {},
   "source": [
    "# [ 행렬의 덧셈 ]\n",
    "행렬의 덧셈은 행과 열의 크기가 같은 두 행렬의 같은 행, 같은 열의 값을 서로 더한 결과가 됩니다. 2개의 행렬 arr1과 arr2를 입력받아, 행렬 덧셈의 결과를 반환하는 함수, solution을 완성해주세요."
   ]
  },
  {
   "cell_type": "markdown",
   "id": "7cdfa58c",
   "metadata": {},
   "source": [
    "### 통과 풀이"
   ]
  },
  {
   "cell_type": "code",
   "execution_count": 16,
   "id": "7c84227d",
   "metadata": {},
   "outputs": [],
   "source": [
    "# test 1 (O) -> 인덱스 번호를 활용하여 각 리스트의 원소 더하기\n",
    "def solution(arr1, arr2):\n",
    "    answer = []\n",
    "    for i in range(len(arr1)) :\n",
    "        num = []\n",
    "        for j in range(len(arr1[i])) :\n",
    "            num.append(arr1[i][j] + arr2[i][j])\n",
    "        # 리스트 안에 리스트 넣어주기\n",
    "        answer.append(num)\n",
    "    return answer"
   ]
  },
  {
   "cell_type": "code",
   "execution_count": 17,
   "id": "7e46b1df",
   "metadata": {},
   "outputs": [
    {
     "data": {
      "text/plain": [
       "[[4, 6], [7, 9]]"
      ]
     },
     "execution_count": 17,
     "metadata": {},
     "output_type": "execute_result"
    }
   ],
   "source": [
    "solution([[1,2],[2,3]], [[3,4],[5,6]])"
   ]
  },
  {
   "cell_type": "markdown",
   "id": "d24b89ce",
   "metadata": {},
   "source": [
    "# [ 직사각형 별찍기 ]\n",
    "이 문제에는 표준 입력으로 두 개의 정수 n과 m이 주어집니다.\n",
    "\n",
    "별(*) 문자를 이용해 가로의 길이가 n, 세로의 길이가 m인 직사각형 형태를 출력해보세요."
   ]
  },
  {
   "cell_type": "markdown",
   "id": "cc5ce61e",
   "metadata": {},
   "source": [
    "### 통과 풀이"
   ]
  },
  {
   "cell_type": "code",
   "execution_count": 21,
   "id": "b04970f9",
   "metadata": {},
   "outputs": [
    {
     "name": "stdout",
     "output_type": "stream",
     "text": [
      "5 3\n",
      "*****\n",
      "*****\n",
      "*****\n"
     ]
    }
   ],
   "source": [
    "# test 1 (O)\n",
    "a, b = map(int, input().strip().split(' '))\n",
    "for _ in range(b) :\n",
    "    print('*' * a)"
   ]
  },
  {
   "cell_type": "markdown",
   "id": "677f37cc",
   "metadata": {},
   "source": [
    "# [ 같은 숫자는 싫어 ]\n",
    "배열 arr가 주어집니다. 배열 arr의 각 원소는 숫자 0부터 9까지로 이루어져 있습니다. 이때, 배열 arr에서 연속적으로 나타나는 숫자는 하나만 남기고 전부 제거하려고 합니다. 단, 제거된 후 남은 수들을 반환할 때는 배열 arr의 원소들의 순서를 유지해야 합니다. 예를 들면,\n",
    "\n",
    "* arr = [1, 1, 3, 3, 0, 1, 1] 이면 [1, 3, 0, 1] 을 return 합니다.\n",
    "* arr = [4, 4, 4, 3, 3] 이면 [4, 3] 을 return 합니다.\n",
    "\n",
    "배열 arr에서 연속적으로 나타나는 숫자는 제거하고 남은 수들을 return 하는 solution 함수를 완성해 주세요."
   ]
  },
  {
   "cell_type": "code",
   "execution_count": 27,
   "id": "d7b3881e",
   "metadata": {},
   "outputs": [],
   "source": [
    "def solution(arr):\n",
    "    answer = []\n",
    "    answer.append(arr[0])\n",
    "    for i in arr[1:] :\n",
    "        if answer[-1] != i :\n",
    "            answer.append(i)\n",
    "    return answer"
   ]
  },
  {
   "cell_type": "code",
   "execution_count": 28,
   "id": "c6206479",
   "metadata": {},
   "outputs": [
    {
     "data": {
      "text/plain": [
       "[1, 3, 0, 1]"
      ]
     },
     "execution_count": 28,
     "metadata": {},
     "output_type": "execute_result"
    }
   ],
   "source": [
    "solution([1,1,3,3,0,1,1])"
   ]
  },
  {
   "cell_type": "markdown",
   "id": "41f9b249",
   "metadata": {},
   "source": [
    "# [ 이상한 문자 만들기 ]\n",
    "문자열 s는 한 개 이상의 단어로 구성되어 있습니다. 각 단어는 하나 이상의 공백문자로 구분되어 있습니다. 각 단어의 짝수번째 알파벳은 대문자로, 홀수번째 알파벳은 소문자로 바꾼 문자열을 리턴하는 함수, solution을 완성하세요."
   ]
  },
  {
   "cell_type": "markdown",
   "id": "39fa8653",
   "metadata": {},
   "source": [
    "### 통과 풀이 및 보완 코드"
   ]
  },
  {
   "cell_type": "code",
   "execution_count": 24,
   "id": "89bc65f2",
   "metadata": {},
   "outputs": [],
   "source": [
    "# test 1 (O)\n",
    "def solution(s):\n",
    "    answer = []\n",
    "    num = s.split(' ')\n",
    "    for i in num :\n",
    "        n = ''\n",
    "        for j in range(len(i)) :\n",
    "            if j % 2 == 0 :\n",
    "                upp = i[j].upper()\n",
    "                n += upp\n",
    "            else : \n",
    "                low = i[j].lower()\n",
    "                n += low\n",
    "        answer.append(n)\n",
    "    return ' '.join(answer)"
   ]
  },
  {
   "cell_type": "code",
   "execution_count": 25,
   "id": "474208c8",
   "metadata": {},
   "outputs": [],
   "source": [
    "# test 2 -> 열거형으로 한 줄에 나타내는 코드\n",
    "def toWeirdCase(s):\n",
    "    return \" \".join(map(lambda x: \"\".join([a.lower() if i % 2 else a.upper() for i, a in enumerate(x)]), s.split(\" \")))"
   ]
  },
  {
   "cell_type": "markdown",
   "id": "7eb9ce2f",
   "metadata": {},
   "source": [
    "# [ 3진법 뒤집기 ]\n",
    "자연수 n이 매개변수로 주어집니다.\n",
    "\n",
    "n을 3진법 상에서 앞뒤로 뒤집은 후, 이를 다시 10진법으로 표현한 수를 return 하도록 solution 함수를 완성해주세요."
   ]
  },
  {
   "cell_type": "markdown",
   "id": "256f5b65",
   "metadata": {},
   "source": [
    "### 통과 풀이 및 보완 코드"
   ]
  },
  {
   "cell_type": "code",
   "execution_count": 28,
   "id": "8f37563f",
   "metadata": {},
   "outputs": [],
   "source": [
    "# test 1 (O)\n",
    "def solution(n):\n",
    "    number = ''\n",
    "    while n > 2 :\n",
    "        a, b = divmod(n, 3)\n",
    "        n = a\n",
    "        number += str(b)\n",
    "    number += str(n)\n",
    "    number = str(int(number))[::-1]\n",
    "    count = 0\n",
    "    for i in range(len(number)-1, -1, -1) :\n",
    "        count += int(number[i]) * (3 ** (i))\n",
    "    return count"
   ]
  },
  {
   "cell_type": "code",
   "execution_count": 80,
   "id": "60acff82",
   "metadata": {},
   "outputs": [],
   "source": [
    "# test 2 -> 코드 더 줄이기\n",
    "def solution(n):\n",
    "    number = ''\n",
    "    while n != 0 :\n",
    "        a, b = divmod(n, 3)\n",
    "        n = a\n",
    "        number = str(b) + number\n",
    "    count = 0\n",
    "    for i in range(len(number)-1, -1, -1) :\n",
    "        count += int(number[i]) * (3 ** (i))\n",
    "    return count"
   ]
  },
  {
   "cell_type": "code",
   "execution_count": null,
   "id": "1cc23645",
   "metadata": {},
   "outputs": [],
   "source": []
  }
 ],
 "metadata": {
  "kernelspec": {
   "display_name": "Python 3 (ipykernel)",
   "language": "python",
   "name": "python3"
  },
  "language_info": {
   "codemirror_mode": {
    "name": "ipython",
    "version": 3
   },
   "file_extension": ".py",
   "mimetype": "text/x-python",
   "name": "python",
   "nbconvert_exporter": "python",
   "pygments_lexer": "ipython3",
   "version": "3.9.12"
  }
 },
 "nbformat": 4,
 "nbformat_minor": 5
}
