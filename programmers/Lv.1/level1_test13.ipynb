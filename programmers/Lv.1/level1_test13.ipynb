{
 "cells": [
  {
   "cell_type": "markdown",
   "id": "57224fa7",
   "metadata": {},
   "source": [
    "# 소수 만들기\n",
    "주어진 숫자 중 3개의 수를 더했을 때 소수가 되는 경우의 개수를 구하려고 합니다. 숫자들이 들어있는 배열 nums가 매개변수로 주어질 때, nums에 있는 숫자들 중 서로 다른 3개를 골라 더했을 때 소수가 되는 경우의 개수를 return 하도록 solution 함수를 완성해주세요.\n",
    "\n",
    "- nums에 들어있는 숫자의 개수는 3개 이상 50개 이하입니다.\n",
    "- nums의 각 원소는 1 이상 1,000 이하의 자연수이며, 중복된 숫자가 들어있지 않습니다."
   ]
  },
  {
   "cell_type": "markdown",
   "id": "ad972fb4",
   "metadata": {},
   "source": [
    "### 통과 풀이 및 보완 코드"
   ]
  },
  {
   "cell_type": "code",
   "execution_count": 17,
   "id": "ea155b40",
   "metadata": {},
   "outputs": [],
   "source": [
    "def solution(nums):\n",
    "    from itertools import combinations\n",
    "    answer = 0\n",
    "    result = list(combinations(nums, 3))\n",
    "    for i in result :\n",
    "        for j in range(2, sum(i)) :\n",
    "            if sum(i) % j == 0 :\n",
    "                answer += 1\n",
    "                break\n",
    "    return len(result) - answer"
   ]
  },
  {
   "cell_type": "code",
   "execution_count": 18,
   "id": "465e424c",
   "metadata": {},
   "outputs": [
    {
     "data": {
      "text/plain": [
       "4"
      ]
     },
     "execution_count": 18,
     "metadata": {},
     "output_type": "execute_result"
    }
   ],
   "source": [
    "solution([1,2,7,6,4])"
   ]
  },
  {
   "cell_type": "code",
   "execution_count": 16,
   "id": "0b795692",
   "metadata": {},
   "outputs": [
    {
     "name": "stdout",
     "output_type": "stream",
     "text": [
      "10\n",
      "4\n"
     ]
    }
   ],
   "source": [
    "nums = [1,2,7,6,4]\n",
    "from itertools import combinations\n",
    "answer = 0\n",
    "result = list(combinations(nums, 3))\n",
    "for i in result :\n",
    "    for j in range(2, sum(i)) :\n",
    "        if sum(i) % j == 0 :\n",
    "            answer += 1\n",
    "            break\n",
    "print(len(result) - answer)"
   ]
  },
  {
   "cell_type": "markdown",
   "id": "090e6cba",
   "metadata": {},
   "source": [
    "# 실패율\n",
    "슈퍼 게임 개발자 오렐리는 큰 고민에 빠졌다. 그녀가 만든 프랜즈 오천성이 대성공을 거뒀지만, 요즘 신규 사용자의 수가 급감한 것이다. 원인은 신규 사용자와 기존 사용자 사이에 스테이지 차이가 너무 큰 것이 문제였다.\n",
    "\n",
    "이 문제를 어떻게 할까 고민 한 그녀는 동적으로 게임 시간을 늘려서 난이도를 조절하기로 했다. 역시 슈퍼 개발자라 대부분의 로직은 쉽게 구현했지만, 실패율을 구하는 부분에서 위기에 빠지고 말았다. 오렐리를 위해 실패율을 구하는 코드를 완성하라.\n",
    "\n",
    "실패율은 다음과 같이 정의한다.\n",
    "\n",
    "- 스테이지에 도달했으나 아직 클리어하지 못한 플레이어의 수 / 스테이지에 도달한 플레이어 수\n",
    "\n",
    "전체 스테이지의 개수 N, 게임을 이용하는 사용자가 현재 멈춰있는 스테이지의 번호가 담긴 배열 stages가 매개변수로 주어질 때, 실패율이 높은 스테이지부터 내림차순으로 스테이지의 번호가 담겨있는 배열을 return 하도록 solution 함수를 완성하라.\n",
    "\n"
   ]
  },
  {
   "cell_type": "markdown",
   "id": "b5a65684",
   "metadata": {},
   "source": [
    "### 시행 착오 코드"
   ]
  },
  {
   "cell_type": "code",
   "execution_count": 47,
   "id": "e318eb14",
   "metadata": {},
   "outputs": [],
   "source": [
    "# test 1 (X) -> 런타임 에러\n",
    "\n",
    "def solution(N, stages):\n",
    "    i, n = 0, len(stages)\n",
    "    number, answer = {}, []\n",
    "\n",
    "    while i < N :\n",
    "        i = i + 1\n",
    "        remove_num = stages.count(i)\n",
    "        number[i] = remove_num/n\n",
    "        n = n - remove_num\n",
    "        \n",
    "    number = sorted(number.items(), key = lambda x: x[1], reverse=True)\n",
    "    \n",
    "    for i in number :\n",
    "        answer.append(i[0])\n",
    "    \n",
    "    return answer"
   ]
  },
  {
   "cell_type": "markdown",
   "id": "a1cd93ad",
   "metadata": {},
   "source": [
    "### 통과 풀이 및 보완 코드"
   ]
  },
  {
   "cell_type": "code",
   "execution_count": null,
   "id": "7db2a03f",
   "metadata": {},
   "outputs": [],
   "source": [
    "# test 2 -> 스테이지에 도달한 유저가 없는 경우 해당 스테이지의 실패율은 0 으로 정의하는 코드 추가\n",
    "\n",
    "def solution(N, stages):\n",
    "    i, n = 0, len(stages)\n",
    "    number, answer = {}, []\n",
    "\n",
    "    while i < N :\n",
    "        i = i + 1\n",
    "        remove_num = stages.count(i)\n",
    "        if remove_num == 0 :\n",
    "            number[i] = 0\n",
    "        else : \n",
    "            number[i] = remove_num/n\n",
    "        n = n - remove_num\n",
    "        \n",
    "    number = sorted(number.items(), key = lambda x: x[1], reverse=True)\n",
    "    \n",
    "    for i in number :\n",
    "        answer.append(i[0])\n",
    "    \n",
    "    return answer"
   ]
  },
  {
   "cell_type": "code",
   "execution_count": 46,
   "id": "5fd8447b",
   "metadata": {},
   "outputs": [
    {
     "name": "stdout",
     "output_type": "stream",
     "text": [
      "{1: 0.16666666666666666, 2: 0.6, 3: 0.0, 4: 0.5, 5: 0.0}\n",
      "[(2, 0.6), (4, 0.5), (1, 0.16666666666666666), (3, 0.0), (5, 0.0)]\n",
      "[2, 4, 1, 3, 5]\n"
     ]
    }
   ],
   "source": [
    "N, stages = 5, [2, 1, 2, 6, 2, 4]\n",
    "# N, stages = 4, [4,4,4,4,4]\n",
    "i, n = 0, len(stages)\n",
    "number, answer = {}, []\n",
    "\n",
    "while i < N :\n",
    "    i = i + 1\n",
    "    remove_num = stages.count(i)\n",
    "    if remove_num == 0 :\n",
    "        number[i] = 0\n",
    "    else : \n",
    "        number[i] = remove_num/n\n",
    "    n = n - remove_num\n",
    "print(number)\n",
    "number = sorted(number.items(), key = lambda x: x[1], reverse=True)\n",
    "print(number)\n",
    "\n",
    "for i in number :\n",
    "    answer.append(i[0])\n",
    "    \n",
    "print(answer)"
   ]
  },
  {
   "cell_type": "code",
   "execution_count": 17,
   "id": "ffa7495e",
   "metadata": {},
   "outputs": [
    {
     "data": {
      "text/plain": [
       "[1, 2, 3, 4, 6]"
      ]
     },
     "execution_count": 17,
     "metadata": {},
     "output_type": "execute_result"
    }
   ],
   "source": [
    "N, stages = 5, [2, 1, 2, 6, 2, 4, 3, 3]\n",
    "number= []\n",
    "for i in range(1, N + 1) :\n",
    "    s = stages.copy()\n",
    "    number.append(s.count(i)/len(s))\n",
    "    remove_set = {i}\n",
    "    s = [j for j in a if j not in remove_set]"
   ]
  },
  {
   "cell_type": "code",
   "execution_count": null,
   "id": "a6cb8612",
   "metadata": {},
   "outputs": [],
   "source": []
  }
 ],
 "metadata": {
  "kernelspec": {
   "display_name": "Python 3 (ipykernel)",
   "language": "python",
   "name": "python3"
  },
  "language_info": {
   "codemirror_mode": {
    "name": "ipython",
    "version": 3
   },
   "file_extension": ".py",
   "mimetype": "text/x-python",
   "name": "python",
   "nbconvert_exporter": "python",
   "pygments_lexer": "ipython3",
   "version": "3.9.12"
  }
 },
 "nbformat": 4,
 "nbformat_minor": 5
}
