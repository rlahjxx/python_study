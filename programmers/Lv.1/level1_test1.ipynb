{
 "cells": [
  {
   "cell_type": "markdown",
   "id": "232e545f",
   "metadata": {},
   "source": [
    "# [ 햄버거 만들기 ]\n",
    "햄버거 가게에서 일을 하는 상수는 햄버거를 포장하는 일을 합니다. 함께 일을 하는 다른 직원들이 햄버거에 들어갈 재료를 조리해 주면 조리된 순서대로 상수의 앞에 아래서부터 위로 쌓이게 되고, 상수는 순서에 맞게 쌓여서 완성된 햄버거를 따로 옮겨 포장을 하게 됩니다. 상수가 일하는 가게는 정해진 순서(아래서부터, 빵 – 야채 – 고기 - 빵)로 쌓인 햄버거만 포장을 합니다. 상수는 손이 굉장히 빠르기 때문에 상수가 포장하는 동안 속 재료가 추가적으로 들어오는 일은 없으며, 재료의 높이는 무시하여 재료가 높이 쌓여서 일이 힘들어지는 경우는 없습니다.\n",
    "\n",
    "예를 들어, 상수의 앞에 쌓이는 재료의 순서가 [야채, 빵, 빵, 야채, 고기, 빵, 야채, 고기, 빵]일 때, 상수는 여섯 번째 재료가 쌓였을 때, 세 번째 재료부터 여섯 번째 재료를 이용하여 햄버거를 포장하고, 아홉 번째 재료가 쌓였을 때, 두 번째 재료와 일곱 번째 재료부터 아홉 번째 재료를 이용하여 햄버거를 포장합니다. 즉, 2개의 햄버거를 포장하게 됩니다.\n",
    "\n",
    "상수에게 전해지는 재료의 정보를 나타내는 정수 배열 ingredient가 주어졌을 때, 상수가 포장하는 햄버거의 개수를 return 하도록 solution 함수를 완성하시오."
   ]
  },
  {
   "cell_type": "markdown",
   "id": "417f2d3d",
   "metadata": {},
   "source": [
    "### 시행 착오 코드"
   ]
  },
  {
   "cell_type": "code",
   "execution_count": 136,
   "id": "2e07d30e",
   "metadata": {},
   "outputs": [],
   "source": [
    "# test 1 (X) -> 시간 초과 에러 발생 (join, if문, replace 모두 for문을 돌기 때문에 연산이 오래 걸림)\n",
    "def solution(ingredient):\n",
    "    # map 함수를 통해 ingredient 리스트 내 요소들을 모두 str으로 변환 후 list에 담기\n",
    "    num = list(map(str, ingredient))\n",
    "    # 하나의 문자열로 join\n",
    "    num = ''.join(num)\n",
    "    count = 0\n",
    "    # num의 개수가 4개 미만이 될 때까지 while문 실행\n",
    "    while True :\n",
    "        if len(num) < 4:\n",
    "            return count\n",
    "        # num 문자열 내 '1231'이 있으면 count + 1 하면서 공백으로 변환시켜줌\n",
    "        if '1231' in num :\n",
    "            count += 1\n",
    "            num = num.replace('1231', '', 1)\n",
    "            continue\n",
    "        else :\n",
    "            return 0\n",
    "        if len(num) == 4:\n",
    "            if '1231' not in num :\n",
    "                return count"
   ]
  },
  {
   "cell_type": "code",
   "execution_count": 138,
   "id": "ece1848a",
   "metadata": {},
   "outputs": [
    {
     "data": {
      "text/plain": [
       "3"
      ]
     },
     "execution_count": 138,
     "metadata": {},
     "output_type": "execute_result"
    }
   ],
   "source": [
    "solution([1,2,1,1,2,3,1,2,3,1,3,1,1])"
   ]
  },
  {
   "cell_type": "code",
   "execution_count": 70,
   "id": "8d4175a4",
   "metadata": {},
   "outputs": [],
   "source": [
    "# test 2 (X) -> 시간 초과 에러 발생\n",
    "def solution(ingredient):\n",
    "    num = list(map(str, ingredient))\n",
    "    print(num)\n",
    "    ham, count = '', 0\n",
    "    for i in num :\n",
    "        ham += i\n",
    "        # ham 문자열 내 '1231'이 있으면 그를 제외한 문자열까지만 저장 -> slicing으로 인덱싱 : 연산 시간 오래 걸림\n",
    "        if '1231' in ham :\n",
    "            count += 1\n",
    "            ham = ham[:-4]\n",
    "    if '1231' not in ham :\n",
    "        return count"
   ]
  },
  {
   "cell_type": "code",
   "execution_count": 71,
   "id": "75521e6a",
   "metadata": {},
   "outputs": [
    {
     "name": "stdout",
     "output_type": "stream",
     "text": [
      "['1', '2', '1', '2', '3', '1', '1', '2', '3', '1', '3', '1', '1']\n"
     ]
    },
    {
     "data": {
      "text/plain": [
       "3"
      ]
     },
     "execution_count": 71,
     "metadata": {},
     "output_type": "execute_result"
    }
   ],
   "source": [
    "solution([1,2,1,2,3,1,1,2,3,1,3,1,1])"
   ]
  },
  {
   "cell_type": "code",
   "execution_count": 75,
   "id": "1b3cc3e7",
   "metadata": {},
   "outputs": [],
   "source": [
    "# test 3 (X) -> 시간 초과 에러 발생\n",
    "def solution(ingredient):\n",
    "    num = list(map(str, ingredient))\n",
    "    ham, count = '', 0\n",
    "    for i in range(0,len(num),4) :\n",
    "        ham += ''.join(num[i:i+4])\n",
    "        if '1231' in ham :\n",
    "            count += 1\n",
    "            ham = ham.replace('1231', '',1)\n",
    "    if '1231' not in ham :\n",
    "        return count"
   ]
  },
  {
   "cell_type": "code",
   "execution_count": 77,
   "id": "e4c44e50",
   "metadata": {},
   "outputs": [
    {
     "data": {
      "text/plain": [
       "2"
      ]
     },
     "execution_count": 77,
     "metadata": {},
     "output_type": "execute_result"
    }
   ],
   "source": [
    "solution([1,2,3,1,1,2,3,1,1])"
   ]
  },
  {
   "cell_type": "markdown",
   "id": "2908afee",
   "metadata": {},
   "source": [
    "### 통과 풀이 및 보완 코드"
   ]
  },
  {
   "cell_type": "code",
   "execution_count": 127,
   "id": "10ba63cf",
   "metadata": {},
   "outputs": [],
   "source": [
    "# test 4 (O) -> 문자열 & slicing 이용\n",
    "# 리스트로 for 문을 돌리는 것보다 문자열로 for 문을 돌리는 것이 더 빠름\n",
    "# 리스트는 안에 ,(쉼표)마다 각각 주소를 가지지만 문자열은 그 자체 하나만으로 주소를 가짐\n",
    "def solution(ingredient):\n",
    "    num = list(map(str, ingredient))\n",
    "    ham, count = '', 0\n",
    "    for i in num :\n",
    "        ham += i\n",
    "        if ham[-4:] == '1231' :\n",
    "            count += 1\n",
    "            ham = ham[:-4]\n",
    "    return count"
   ]
  },
  {
   "cell_type": "code",
   "execution_count": 128,
   "id": "0fb5f385",
   "metadata": {},
   "outputs": [
    {
     "data": {
      "text/plain": [
       "0"
      ]
     },
     "execution_count": 128,
     "metadata": {},
     "output_type": "execute_result"
    }
   ],
   "source": [
    "solution([1, 3, 2, 1, 2, 1, 3, 1, 2])"
   ]
  },
  {
   "cell_type": "code",
   "execution_count": 134,
   "id": "025754d0",
   "metadata": {},
   "outputs": [],
   "source": [
    "# test 5 (O) -> 리스트 그대로 사용 & pop 함수 이용\n",
    "def solution(ingredient):\n",
    "    num, count = [], 0\n",
    "    for i in ingredient :\n",
    "        num.append(i)\n",
    "        if num[-4:] == [1,2,3,1] :\n",
    "            print('1231', num)\n",
    "            count += 1\n",
    "            # slicing보다 pop 함수를 통해 제거하는 것이 연산 시간 더 빠름\n",
    "            for _ in range(4) :\n",
    "                num.pop()\n",
    "                print('pop', num)\n",
    "    return count"
   ]
  },
  {
   "cell_type": "code",
   "execution_count": 135,
   "id": "89d47c5d",
   "metadata": {},
   "outputs": [
    {
     "name": "stdout",
     "output_type": "stream",
     "text": [
      "1231 [2, 1, 1, 2, 3, 1]\n",
      "p0p [2, 1, 1, 2, 3]\n",
      "p0p [2, 1, 1, 2]\n",
      "p0p [2, 1, 1]\n",
      "p0p [2, 1]\n",
      "1231 [2, 1, 2, 3, 1]\n",
      "p0p [2, 1, 2, 3]\n",
      "p0p [2, 1, 2]\n",
      "p0p [2, 1]\n",
      "p0p [2]\n"
     ]
    },
    {
     "data": {
      "text/plain": [
       "2"
      ]
     },
     "execution_count": 135,
     "metadata": {},
     "output_type": "execute_result"
    }
   ],
   "source": [
    "solution([2, 1, 1, 2, 3, 1, 2, 3, 1])"
   ]
  },
  {
   "cell_type": "code",
   "execution_count": null,
   "id": "fc7f62a0",
   "metadata": {},
   "outputs": [],
   "source": []
  }
 ],
 "metadata": {
  "kernelspec": {
   "display_name": "Python 3 (ipykernel)",
   "language": "python",
   "name": "python3"
  },
  "language_info": {
   "codemirror_mode": {
    "name": "ipython",
    "version": 3
   },
   "file_extension": ".py",
   "mimetype": "text/x-python",
   "name": "python",
   "nbconvert_exporter": "python",
   "pygments_lexer": "ipython3",
   "version": "3.9.12"
  }
 },
 "nbformat": 4,
 "nbformat_minor": 5
}
