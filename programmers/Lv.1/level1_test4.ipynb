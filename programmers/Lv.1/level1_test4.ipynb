{
 "cells": [
  {
   "cell_type": "markdown",
   "id": "abb3fa0b",
   "metadata": {},
   "source": [
    "# [ 두 정수 사이의 합 ]\n",
    "두 정수 a, b가 주어졌을 때 a와 b 사이에 속한 모든 정수의 합을 리턴하는 함수, solution을 완성하세요.\n",
    "예를 들어 a = 3, b = 5인 경우, 3 + 4 + 5 = 12이므로 12를 리턴합니다."
   ]
  },
  {
   "cell_type": "markdown",
   "id": "cd9b3d7a",
   "metadata": {},
   "source": [
    "### 통과 풀이 및 보완 코드"
   ]
  },
  {
   "cell_type": "code",
   "execution_count": 9,
   "id": "4f54bd35",
   "metadata": {},
   "outputs": [],
   "source": [
    "# test 1 (O)\n",
    "def solution(a, b):\n",
    "    answer = 0\n",
    "    if a >= b :\n",
    "        for i in range(b, a + 1) :\n",
    "            answer += i\n",
    "    else :\n",
    "        for i in range(a, b + 1) :\n",
    "            answer += i\n",
    "    return answer"
   ]
  },
  {
   "cell_type": "code",
   "execution_count": 11,
   "id": "b27e6e47",
   "metadata": {},
   "outputs": [
    {
     "data": {
      "text/plain": [
       "12"
      ]
     },
     "execution_count": 11,
     "metadata": {},
     "output_type": "execute_result"
    }
   ],
   "source": [
    "solution(3,5)"
   ]
  },
  {
   "cell_type": "code",
   "execution_count": 12,
   "id": "a0026e8d",
   "metadata": {},
   "outputs": [],
   "source": [
    "# test 2 -> range 함수를 이용한 sum (코드 줄이기)\n",
    "def solution(a, b):\n",
    "    return sum(range(a,b+1) if a <= b else range(b,a+1))"
   ]
  },
  {
   "cell_type": "code",
   "execution_count": 13,
   "id": "2d977a8c",
   "metadata": {},
   "outputs": [
    {
     "data": {
      "text/plain": [
       "12"
      ]
     },
     "execution_count": 13,
     "metadata": {},
     "output_type": "execute_result"
    }
   ],
   "source": [
    "solution(3,5)"
   ]
  },
  {
   "cell_type": "markdown",
   "id": "35400b48",
   "metadata": {},
   "source": [
    "# [ 콜라츠 추측 ]\n",
    "예를 들어, 주어진 수가 6이라면 6 → 3 → 10 → 5 → 16 → 8 → 4 → 2 → 1 이 되어 총 8번 만에 1이 됩니다. 위 작업을 몇 번이나 반복해야 하는지 반환하는 함수, solution을 완성해 주세요. 단, 주어진 수가 1인 경우에는 0을, 작업을 500번 반복할 때까지 1이 되지 않는다면 –1을 반환해 주세요."
   ]
  },
  {
   "cell_type": "markdown",
   "id": "1f6fc430",
   "metadata": {},
   "source": [
    "### 통과 풀이 및 보완 코드"
   ]
  },
  {
   "cell_type": "code",
   "execution_count": 13,
   "id": "1c06cb20",
   "metadata": {},
   "outputs": [],
   "source": [
    "# test 1 (O)\n",
    "def solution(n):\n",
    "    count = 0\n",
    "    # n이 1이 될때까지 while문 실행\n",
    "    while n > 1 :\n",
    "        if n % 2 == 0 :\n",
    "            n = n / 2\n",
    "        else :\n",
    "            n = n * 3 + 1\n",
    "        count += 1\n",
    "        # count가 500이 되면 -1 반환\n",
    "        if count == 500 :\n",
    "            return -1\n",
    "    return count"
   ]
  },
  {
   "cell_type": "code",
   "execution_count": 14,
   "id": "d5809db5",
   "metadata": {},
   "outputs": [
    {
     "data": {
      "text/plain": [
       "-1"
      ]
     },
     "execution_count": 14,
     "metadata": {},
     "output_type": "execute_result"
    }
   ],
   "source": [
    "solution(626331)"
   ]
  },
  {
   "cell_type": "markdown",
   "id": "fa8bac92",
   "metadata": {},
   "source": [
    "# [ 서울에서 김서방 찾기 ]\n",
    "String형 배열 seoul의 element중 \"Kim\"의 위치 x를 찾아, \"김서방은 x에 있다\"는 String을 반환하는 함수, solution을 완성하세요. seoul에 \"Kim\"은 오직 한 번만 나타나며 잘못된 값이 입력되는 경우는 없습니다."
   ]
  },
  {
   "cell_type": "markdown",
   "id": "6afbf3ac",
   "metadata": {},
   "source": [
    "### 통과 풀이 및 보완 코드"
   ]
  },
  {
   "cell_type": "code",
   "execution_count": 20,
   "id": "ebfbf85a",
   "metadata": {},
   "outputs": [],
   "source": [
    "# test 1 (O)\n",
    "def solution(seoul):\n",
    "    for i in range(len(seoul)) :\n",
    "        if seoul[i] == 'Kim' :\n",
    "            return f'김서방은 {i}에 있다'"
   ]
  },
  {
   "cell_type": "code",
   "execution_count": 22,
   "id": "6b57fb7e",
   "metadata": {},
   "outputs": [
    {
     "data": {
      "text/plain": [
       "'김서방은 1에 있다'"
      ]
     },
     "execution_count": 22,
     "metadata": {},
     "output_type": "execute_result"
    }
   ],
   "source": [
    "solution([\"Jane\", \"Kim\"])"
   ]
  },
  {
   "cell_type": "code",
   "execution_count": 23,
   "id": "aa55b300",
   "metadata": {},
   "outputs": [],
   "source": [
    "# test 2 -> for 문 없이 'Kim'의 인덱스를 찾기\n",
    "def findKim(seoul):\n",
    "    return \"김서방은 {}에 있다\".format(seoul.index('Kim'))"
   ]
  },
  {
   "cell_type": "code",
   "execution_count": 24,
   "id": "395f0b1c",
   "metadata": {},
   "outputs": [
    {
     "data": {
      "text/plain": [
       "'김서방은 1에 있다'"
      ]
     },
     "execution_count": 24,
     "metadata": {},
     "output_type": "execute_result"
    }
   ],
   "source": [
    "solution([\"Jane\", \"Kim\"])"
   ]
  },
  {
   "cell_type": "markdown",
   "id": "340afa23",
   "metadata": {},
   "source": [
    "# [ 핸드폰 번호 가리기 ]\n",
    "프로그래머스 모바일은 개인정보 보호를 위해 고지서를 보낼 때 고객들의 전화번호의 일부를 가립니다.\n",
    "전화번호가 문자열 phone_number로 주어졌을 때, 전화번호의 뒷 4자리를 제외한 나머지 숫자를 전부 *으로 가린 문자열을 리턴하는 함수, solution을 완성해주세요."
   ]
  },
  {
   "cell_type": "markdown",
   "id": "cc32ed20",
   "metadata": {},
   "source": [
    "### 통과 풀이 및 보완 코드"
   ]
  },
  {
   "cell_type": "code",
   "execution_count": 32,
   "id": "2e6afda1",
   "metadata": {},
   "outputs": [],
   "source": [
    "def solution(phone_number):\n",
    "    answer = ''\n",
    "    answer += '*' * len(phone_number[:-4])\n",
    "    answer += phone_number[-4:]\n",
    "    return answer"
   ]
  },
  {
   "cell_type": "code",
   "execution_count": 33,
   "id": "33daa570",
   "metadata": {},
   "outputs": [
    {
     "data": {
      "text/plain": [
       "'*******4444'"
      ]
     },
     "execution_count": 33,
     "metadata": {},
     "output_type": "execute_result"
    }
   ],
   "source": [
    "solution(\"01033334444\")"
   ]
  },
  {
   "cell_type": "markdown",
   "id": "1862b1c9",
   "metadata": {},
   "source": [
    "# [ 나누어 떨어지는 숫자 배열 ]\n",
    "array의 각 element 중 divisor로 나누어 떨어지는 값을 오름차순으로 정렬한 배열을 반환하는 함수, solution을 작성해주세요.\n",
    "divisor로 나누어 떨어지는 element가 하나도 없다면 배열에 -1을 담아 반환하세요."
   ]
  },
  {
   "cell_type": "markdown",
   "id": "ab1fa209",
   "metadata": {},
   "source": [
    "### 통과 풀이 및 보완 코드"
   ]
  },
  {
   "cell_type": "code",
   "execution_count": 42,
   "id": "5c99d1f2",
   "metadata": {},
   "outputs": [],
   "source": [
    "def solution(arr, divisor):\n",
    "    answer = []\n",
    "    for i in arr :\n",
    "        if i % divisor == 0 :\n",
    "            answer.append(i)\n",
    "    if len(answer) == 0 :\n",
    "        answer.append(-1)\n",
    "    return sorted(answer)"
   ]
  },
  {
   "cell_type": "code",
   "execution_count": 43,
   "id": "f861a6a3",
   "metadata": {},
   "outputs": [
    {
     "data": {
      "text/plain": [
       "[-1]"
      ]
     },
     "execution_count": 43,
     "metadata": {},
     "output_type": "execute_result"
    }
   ],
   "source": [
    "solution([3,2,6], 10)"
   ]
  },
  {
   "cell_type": "markdown",
   "id": "66444f16",
   "metadata": {},
   "source": [
    "# [ 제일 작은 수 제거하기 ]\n",
    "정수를 저장한 배열, arr 에서 가장 작은 수를 제거한 배열을 리턴하는 함수, solution을 완성해주세요. 단, 리턴하려는 배열이 빈 배열인 경우엔 배열에 -1을 채워 리턴하세요. 예를들어 arr이 [4,3,2,1]인 경우는 [4,3,2]를 리턴 하고, [10]면 [-1]을 리턴 합니다."
   ]
  },
  {
   "cell_type": "code",
   "execution_count": 56,
   "id": "1a79bfab",
   "metadata": {},
   "outputs": [],
   "source": [
    "# test 1 (X) -> sort 하면 각 원소의 인덱스가 달라져서 에러 발생\n",
    "def solution(arr):\n",
    "    arr = sorted(arr, reverse=True)[:-1]\n",
    "    if len(arr) == 0 :\n",
    "        return [-1]\n",
    "    else :\n",
    "        return arr"
   ]
  },
  {
   "cell_type": "code",
   "execution_count": 58,
   "id": "062527be",
   "metadata": {},
   "outputs": [
    {
     "data": {
      "text/plain": [
       "[8, 7]"
      ]
     },
     "execution_count": 58,
     "metadata": {},
     "output_type": "execute_result"
    }
   ],
   "source": [
    "solution([6,8,7])"
   ]
  },
  {
   "cell_type": "code",
   "execution_count": 66,
   "id": "0cd978e4",
   "metadata": {},
   "outputs": [],
   "source": [
    "# test 2 (O)\n",
    "def solution(arr):\n",
    "    arr.remove(min(arr))\n",
    "    if len(arr) == 0 :\n",
    "        return [-1]\n",
    "    else :\n",
    "        return arr"
   ]
  },
  {
   "cell_type": "code",
   "execution_count": 68,
   "id": "6910ab56",
   "metadata": {},
   "outputs": [
    {
     "data": {
      "text/plain": [
       "[-1]"
      ]
     },
     "execution_count": 68,
     "metadata": {},
     "output_type": "execute_result"
    }
   ],
   "source": [
    "solution([10])"
   ]
  },
  {
   "cell_type": "markdown",
   "id": "37f31c75",
   "metadata": {},
   "source": [
    "# [ 음양 더하기 ]\n",
    "어떤 정수들이 있습니다. 이 정수들의 절댓값을 차례대로 담은 정수 배열 absolutes와 이 정수들의 부호를 차례대로 담은 불리언 배열 signs가 매개변수로 주어집니다. 실제 정수들의 합을 구하여 return 하도록 solution 함수를 완성해주세요."
   ]
  },
  {
   "cell_type": "markdown",
   "id": "c73d2f11",
   "metadata": {},
   "source": [
    "### 통과 풀이 및 보완 코드"
   ]
  },
  {
   "cell_type": "code",
   "execution_count": 11,
   "id": "09e312fe",
   "metadata": {},
   "outputs": [],
   "source": [
    "def solution(absolutes, signs):\n",
    "    for i in range(len(signs)) :\n",
    "        if signs[i] == False :\n",
    "            absolutes[i] = -absolutes[i]\n",
    "    return sum(absolutes)"
   ]
  },
  {
   "cell_type": "code",
   "execution_count": 13,
   "id": "fc46c1ad",
   "metadata": {},
   "outputs": [
    {
     "data": {
      "text/plain": [
       "9"
      ]
     },
     "execution_count": 13,
     "metadata": {},
     "output_type": "execute_result"
    }
   ],
   "source": [
    "solution([4,7,12], [True, False, True])"
   ]
  },
  {
   "cell_type": "markdown",
   "id": "dfcd0e34",
   "metadata": {},
   "source": [
    "# [ 없는 숫자 더하기 ]\n",
    "0부터 9까지의 숫자 중 일부가 들어있는 정수 배열 numbers가 매개변수로 주어집니다. numbers에서 찾을 수 없는 0부터 9까지의 숫자를 모두 찾아 더한 수를 return 하도록 solution 함수를 완성해주세요."
   ]
  },
  {
   "cell_type": "markdown",
   "id": "05f98a95",
   "metadata": {},
   "source": [
    "### 통과 풀이 및 보완 코드"
   ]
  },
  {
   "cell_type": "code",
   "execution_count": 19,
   "id": "d0c85823",
   "metadata": {},
   "outputs": [],
   "source": [
    "def solution(numbers):\n",
    "    count = 0\n",
    "    for i in range(0,10):\n",
    "        if i not in numbers :\n",
    "            count += i\n",
    "    return count"
   ]
  },
  {
   "cell_type": "code",
   "execution_count": 20,
   "id": "e9e2adc7",
   "metadata": {},
   "outputs": [
    {
     "data": {
      "text/plain": [
       "14"
      ]
     },
     "execution_count": 20,
     "metadata": {},
     "output_type": "execute_result"
    }
   ],
   "source": [
    "solution([1,2,3,4,6,7,8,0])"
   ]
  },
  {
   "cell_type": "code",
   "execution_count": 21,
   "id": "a237b11a",
   "metadata": {},
   "outputs": [],
   "source": [
    "def solution(numbers):\n",
    "    return 45 - sum(numbers)"
   ]
  },
  {
   "cell_type": "code",
   "execution_count": 22,
   "id": "b8c9303a",
   "metadata": {},
   "outputs": [
    {
     "data": {
      "text/plain": [
       "14"
      ]
     },
     "execution_count": 22,
     "metadata": {},
     "output_type": "execute_result"
    }
   ],
   "source": [
    "solution([1,2,3,4,6,7,8,0])"
   ]
  },
  {
   "cell_type": "code",
   "execution_count": null,
   "id": "cf921387",
   "metadata": {},
   "outputs": [],
   "source": []
  }
 ],
 "metadata": {
  "kernelspec": {
   "display_name": "Python 3 (ipykernel)",
   "language": "python",
   "name": "python3"
  },
  "language_info": {
   "codemirror_mode": {
    "name": "ipython",
    "version": 3
   },
   "file_extension": ".py",
   "mimetype": "text/x-python",
   "name": "python",
   "nbconvert_exporter": "python",
   "pygments_lexer": "ipython3",
   "version": "3.9.12"
  }
 },
 "nbformat": 4,
 "nbformat_minor": 5
}
