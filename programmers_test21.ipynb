{
 "cells": [
  {
   "cell_type": "markdown",
   "id": "04012e6c",
   "metadata": {},
   "source": [
    "## 겹치는 선분의 길이\n",
    "빨간색, 초록색, 파란색 선분이 x축 위에 있습니다. 세 선분의 x좌표 시작과 끝이 [[start, end], [start, end], [start, end]] 형태로 들어있는 2차원 배열 lines가 매개변수로 주어질 때, 두 개 이상의 선분이 겹치는 부분의 길이를return 하도록 solution 함수를 완성해보세요."
   ]
  },
  {
   "cell_type": "code",
   "execution_count": null,
   "id": "a6da7e3c",
   "metadata": {},
   "outputs": [],
   "source": [
    "# test 1 (X)\n",
    "def solution(lines):\n",
    "    m, n, r = [], [], []\n",
    "    for i in range(len(lines)):\n",
    "        for j in range(lines[i][0] + 1, lines[i][-1] + 1) :\n",
    "            if i == 0 :\n",
    "                m.append((j-1, j))\n",
    "            elif i == 1 :\n",
    "                n.append((j-1, j))\n",
    "            else :\n",
    "                r.append((j-1, j))\n",
    "\n",
    "    count1 = 0\n",
    "    for i in m :\n",
    "        for j in n:\n",
    "            if i == j :\n",
    "                count1 += 1\n",
    "\n",
    "    count2 = 0\n",
    "    for i in n :\n",
    "        for j in r :\n",
    "            if i == j :\n",
    "                count2 += 1\n",
    "\n",
    "    return count1 + count2"
   ]
  },
  {
   "cell_type": "code",
   "execution_count": null,
   "id": "1cd553d6",
   "metadata": {},
   "outputs": [],
   "source": [
    "# test 2 (O)\n",
    "def solution(lines):\n",
    "    m, n, r = [], [], []\n",
    "    # 각자의 범위 안에서 ( , )으로 쪼개서 list에 넣어주기\n",
    "    for i in range(len(lines)):\n",
    "        for j in range(lines[i][0] + 1, lines[i][-1] + 1) :\n",
    "            if i == 0 :\n",
    "                m.append((j-1, j))\n",
    "            elif i == 1 :\n",
    "                n.append((j-1, j))\n",
    "            else :\n",
    "                r.append((j-1, j))\n",
    "    \n",
    "    # 각자의 list를 비교하여 겹치는 튜플을 새로운 list에 넣어주기\n",
    "    answer = []\n",
    "    for i in m :\n",
    "        for j in n:\n",
    "            if i == j :\n",
    "                answer.append(i)\n",
    "\n",
    "    for i in n :\n",
    "        for j in r :\n",
    "            if i == j :\n",
    "                answer.append(i)\n",
    "                \n",
    "    for i in m :\n",
    "        for j in r :\n",
    "            if i == j :\n",
    "                answer.append(i)\n",
    "    # 중복되는 튜플 제외한 개수 return\n",
    "    return len(set(answer))"
   ]
  },
  {
   "cell_type": "markdown",
   "id": "4a5ec28f",
   "metadata": {},
   "source": [
    "## 평행\n",
    "주어진 네 개의 점을 두 개씩 이었을 때, 두 직선이 평행이 되는 경우가 있으면 1을 없으면 0을 return 하도록 solution 함수를 완성해보세요."
   ]
  },
  {
   "cell_type": "code",
   "execution_count": 6,
   "id": "3c6891ce",
   "metadata": {},
   "outputs": [],
   "source": [
    "# test 1 (O)\n",
    "from fractions import Fraction\n",
    "def solution(dots):\n",
    "    dots = sorted(dots, key = lambda x : x[0])\n",
    "    num1 = Fraction(dots[1][0] - dots[0][0], dots[1][1] - dots[0][1])\n",
    "    num2 = Fraction(dots[3][0] - dots[2][0], dots[3][1] - dots[2][1])\n",
    "    if num1 == num2 :\n",
    "        return 1\n",
    "    else :\n",
    "        return 0"
   ]
  },
  {
   "cell_type": "code",
   "execution_count": 8,
   "id": "6e17ad45",
   "metadata": {},
   "outputs": [
    {
     "name": "stdout",
     "output_type": "stream",
     "text": [
      "[[1, 4], [3, 8], [9, 2], [11, 6]]\n",
      "1/2\n",
      "1/2\n"
     ]
    }
   ],
   "source": [
    "from fractions import Fraction\n",
    "dots = [[1, 4], [9, 2], [3, 8], [11, 6]]\n",
    "dots = sorted(dots, key = lambda x : x[0])\n",
    "print(dots)\n",
    "num1 = Fraction(dots[1][0] - dots[0][0], dots[1][1] - dots[0][1])\n",
    "num2 = Fraction(dots[3][0] - dots[2][0], dots[3][1] - dots[2][1])\n",
    "print(num1)\n",
    "print(num2)"
   ]
  },
  {
   "cell_type": "code",
   "execution_count": 45,
   "id": "2f9cdf99",
   "metadata": {},
   "outputs": [
    {
     "data": {
      "text/plain": [
       "[[1, 2], [2, 5], [3, 4]]"
      ]
     },
     "execution_count": 45,
     "metadata": {},
     "output_type": "execute_result"
    }
   ],
   "source": [
    "n = [[1,2], [3,4], [2,5]]\n",
    "n = sorted(n, key = lambda x : x[0])\n",
    "n"
   ]
  },
  {
   "cell_type": "code",
   "execution_count": null,
   "id": "1c33ac78",
   "metadata": {},
   "outputs": [],
   "source": []
  }
 ],
 "metadata": {
  "kernelspec": {
   "display_name": "Python 3 (ipykernel)",
   "language": "python",
   "name": "python3"
  },
  "language_info": {
   "codemirror_mode": {
    "name": "ipython",
    "version": 3
   },
   "file_extension": ".py",
   "mimetype": "text/x-python",
   "name": "python",
   "nbconvert_exporter": "python",
   "pygments_lexer": "ipython3",
   "version": "3.9.12"
  }
 },
 "nbformat": 4,
 "nbformat_minor": 5
}
