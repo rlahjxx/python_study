{
 "cells": [
  {
   "cell_type": "markdown",
   "id": "ab334a4f",
   "metadata": {},
   "source": [
    "## k의 개수"
   ]
  },
  {
   "cell_type": "code",
   "execution_count": 5,
   "id": "8ddcd3d9",
   "metadata": {},
   "outputs": [],
   "source": [
    "def solution(i, j, k):\n",
    "    answer = 0\n",
    "    for n in range(i, j+1):\n",
    "        num = str(n)\n",
    "        for m in num:\n",
    "            if m == str(k):\n",
    "                answer += 1\n",
    "    return answer"
   ]
  },
  {
   "cell_type": "code",
   "execution_count": 6,
   "id": "c23acfb7",
   "metadata": {},
   "outputs": [
    {
     "data": {
      "text/plain": [
       "6"
      ]
     },
     "execution_count": 6,
     "metadata": {},
     "output_type": "execute_result"
    }
   ],
   "source": [
    "solution(1,13,1)"
   ]
  },
  {
   "cell_type": "markdown",
   "id": "59f0633b",
   "metadata": {},
   "source": [
    "## A로 B 만들기"
   ]
  },
  {
   "cell_type": "code",
   "execution_count": 10,
   "id": "0d47f33c",
   "metadata": {},
   "outputs": [],
   "source": [
    "def solution(before, after):\n",
    "    if sorted(list(before)) == sorted(list(after)):\n",
    "        return 1\n",
    "    else:\n",
    "        return 0"
   ]
  },
  {
   "cell_type": "code",
   "execution_count": 12,
   "id": "abb0c895",
   "metadata": {},
   "outputs": [
    {
     "name": "stdout",
     "output_type": "stream",
     "text": [
      "1\n",
      "0\n"
     ]
    }
   ],
   "source": [
    "print(solution('olleh', 'hello'))\n",
    "print(solution('ellpa', 'apple'))"
   ]
  },
  {
   "cell_type": "markdown",
   "id": "f4fdc4b0",
   "metadata": {},
   "source": [
    "## 암호 해독"
   ]
  },
  {
   "cell_type": "code",
   "execution_count": 20,
   "id": "ccc9f952",
   "metadata": {},
   "outputs": [],
   "source": [
    "# test 1 (O)\n",
    "def solution(cipher, code):\n",
    "    answer = ''\n",
    "    for i in range(2,len(cipher)//code+2):\n",
    "        answer += cipher[code*(i-1)-1]\n",
    "    return answer"
   ]
  },
  {
   "cell_type": "code",
   "execution_count": 21,
   "id": "e2606213",
   "metadata": {},
   "outputs": [
    {
     "data": {
      "text/plain": [
       "'fallback'"
      ]
     },
     "execution_count": 21,
     "metadata": {},
     "output_type": "execute_result"
    }
   ],
   "source": [
    "solution(\"pfqallllabwaoclk\", 2)"
   ]
  },
  {
   "cell_type": "code",
   "execution_count": 22,
   "id": "25ca1b76",
   "metadata": {},
   "outputs": [
    {
     "data": {
      "text/plain": [
       "'attack'"
      ]
     },
     "execution_count": 22,
     "metadata": {},
     "output_type": "execute_result"
    }
   ],
   "source": [
    "solution(\"dfjardstddetckdaccccdegk\",4)"
   ]
  },
  {
   "cell_type": "code",
   "execution_count": 23,
   "id": "b3be5ac5",
   "metadata": {},
   "outputs": [],
   "source": [
    "# test 2\n",
    "\n",
    "def solution(cipher, code):\n",
    "    answer = cipher[code-1::code] # range(start,end,step)과 같음\n",
    "    return answer"
   ]
  },
  {
   "cell_type": "code",
   "execution_count": 29,
   "id": "e70d05ff",
   "metadata": {},
   "outputs": [
    {
     "data": {
      "text/plain": [
       "'el'"
      ]
     },
     "execution_count": 29,
     "metadata": {},
     "output_type": "execute_result"
    }
   ],
   "source": [
    "solution('hello',2)"
   ]
  },
  {
   "cell_type": "code",
   "execution_count": 28,
   "id": "2b99e495",
   "metadata": {},
   "outputs": [
    {
     "data": {
      "text/plain": [
       "'ef'"
      ]
     },
     "execution_count": 28,
     "metadata": {},
     "output_type": "execute_result"
    }
   ],
   "source": [
    "cipher = 'helfo'\n",
    "cipher[1::2]"
   ]
  },
  {
   "cell_type": "code",
   "execution_count": 30,
   "id": "ba34cd9d",
   "metadata": {},
   "outputs": [
    {
     "data": {
      "text/plain": [
       "'ofleh'"
      ]
     },
     "execution_count": 30,
     "metadata": {},
     "output_type": "execute_result"
    }
   ],
   "source": [
    "cipher[::-1]"
   ]
  },
  {
   "cell_type": "markdown",
   "id": "afe5703e",
   "metadata": {},
   "source": [
    "## 가까운 수 구하기"
   ]
  },
  {
   "cell_type": "code",
   "execution_count": 59,
   "id": "ecfb143b",
   "metadata": {},
   "outputs": [],
   "source": [
    "def solution(array, n):\n",
    "    array.append(n)\n",
    "    num = sorted(array)\n",
    "    if num[-1] == n:\n",
    "        return num[num.index(n)-1]\n",
    "    else:\n",
    "        if abs(num[num.index(n)-1]-n) > abs(num[num.index(n)+1]-n):\n",
    "            return num[num.index(n)+1]\n",
    "        else:\n",
    "            return num[num.index(n)-1]"
   ]
  },
  {
   "cell_type": "code",
   "execution_count": 61,
   "id": "c4c4259f",
   "metadata": {},
   "outputs": [
    {
     "data": {
      "text/plain": [
       "3"
      ]
     },
     "execution_count": 61,
     "metadata": {},
     "output_type": "execute_result"
    }
   ],
   "source": [
    "solution([3,10,28], 20)"
   ]
  },
  {
   "cell_type": "markdown",
   "id": "37d4af52",
   "metadata": {},
   "source": [
    "## 한 번만 등장한 문자"
   ]
  },
  {
   "cell_type": "code",
   "execution_count": 17,
   "id": "faeb999e",
   "metadata": {},
   "outputs": [],
   "source": [
    "def solution(s):\n",
    "    answer = ''\n",
    "    for i in sorted(s):\n",
    "        if sorted(s).count(str(i)) == 1:\n",
    "            answer += i\n",
    "    return answer"
   ]
  },
  {
   "cell_type": "code",
   "execution_count": 18,
   "id": "df1b3fc5",
   "metadata": {},
   "outputs": [
    {
     "data": {
      "text/plain": [
       "'d'"
      ]
     },
     "execution_count": 18,
     "metadata": {},
     "output_type": "execute_result"
    }
   ],
   "source": [
    "solution(\"abcabcadc\")"
   ]
  },
  {
   "cell_type": "markdown",
   "id": "2636a1cf",
   "metadata": {},
   "source": [
    "## 이진수 더하기"
   ]
  },
  {
   "cell_type": "code",
   "execution_count": 30,
   "id": "cfc22a55",
   "metadata": {},
   "outputs": [],
   "source": [
    "def solution(bin1, bin2):\n",
    "    num = int(bin1,2) + int(bin2,2)\n",
    "    return bin(num)[2:]"
   ]
  },
  {
   "cell_type": "code",
   "execution_count": 31,
   "id": "cebac6d2",
   "metadata": {},
   "outputs": [
    {
     "data": {
      "text/plain": [
       "'101'"
      ]
     },
     "execution_count": 31,
     "metadata": {},
     "output_type": "execute_result"
    }
   ],
   "source": [
    "solution('10','11')"
   ]
  },
  {
   "cell_type": "code",
   "execution_count": null,
   "id": "0ef1fc47",
   "metadata": {},
   "outputs": [],
   "source": []
  }
 ],
 "metadata": {
  "kernelspec": {
   "display_name": "Python 3 (ipykernel)",
   "language": "python",
   "name": "python3"
  },
  "language_info": {
   "codemirror_mode": {
    "name": "ipython",
    "version": 3
   },
   "file_extension": ".py",
   "mimetype": "text/x-python",
   "name": "python",
   "nbconvert_exporter": "python",
   "pygments_lexer": "ipython3",
   "version": "3.9.12"
  }
 },
 "nbformat": 4,
 "nbformat_minor": 5
}
