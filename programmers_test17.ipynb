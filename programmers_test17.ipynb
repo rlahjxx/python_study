{
 "cells": [
  {
   "cell_type": "markdown",
   "id": "937ec4c5",
   "metadata": {},
   "source": [
    "## 캐릭터의 좌표"
   ]
  },
  {
   "cell_type": "code",
   "execution_count": null,
   "id": "b913f0aa",
   "metadata": {},
   "outputs": [],
   "source": [
    "# test 1 (X)\n",
    "def solution(keyinput, board):\n",
    "    answer = []\n",
    "    m, n = board[0]//2, board[1]//2\n",
    "    a, b, c, d = 0, 0, 0, 0\n",
    "    idx = 0\n",
    "    while idx < len(keyinput):\n",
    "        num = keyinput[idx]\n",
    "        if num == 'right':\n",
    "            a += 1\n",
    "        elif num == 'left':\n",
    "            b += -1\n",
    "        elif num == 'up':\n",
    "            c += 1\n",
    "        else:\n",
    "            d += -1\n",
    "        idx += 1\n",
    "    if (a + b) >= m:\n",
    "        answer.append(m)\n",
    "    elif (a + b) <= -m:\n",
    "        answer.append(-m)\n",
    "    else:\n",
    "        answer.append(a + b)\n",
    "\n",
    "    if (c + d) >= n:\n",
    "        answer.append(n)\n",
    "    elif (c + d) <= -n:\n",
    "        answer.append(-n)\n",
    "    else:\n",
    "        answer.append(c + d)\n",
    "    return answer"
   ]
  },
  {
   "cell_type": "code",
   "execution_count": 37,
   "id": "7eafedd1",
   "metadata": {},
   "outputs": [],
   "source": [
    "# test 2 (X) -> 테스트 8,9번 실패\n",
    "def solution(keyinput, board):\n",
    "    answer = []\n",
    "    m, n = board[0]//2, board[1]//2\n",
    "    a, b, c, d = 0, 0, 0, 0\n",
    "    idx = 0\n",
    "    while idx < len(keyinput):\n",
    "        num = keyinput[idx]\n",
    "        if num == 'right':\n",
    "            a += 1\n",
    "        elif num == 'left':\n",
    "            b += -1\n",
    "        elif num == 'up':\n",
    "            c += 1\n",
    "        else:\n",
    "            d += -1\n",
    "\n",
    "        if a >= m :\n",
    "            a = m\n",
    "        if b <= -m :\n",
    "            b = -m\n",
    "        if c >= n :\n",
    "            c = n\n",
    "        if d <= -n :\n",
    "            d = -n\n",
    "        idx += 1\n",
    "    answer.append(a+b)\n",
    "    answer.append(c+d)\n",
    "    return answer"
   ]
  },
  {
   "cell_type": "code",
   "execution_count": 45,
   "id": "438fecbb",
   "metadata": {},
   "outputs": [],
   "source": [
    "# test 3 (O)\n",
    "def solution(keyinput, board):\n",
    "    answer = [0,0]\n",
    "    m, n = board[0]//2, board[1]//2\n",
    "    for i in keyinput :\n",
    "        if i == 'left':\n",
    "            if -m < answer[0] <= m:\n",
    "                answer[0] += -1\n",
    "            else:\n",
    "                pass\n",
    "        elif i == 'right' :\n",
    "            if -m <= answer[0] < m:\n",
    "                answer[0] += 1\n",
    "            else:\n",
    "                pass\n",
    "        elif i == 'down':\n",
    "            if -n < answer[1] <= n:\n",
    "                answer[1] += -1\n",
    "            else:\n",
    "                pass\n",
    "        else:\n",
    "            if -n <= answer[1] < n:\n",
    "                answer[1] += 1\n",
    "            else:\n",
    "                pass\n",
    "    return answer"
   ]
  },
  {
   "cell_type": "code",
   "execution_count": 46,
   "id": "412d67e5",
   "metadata": {},
   "outputs": [
    {
     "data": {
      "text/plain": [
       "[2, 1]"
      ]
     },
     "execution_count": 46,
     "metadata": {},
     "output_type": "execute_result"
    }
   ],
   "source": [
    "solution([\"left\", \"right\", \"up\", \"right\", \"right\"], [11, 11])"
   ]
  },
  {
   "cell_type": "code",
   "execution_count": 47,
   "id": "8b6f62e2",
   "metadata": {},
   "outputs": [
    {
     "data": {
      "text/plain": [
       "[0, -4]"
      ]
     },
     "execution_count": 47,
     "metadata": {},
     "output_type": "execute_result"
    }
   ],
   "source": [
    "solution([\"down\", \"down\", \"down\", \"down\", \"down\"], [7, 9])"
   ]
  },
  {
   "cell_type": "markdown",
   "id": "533b78f7",
   "metadata": {},
   "source": [
    "## 특이한 정렬"
   ]
  },
  {
   "cell_type": "code",
   "execution_count": 94,
   "id": "54520879",
   "metadata": {},
   "outputs": [],
   "source": [
    "# test 1 (X)\n",
    "def solution(numlist, n):\n",
    "    num = {}\n",
    "    answer = []\n",
    "    for i in numlist:\n",
    "        num[i] = abs(n - i)\n",
    "    num = sorted(num.items(), key=lambda x: x[1], reverse=True)\n",
    "    for j in num[::-1]:\n",
    "        answer.append(j[0])\n",
    "    return answer"
   ]
  },
  {
   "cell_type": "code",
   "execution_count": null,
   "id": "6ad5e021",
   "metadata": {},
   "outputs": [],
   "source": [
    "# test 2 (O) -> numlist를 정렬해줘야 dictionary의 value를 기준으로 정렬할 때 같은 value의 key 값이 정렬 가능해짐\n",
    "def solution(numlist, n):\n",
    "    num = {}\n",
    "    answer = []\n",
    "    for i in sorted(numlist):\n",
    "        num[i] = abs(n - i)\n",
    "    num = sorted(num.items(), key=lambda x: x[1], reverse=True)\n",
    "    for j in num[::-1]:\n",
    "        answer.append(j[0])\n",
    "    return answer"
   ]
  },
  {
   "cell_type": "code",
   "execution_count": null,
   "id": "3a2f52b5",
   "metadata": {},
   "outputs": [],
   "source": []
  }
 ],
 "metadata": {
  "kernelspec": {
   "display_name": "Python 3 (ipykernel)",
   "language": "python",
   "name": "python3"
  },
  "language_info": {
   "codemirror_mode": {
    "name": "ipython",
    "version": 3
   },
   "file_extension": ".py",
   "mimetype": "text/x-python",
   "name": "python",
   "nbconvert_exporter": "python",
   "pygments_lexer": "ipython3",
   "version": "3.9.12"
  }
 },
 "nbformat": 4,
 "nbformat_minor": 5
}
