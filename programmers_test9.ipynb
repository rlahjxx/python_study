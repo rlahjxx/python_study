{
 "cells": [
  {
   "cell_type": "markdown",
   "id": "ee77fb46",
   "metadata": {},
   "source": [
    "## 가장 큰 수 찾기"
   ]
  },
  {
   "cell_type": "code",
   "execution_count": 27,
   "id": "17370b58",
   "metadata": {},
   "outputs": [],
   "source": [
    "# test 1 (O)\n",
    "def solution(array):\n",
    "    answer = []\n",
    "    num = array.copy()\n",
    "    num.sort()\n",
    "    answer.append(num[-1])\n",
    "    for i in range(len(array)):\n",
    "        if array[i] == num[-1]:\n",
    "            answer.append(i)\n",
    "    return answer"
   ]
  },
  {
   "cell_type": "code",
   "execution_count": 28,
   "id": "2fcdd390",
   "metadata": {},
   "outputs": [
    {
     "data": {
      "text/plain": [
       "[8, 1]"
      ]
     },
     "execution_count": 28,
     "metadata": {},
     "output_type": "execute_result"
    }
   ],
   "source": [
    "solution([1,8,3])"
   ]
  },
  {
   "cell_type": "code",
   "execution_count": 34,
   "id": "f3a57d58",
   "metadata": {},
   "outputs": [],
   "source": [
    "# max와 index 함수 이용하기\n",
    "def solution(array):\n",
    "    answer = [max(array), array.index(max(array))]\n",
    "    return answer"
   ]
  },
  {
   "cell_type": "code",
   "execution_count": 33,
   "id": "b25c0e35",
   "metadata": {},
   "outputs": [
    {
     "data": {
      "text/plain": [
       "[9, 2]"
      ]
     },
     "execution_count": 33,
     "metadata": {},
     "output_type": "execute_result"
    }
   ],
   "source": [
    "solution([1,6,9,3])"
   ]
  },
  {
   "cell_type": "markdown",
   "id": "32d76237",
   "metadata": {},
   "source": [
    "## 인덱스 바꾸기"
   ]
  },
  {
   "cell_type": "code",
   "execution_count": 46,
   "id": "5d97953f",
   "metadata": {},
   "outputs": [],
   "source": [
    "# test 1 (X)\n",
    "def solution(my_string, num1, num2):\n",
    "    answer = ''\n",
    "    n = list(my_string)\n",
    "    for i in range(len(n)):\n",
    "        if i != num1 and i != num2:\n",
    "            answer += n[i]\n",
    "        elif i == num1:\n",
    "            my_string.replace(n[i], n[num2])\n",
    "            answer += n[i]\n",
    "        elif i == num2:\n",
    "            n.replace(n[i], n[num1])\n",
    "            answer += n[i]\n",
    "    return answer"
   ]
  },
  {
   "cell_type": "code",
   "execution_count": 52,
   "id": "4c1a7a97",
   "metadata": {},
   "outputs": [
    {
     "data": {
      "text/plain": [
       "'heeeo'"
      ]
     },
     "execution_count": 52,
     "metadata": {},
     "output_type": "execute_result"
    }
   ],
   "source": [
    "solution('hello',1,2)"
   ]
  },
  {
   "cell_type": "code",
   "execution_count": 55,
   "id": "6ab5cb43",
   "metadata": {},
   "outputs": [],
   "source": [
    "# test 2 (O)\n",
    "def solution(my_string, num1, num2):\n",
    "    num = list(my_string)\n",
    "    answer = ''\n",
    "    for i in range(len(num)):\n",
    "        if i == num1:\n",
    "            answer += num[num2]\n",
    "        elif i == num2:\n",
    "            answer += num[num1]\n",
    "        else:\n",
    "            answer += num[i]\n",
    "    return answer"
   ]
  },
  {
   "cell_type": "code",
   "execution_count": 56,
   "id": "6979e104",
   "metadata": {},
   "outputs": [
    {
     "data": {
      "text/plain": [
       "'hlelo'"
      ]
     },
     "execution_count": 56,
     "metadata": {},
     "output_type": "execute_result"
    }
   ],
   "source": [
    "solution('hello',1,2)"
   ]
  },
  {
   "cell_type": "code",
   "execution_count": 57,
   "id": "486d1805",
   "metadata": {},
   "outputs": [],
   "source": [
    "# test 3 (O)\n",
    "def solution(my_string, num1, num2):\n",
    "    s = list(my_string)\n",
    "    s[num1],s[num2] = s[num2],s[num1]\n",
    "    return ''.join(s)"
   ]
  },
  {
   "cell_type": "code",
   "execution_count": 62,
   "id": "6b59e854",
   "metadata": {},
   "outputs": [
    {
     "data": {
      "text/plain": [
       "'hlelo'"
      ]
     },
     "execution_count": 62,
     "metadata": {},
     "output_type": "execute_result"
    }
   ],
   "source": [
    "solution('hello',1,2)"
   ]
  },
  {
   "cell_type": "markdown",
   "id": "b70e5fa6",
   "metadata": {},
   "source": [
    "## 특정 문자 제거하기"
   ]
  },
  {
   "cell_type": "code",
   "execution_count": 63,
   "id": "f999a984",
   "metadata": {},
   "outputs": [],
   "source": [
    "def solution(my_string, letter):\n",
    "    answer = ''\n",
    "    num = list(my_string)\n",
    "    for i in range(len(num)):\n",
    "        if num[i] != letter:\n",
    "            answer += num[i]\n",
    "    return answer"
   ]
  },
  {
   "cell_type": "code",
   "execution_count": 65,
   "id": "4903dec0",
   "metadata": {},
   "outputs": [
    {
     "data": {
      "text/plain": [
       "'Cdbe'"
      ]
     },
     "execution_count": 65,
     "metadata": {},
     "output_type": "execute_result"
    }
   ],
   "source": [
    "solution(\"BCBdbe\", \"B\")"
   ]
  },
  {
   "cell_type": "code",
   "execution_count": 66,
   "id": "44f93265",
   "metadata": {},
   "outputs": [],
   "source": [
    "def solution(my_string, letter):\n",
    "    return my_string.replace(letter, '')"
   ]
  },
  {
   "cell_type": "code",
   "execution_count": 67,
   "id": "9b327853",
   "metadata": {},
   "outputs": [
    {
     "data": {
      "text/plain": [
       "'Cdbe'"
      ]
     },
     "execution_count": 67,
     "metadata": {},
     "output_type": "execute_result"
    }
   ],
   "source": [
    "solution(\"BCBdbe\", \"B\")"
   ]
  },
  {
   "cell_type": "markdown",
   "id": "fcc7f55c",
   "metadata": {},
   "source": [
    "## 개미 군단"
   ]
  },
  {
   "cell_type": "code",
   "execution_count": 68,
   "id": "7d30c607",
   "metadata": {},
   "outputs": [],
   "source": [
    "def solution(hp):\n",
    "    answer = 0\n",
    "    n,m,r = 5,3,1\n",
    "    answer += hp // n\n",
    "    num1 = hp % n\n",
    "    answer += num1 // m\n",
    "    num2 = num1 % m\n",
    "    answer += num2 // r\n",
    "    return answer"
   ]
  },
  {
   "cell_type": "code",
   "execution_count": 69,
   "id": "8a311212",
   "metadata": {},
   "outputs": [
    {
     "data": {
      "text/plain": [
       "5"
      ]
     },
     "execution_count": 69,
     "metadata": {},
     "output_type": "execute_result"
    }
   ],
   "source": [
    "solution(23)"
   ]
  },
  {
   "cell_type": "code",
   "execution_count": 70,
   "id": "dd6f09b7",
   "metadata": {},
   "outputs": [],
   "source": [
    "def solution(hp):    \n",
    "    return hp // 5 + (hp % 5 // 3) + ((hp % 5) % 3)"
   ]
  },
  {
   "cell_type": "code",
   "execution_count": 71,
   "id": "73632d2e",
   "metadata": {},
   "outputs": [
    {
     "data": {
      "text/plain": [
       "5"
      ]
     },
     "execution_count": 71,
     "metadata": {},
     "output_type": "execute_result"
    }
   ],
   "source": [
    "solution(23)"
   ]
  },
  {
   "cell_type": "markdown",
   "id": "bd850802",
   "metadata": {},
   "source": [
    "## 369 게임"
   ]
  },
  {
   "cell_type": "code",
   "execution_count": 73,
   "id": "2360957b",
   "metadata": {},
   "outputs": [],
   "source": [
    "def solution(order):\n",
    "    answer = 0\n",
    "    num = [3,6,9]\n",
    "    n_list = list(str(order))\n",
    "    for i in n_list:\n",
    "        if int(i) in num:\n",
    "            answer += 1\n",
    "    return answer"
   ]
  },
  {
   "cell_type": "markdown",
   "id": "017f2976",
   "metadata": {},
   "source": [
    "## 숨어있는 숫자의 덧셈"
   ]
  },
  {
   "cell_type": "code",
   "execution_count": 78,
   "id": "4ec1d0de",
   "metadata": {},
   "outputs": [],
   "source": [
    "def solution(my_string):\n",
    "    answer = 0\n",
    "    for i in my_string:\n",
    "        if i.isdigit():\n",
    "            answer += int(i)\n",
    "    return answer"
   ]
  },
  {
   "cell_type": "code",
   "execution_count": 79,
   "id": "a81cc4f5",
   "metadata": {},
   "outputs": [
    {
     "data": {
      "text/plain": [
       "10"
      ]
     },
     "execution_count": 79,
     "metadata": {},
     "output_type": "execute_result"
    }
   ],
   "source": [
    "solution(\"aAb1B2cC34oOp\")"
   ]
  },
  {
   "cell_type": "markdown",
   "id": "ccb65e8d",
   "metadata": {},
   "source": [
    "## 숫자 찾기"
   ]
  },
  {
   "cell_type": "code",
   "execution_count": 13,
   "id": "45e1fbfc",
   "metadata": {},
   "outputs": [],
   "source": [
    "def solution(num, k):\n",
    "    n_list = list(str(num))\n",
    "    if str(k) in n_list:\n",
    "        answer = n_list.index(str(k)) +1\n",
    "    else:\n",
    "        answer = -1\n",
    "    return answer"
   ]
  },
  {
   "cell_type": "code",
   "execution_count": 14,
   "id": "2b7a6e4d",
   "metadata": {},
   "outputs": [
    {
     "data": {
      "text/plain": [
       "-1"
      ]
     },
     "execution_count": 14,
     "metadata": {},
     "output_type": "execute_result"
    }
   ],
   "source": [
    "solution(12345,6)"
   ]
  },
  {
   "cell_type": "markdown",
   "id": "9f1e30d8",
   "metadata": {},
   "source": [
    "## 최대값 만들기"
   ]
  },
  {
   "cell_type": "code",
   "execution_count": 59,
   "id": "fe42b51d",
   "metadata": {},
   "outputs": [],
   "source": [
    "def solution(numbers):\n",
    "    answer = []\n",
    "    for i in range(len(numbers)-1):\n",
    "        for j in range(i+1, len(numbers)):\n",
    "            answer.append(numbers[i]*numbers[j])\n",
    "    return (max(set(answer)))"
   ]
  },
  {
   "cell_type": "code",
   "execution_count": 60,
   "id": "a6f3a7ce",
   "metadata": {},
   "outputs": [
    {
     "data": {
      "text/plain": [
       "240"
      ]
     },
     "execution_count": 60,
     "metadata": {},
     "output_type": "execute_result"
    }
   ],
   "source": [
    "solution([0, -31, 24, 10, 1, 9])"
   ]
  },
  {
   "cell_type": "code",
   "execution_count": 62,
   "id": "ef18f098",
   "metadata": {},
   "outputs": [],
   "source": [
    "def solution(numbers):\n",
    "    numbers = sorted(numbers)\n",
    "    return max(numbers[0] * numbers[1], numbers[-1]*numbers[-2])"
   ]
  },
  {
   "cell_type": "code",
   "execution_count": 63,
   "id": "be816617",
   "metadata": {},
   "outputs": [
    {
     "data": {
      "text/plain": [
       "240"
      ]
     },
     "execution_count": 63,
     "metadata": {},
     "output_type": "execute_result"
    }
   ],
   "source": [
    "solution([0, -31, 24, 10, 1, 9])"
   ]
  },
  {
   "cell_type": "markdown",
   "id": "d3ff1f67",
   "metadata": {},
   "source": [
    "## 7의 개수"
   ]
  },
  {
   "cell_type": "code",
   "execution_count": 67,
   "id": "1c6011ed",
   "metadata": {},
   "outputs": [],
   "source": [
    "def solution(array):\n",
    "    answer = 0\n",
    "    for i in range(len(array)):\n",
    "        for j in str(array[i]):\n",
    "            if j == '7':\n",
    "                answer += 1\n",
    "    return answer"
   ]
  },
  {
   "cell_type": "code",
   "execution_count": 68,
   "id": "8f023d4f",
   "metadata": {},
   "outputs": [
    {
     "data": {
      "text/plain": [
       "4"
      ]
     },
     "execution_count": 68,
     "metadata": {},
     "output_type": "execute_result"
    }
   ],
   "source": [
    "solution([7,77,17])"
   ]
  },
  {
   "cell_type": "markdown",
   "id": "3a6b145b",
   "metadata": {},
   "source": [
    "## 합성수 찾기"
   ]
  },
  {
   "cell_type": "code",
   "execution_count": 116,
   "id": "0e1233f7",
   "metadata": {},
   "outputs": [],
   "source": [
    "def solution(n):\n",
    "    answer = 0\n",
    "    for i in range(4,n+1):\n",
    "        count = 0\n",
    "        for j in range(1,i+1):\n",
    "            if i % j == 0:\n",
    "                count += 1\n",
    "        if count >= 3:\n",
    "            answer += 1\n",
    "    return answer"
   ]
  },
  {
   "cell_type": "code",
   "execution_count": 117,
   "id": "3d431e04",
   "metadata": {},
   "outputs": [
    {
     "data": {
      "text/plain": [
       "5"
      ]
     },
     "execution_count": 117,
     "metadata": {},
     "output_type": "execute_result"
    }
   ],
   "source": [
    "solution(10)"
   ]
  },
  {
   "cell_type": "markdown",
   "id": "d35b1a41",
   "metadata": {},
   "source": [
    "## 잘라서 배열로 저장하기"
   ]
  },
  {
   "cell_type": "code",
   "execution_count": 147,
   "id": "aa7ebb9c",
   "metadata": {},
   "outputs": [],
   "source": [
    "def solution(my_str, n):\n",
    "    answer = []\n",
    "    num = ''\n",
    "    for i in my_str:\n",
    "        num += i\n",
    "        if len(num) != n:\n",
    "            continue\n",
    "        else:\n",
    "            answer.append(num)\n",
    "            num = ''\n",
    "    answer.append(num)\n",
    "    if answer[-1] == \"\":\n",
    "        answer.pop()\n",
    "    return answer"
   ]
  },
  {
   "cell_type": "code",
   "execution_count": 149,
   "id": "a286bd09",
   "metadata": {},
   "outputs": [
    {
     "data": {
      "text/plain": [
       "['abc1Ad', 'dfggg4', '556baa']"
      ]
     },
     "execution_count": 149,
     "metadata": {},
     "output_type": "execute_result"
    }
   ],
   "source": [
    "solution(\"abc1Addfggg4556baa\", 6)"
   ]
  },
  {
   "cell_type": "code",
   "execution_count": 151,
   "id": "3f6dea7b",
   "metadata": {},
   "outputs": [],
   "source": [
    "def solution(my_str, n):\n",
    "    count = len(my_str) // n if len(my_str) % n == 0 else len(my_str) // n + 1\n",
    "    return [my_str[i*n : (i+1)*n ] for i in range(count)]"
   ]
  },
  {
   "cell_type": "code",
   "execution_count": 152,
   "id": "beb176b4",
   "metadata": {},
   "outputs": [
    {
     "data": {
      "text/plain": [
       "['abc1Ad', 'dfggg4', '556baa']"
      ]
     },
     "execution_count": 152,
     "metadata": {},
     "output_type": "execute_result"
    }
   ],
   "source": [
    "solution(\"abc1Addfggg4556baa\", 6)"
   ]
  },
  {
   "cell_type": "markdown",
   "id": "1890cdf7",
   "metadata": {},
   "source": [
    "## 직각삼각형 만들기"
   ]
  },
  {
   "cell_type": "code",
   "execution_count": 163,
   "id": "2d1713c1",
   "metadata": {},
   "outputs": [
    {
     "name": "stdout",
     "output_type": "stream",
     "text": [
      "3\n",
      "*\n",
      "**\n",
      "***\n"
     ]
    }
   ],
   "source": [
    "n = int(input())\n",
    "num = ''\n",
    "for i in range(n):\n",
    "    num += '*'\n",
    "    print(num)"
   ]
  },
  {
   "cell_type": "code",
   "execution_count": null,
   "id": "47a1fefa",
   "metadata": {},
   "outputs": [],
   "source": []
  }
 ],
 "metadata": {
  "kernelspec": {
   "display_name": "Python 3 (ipykernel)",
   "language": "python",
   "name": "python3"
  },
  "language_info": {
   "codemirror_mode": {
    "name": "ipython",
    "version": 3
   },
   "file_extension": ".py",
   "mimetype": "text/x-python",
   "name": "python",
   "nbconvert_exporter": "python",
   "pygments_lexer": "ipython3",
   "version": "3.9.12"
  }
 },
 "nbformat": 4,
 "nbformat_minor": 5
}
