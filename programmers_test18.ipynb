{
 "cells": [
  {
   "cell_type": "markdown",
   "id": "d5d11f84",
   "metadata": {},
   "source": [
    "## 로그인 성공 ?"
   ]
  },
  {
   "cell_type": "code",
   "execution_count": 17,
   "id": "dcbc6292",
   "metadata": {},
   "outputs": [],
   "source": [
    "# test 1 (X)\n",
    "def solution(id_pw, db):\n",
    "    for i in db:\n",
    "        print(i)\n",
    "        if i == id_pw:\n",
    "            return 'login'\n",
    "        else:\n",
    "            if i[0] == id_pw[0] and i[1] != id_pw[1] :\n",
    "                return \"wrong pw\"\n",
    "            if i[0] != id_pw[0] and i[1] != id_pw[1]:\n",
    "                return \"fail\""
   ]
  },
  {
   "cell_type": "code",
   "execution_count": 46,
   "id": "82d653fb",
   "metadata": {},
   "outputs": [],
   "source": [
    "# test 2 (O)\n",
    "def solution(id_pw, db):\n",
    "    if id_pw in db:\n",
    "        return 'login'\n",
    "    else:\n",
    "        for i in db:\n",
    "            if i[0] == id_pw[0]:\n",
    "                if i[1] != id_pw[0]:\n",
    "                    return 'wrong pw'\n",
    "        return 'fail'"
   ]
  },
  {
   "cell_type": "code",
   "execution_count": 47,
   "id": "eab81132",
   "metadata": {},
   "outputs": [
    {
     "data": {
      "text/plain": [
       "'login'"
      ]
     },
     "execution_count": 47,
     "metadata": {},
     "output_type": "execute_result"
    }
   ],
   "source": [
    "solution([\"meosseugi\", \"1234\"], [[\"rardss\", \"123\"], [\"yyoom\", \"1234\"], [\"meosseugi\", \"1234\"]])"
   ]
  },
  {
   "cell_type": "code",
   "execution_count": 48,
   "id": "8645383e",
   "metadata": {},
   "outputs": [
    {
     "data": {
      "text/plain": [
       "'wrong pw'"
      ]
     },
     "execution_count": 48,
     "metadata": {},
     "output_type": "execute_result"
    }
   ],
   "source": [
    "solution([\"programmer01\", \"15789\"], [[\"programmer00\", \"134\"], [\"programmer01\", \"1145\"]])"
   ]
  },
  {
   "cell_type": "markdown",
   "id": "1168e3c4",
   "metadata": {},
   "source": [
    "## 직사각형의 넓이"
   ]
  },
  {
   "cell_type": "code",
   "execution_count": 49,
   "id": "7b8d390c",
   "metadata": {},
   "outputs": [],
   "source": [
    "# test 1 (X)\n",
    "def solution(dots):\n",
    "    x = dots[1][0] - dots[0][0]\n",
    "    y = dots[3][1] - dots[0][1]\n",
    "    answer = abs(x) * abs(y)\n",
    "    return answer"
   ]
  },
  {
   "cell_type": "code",
   "execution_count": 72,
   "id": "6615cabc",
   "metadata": {},
   "outputs": [],
   "source": [
    "# test 2 (O)\n",
    "def solution(dots):\n",
    "    answer = []\n",
    "    answer.append(dots[0])\n",
    "    for i in range(1,len(dots)):\n",
    "        if dots[0][0] == dots[i][0] or dots[0][1] == dots[i][1] :\n",
    "            continue\n",
    "        else:\n",
    "            answer.append(dots[i])\n",
    "\n",
    "    x = answer[1][0] - answer[0][0]\n",
    "    y = answer[1][1] - answer[0][1]\n",
    "\n",
    "    return abs(x) * abs(y)"
   ]
  },
  {
   "cell_type": "code",
   "execution_count": 74,
   "id": "ce111e79",
   "metadata": {},
   "outputs": [
    {
     "data": {
      "text/plain": [
       "4"
      ]
     },
     "execution_count": 74,
     "metadata": {},
     "output_type": "execute_result"
    }
   ],
   "source": [
    "solution([[-1, -1], [1, 1], [1, -1], [-1, 1]])"
   ]
  },
  {
   "cell_type": "code",
   "execution_count": 75,
   "id": "6c8b519c",
   "metadata": {},
   "outputs": [],
   "source": [
    "# test 3 -> 다른 사람의 풀이\n",
    "def solution(dots):\n",
    "    return (max(dots)[0] - min(dots)[0])*(max(dots)[1] - min(dots)[1])"
   ]
  },
  {
   "cell_type": "code",
   "execution_count": 76,
   "id": "06b9b0e3",
   "metadata": {},
   "outputs": [
    {
     "data": {
      "text/plain": [
       "4"
      ]
     },
     "execution_count": 76,
     "metadata": {},
     "output_type": "execute_result"
    }
   ],
   "source": [
    "solution([[-1, -1], [1, 1], [1, -1], [-1, 1]])"
   ]
  },
  {
   "cell_type": "markdown",
   "id": "a96666ab",
   "metadata": {},
   "source": [
    "## 등수 매기기"
   ]
  },
  {
   "cell_type": "code",
   "execution_count": 3,
   "id": "3b2e380a",
   "metadata": {},
   "outputs": [],
   "source": [
    "# test 1 (X)\n",
    "def solution(score):\n",
    "    num = {}\n",
    "    answer = []\n",
    "    for i in range(len(score)):\n",
    "        num[i+1] = sum(score[i]) / 2\n",
    "    num = sorted(num.items(), key=lambda x: x[1], reverse=True)\n",
    "    for j in num:\n",
    "        answer.append(j[0])\n",
    "    return answer"
   ]
  },
  {
   "cell_type": "code",
   "execution_count": 4,
   "id": "f94ac943",
   "metadata": {},
   "outputs": [
    {
     "data": {
      "text/plain": [
       "[6, 4, 5, 1, 2, 3, 7]"
      ]
     },
     "execution_count": 4,
     "metadata": {},
     "output_type": "execute_result"
    }
   ],
   "source": [
    "score = [[80, 70], [70, 80], [30, 50], [90, 100], [100, 90], [100, 100], [10, 30]]\n",
    "solution(score)"
   ]
  },
  {
   "cell_type": "code",
   "execution_count": 35,
   "id": "efa24765",
   "metadata": {},
   "outputs": [
    {
     "name": "stdout",
     "output_type": "stream",
     "text": [
      "[75.0, 75.0, 40.0, 95.0, 95.0, 100.0, 20.0]\n",
      "[100.0, 95.0, 95.0, 75.0, 75.0, 40.0, 20.0]\n",
      "{100.0: 1, 95.0: 2, 75.0: 2, 40.0: 1, 20.0: 1}\n",
      "[75.0, 75.0, 95.0, 95.0]\n"
     ]
    }
   ],
   "source": [
    "# test 2 (O)\n",
    "def solution(score):\n",
    "    num = []\n",
    "    for i in score :\n",
    "        num.append(sum(i) / 2)\n",
    "    number = sorted(num, reverse=True)\n",
    "    number2 = number.copy()\n",
    "    for j in range(len(number2)):\n",
    "        number2[j] = j + 1\n",
    "    for k in range(1, len(number)):\n",
    "        if number[k] == number[k-1] :\n",
    "            number2[k] = number2[k-1]\n",
    "    answer = {}\n",
    "    for a in range(len(number)) :\n",
    "        answer[number[a]] = number2[a]\n",
    "    final = []\n",
    "    for b in num :\n",
    "        for w, h in answer.items():\n",
    "            if b == w:\n",
    "                final.append(h)\n",
    "    return final"
   ]
  },
  {
   "cell_type": "markdown",
   "id": "70713d59",
   "metadata": {},
   "source": [
    "## 삼각형의 완성조건 (2)"
   ]
  },
  {
   "cell_type": "code",
   "execution_count": 101,
   "id": "93ce179b",
   "metadata": {},
   "outputs": [],
   "source": [
    "# test 1 (X)\n",
    "def solution(sides):\n",
    "    sides = sorted(sides, reverse=True)\n",
    "    # 첫 번째 문자열이 제일 큰 변인 경우\n",
    "    count1 = 0\n",
    "    for i in range(sides[0]-sides[1]+1, sides[0] + 1):\n",
    "        count1 += 1\n",
    "    # 나머지 한 변이 제일 큰 변인 경우\n",
    "    count2 = 0\n",
    "    for j in range(sides[0] + 1, sides[0] + sides[1]) : \n",
    "        count2 += 1\n",
    "    return count1 + count2"
   ]
  },
  {
   "cell_type": "code",
   "execution_count": 102,
   "id": "e6b132c3",
   "metadata": {},
   "outputs": [
    {
     "data": {
      "text/plain": [
       "13"
      ]
     },
     "execution_count": 102,
     "metadata": {},
     "output_type": "execute_result"
    }
   ],
   "source": [
    "solution([11, 7])"
   ]
  },
  {
   "cell_type": "code",
   "execution_count": 103,
   "id": "cc92676e",
   "metadata": {},
   "outputs": [],
   "source": [
    "# test 2 (O)\n",
    "def solution(sides):\n",
    "    return sum(sides) - max(sides) + min(sides) - 1"
   ]
  },
  {
   "cell_type": "code",
   "execution_count": 104,
   "id": "0425a68a",
   "metadata": {},
   "outputs": [
    {
     "data": {
      "text/plain": [
       "13"
      ]
     },
     "execution_count": 104,
     "metadata": {},
     "output_type": "execute_result"
    }
   ],
   "source": [
    "solution([11, 7])"
   ]
  },
  {
   "cell_type": "markdown",
   "id": "5ee70505",
   "metadata": {},
   "source": [
    "## 치킨 쿠폰"
   ]
  },
  {
   "cell_type": "code",
   "execution_count": 190,
   "id": "3425c879",
   "metadata": {},
   "outputs": [],
   "source": [
    "# test 1 (X)\n",
    "def solution(chicken):\n",
    "    m, n = 0, 0\n",
    "    while chicken >= 10 :\n",
    "        chicken, num = divmod(chicken, 10)\n",
    "        if chicken % 10 == 0:\n",
    "            n += num + (chicken // 10)\n",
    "        else : \n",
    "            n += num\n",
    "        m += chicken\n",
    "    if n == 10 :\n",
    "        m += 1\n",
    "    return m"
   ]
  },
  {
   "cell_type": "code",
   "execution_count": 191,
   "id": "5f593062",
   "metadata": {},
   "outputs": [
    {
     "data": {
      "text/plain": [
       "120"
      ]
     },
     "execution_count": 191,
     "metadata": {},
     "output_type": "execute_result"
    }
   ],
   "source": [
    "solution(1099)"
   ]
  },
  {
   "cell_type": "code",
   "execution_count": 188,
   "id": "4f825d1f",
   "metadata": {},
   "outputs": [],
   "source": [
    "# test 2 (O)\n",
    "def solution(chicken):\n",
    "    coupon, s_chicken = chicken, 0\n",
    "    while coupon >= 10 :\n",
    "        s_chicken += coupon // 10\n",
    "        coupon = (coupon // 10) + (coupon % 10)\n",
    "\n",
    "    return s_chicken"
   ]
  },
  {
   "cell_type": "code",
   "execution_count": 192,
   "id": "b65c230b",
   "metadata": {},
   "outputs": [
    {
     "data": {
      "text/plain": [
       "120"
      ]
     },
     "execution_count": 192,
     "metadata": {},
     "output_type": "execute_result"
    }
   ],
   "source": [
    "solution(1099)"
   ]
  }
 ],
 "metadata": {
  "kernelspec": {
   "display_name": "Python 3 (ipykernel)",
   "language": "python",
   "name": "python3"
  },
  "language_info": {
   "codemirror_mode": {
    "name": "ipython",
    "version": 3
   },
   "file_extension": ".py",
   "mimetype": "text/x-python",
   "name": "python",
   "nbconvert_exporter": "python",
   "pygments_lexer": "ipython3",
   "version": "3.9.12"
  }
 },
 "nbformat": 4,
 "nbformat_minor": 5
}
