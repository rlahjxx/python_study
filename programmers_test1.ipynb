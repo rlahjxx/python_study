{
 "cells": [
  {
   "cell_type": "code",
   "execution_count": 8,
   "id": "48a24523",
   "metadata": {},
   "outputs": [
    {
     "name": "stdout",
     "output_type": "stream",
     "text": [
      "[4, 3]\n"
     ]
    }
   ],
   "source": [
    "# 중복되는 수를 제외하고 인덱스 순서대로 값 정리\n",
    "arr = [4,4,4,3,3]\n",
    "\n",
    "num = []\n",
    "num.append(arr[0])\n",
    "for i in range(1, len(arr)):\n",
    "    if arr[i] != arr[i-1]:\n",
    "        num.append(arr[i])\n",
    "\n",
    "print(num)"
   ]
  },
  {
   "cell_type": "code",
   "execution_count": 18,
   "id": "cbe2d85c",
   "metadata": {},
   "outputs": [
    {
     "name": "stdout",
     "output_type": "stream",
     "text": [
      "6\n"
     ]
    }
   ],
   "source": [
    "num = [1,2,3,4]\n",
    "\n",
    "for i in range(len(num)):\n",
    "    for j in range(i+1,len(num)):\n",
    "        for k in range(j+1, len(num)):\n",
    "            data = i+j+k\n",
    "            if data % k == 0:\n",
    "            \n",
    "                print(data)"
   ]
  },
  {
   "cell_type": "code",
   "execution_count": 33,
   "id": "ee394baf",
   "metadata": {},
   "outputs": [
    {
     "name": "stdout",
     "output_type": "stream",
     "text": [
      "1 + 2 + 4의 값은 7입니다.\n",
      "1 + 6 + 4의 값은 11입니다.\n",
      "2 + 7 + 4의 값은 13입니다.\n",
      "7 + 6 + 4의 값은 17입니다.\n",
      "4\n"
     ]
    }
   ],
   "source": [
    "# 3개의 수를 조합하여 소수 만든 후 개수 출력하기 (combinations 함수 사용 X)\n",
    "num = [1,2,7,6,4]\n",
    "answer = 0\n",
    "\n",
    "for i in range(len(num)-2):\n",
    "    for j in range(i+1,len(num)-1):\n",
    "        for k in range(j+1, len(num)):\n",
    "            data = num[i] + num[j] + num[k]\n",
    "            \n",
    "            count = 0\n",
    "            for n in range(2, (data//2)+1):\n",
    "                if data % n == 0:\n",
    "                    count += 1\n",
    "            if count == 0:   \n",
    "                answer += 1\n",
    "                print(f'{num[i]} + {num[j]} + {num[k]}의 값은 {data}입니다.')\n",
    "print(answer)"
   ]
  },
  {
   "cell_type": "code",
   "execution_count": 41,
   "id": "212c398b",
   "metadata": {},
   "outputs": [],
   "source": [
    "# combinations 함수를 이용하여 가능한 소수 개수 출력\n",
    "num = [1,2,7,6,4]\n",
    "from itertools import combinations\n",
    "\n",
    "# 소수 판별 함수\n",
    "def prime(number):\n",
    "    if number==0 or number==1:\n",
    "        return False\n",
    "    else:\n",
    "        for n in range(2,(number//2)+1):\n",
    "            if number % n == 0:\n",
    "                return False\n",
    "        return True\n",
    "\n",
    "def solution(numbers):\n",
    "    answer = 0\n",
    "    cmb = list(combinations(num,3))  # 중복 없이 경우의 수를 나타냄\n",
    "    # print(cmb)\n",
    "    for i in cmb:\n",
    "        if prime(sum(i)):\n",
    "            answer += 1\n",
    "            print(f'{i}의 합은 {sum(i)}입니다.')\n",
    "    return answer"
   ]
  },
  {
   "cell_type": "code",
   "execution_count": 42,
   "id": "339b6af3",
   "metadata": {},
   "outputs": [
    {
     "name": "stdout",
     "output_type": "stream",
     "text": [
      "(1, 2, 4)의 합은 7입니다.\n",
      "(1, 6, 4)의 합은 11입니다.\n",
      "(2, 7, 4)의 합은 13입니다.\n",
      "(7, 6, 4)의 합은 17입니다.\n",
      "4\n"
     ]
    }
   ],
   "source": [
    "print(solution(num))"
   ]
  },
  {
   "cell_type": "code",
   "execution_count": null,
   "id": "0c1597d6",
   "metadata": {},
   "outputs": [],
   "source": []
  }
 ],
 "metadata": {
  "kernelspec": {
   "display_name": "Python 3 (ipykernel)",
   "language": "python",
   "name": "python3"
  },
  "language_info": {
   "codemirror_mode": {
    "name": "ipython",
    "version": 3
   },
   "file_extension": ".py",
   "mimetype": "text/x-python",
   "name": "python",
   "nbconvert_exporter": "python",
   "pygments_lexer": "ipython3",
   "version": "3.9.12"
  }
 },
 "nbformat": 4,
 "nbformat_minor": 5
}
