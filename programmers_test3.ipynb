{
 "cells": [
  {
   "cell_type": "code",
   "execution_count": 6,
   "id": "41d43c85",
   "metadata": {},
   "outputs": [],
   "source": [
    "# 자연수 뒤집어 배열로 만들기\n",
    "def solution(n):\n",
    "    num = list(str(n))\n",
    "    list_num = []\n",
    "    for i in range(len(num)-1,-1,-1):\n",
    "        list_num.append(int(num[i]))\n",
    "    return list_num"
   ]
  },
  {
   "cell_type": "code",
   "execution_count": 12,
   "id": "7f2ab05d",
   "metadata": {},
   "outputs": [
    {
     "name": "stdout",
     "output_type": "stream",
     "text": [
      "[4, 3, 2, 1]\n"
     ]
    }
   ],
   "source": [
    "print(solution(1234))"
   ]
  },
  {
   "cell_type": "code",
   "execution_count": null,
   "id": "496def82",
   "metadata": {},
   "outputs": [],
   "source": [
    "# 웅재님 코드\n",
    "def sol(n):\n",
    "    a = []\n",
    "    n = str(n)\n",
    "    for i in range(len(n)):\n",
    "        j = len(n) - 1 - i\n",
    "        a.append(int(n[j]))\n",
    "    return a"
   ]
  },
  {
   "cell_type": "code",
   "execution_count": null,
   "id": "8d25fa12",
   "metadata": {},
   "outputs": [],
   "source": [
    "# 두 수를 입력받아 두 수의 최대공약수와 최소공배수를 반환하는 함수\n"
   ]
  },
  {
   "cell_type": "markdown",
   "id": "e9c13b9e",
   "metadata": {},
   "source": [
    "# map 함수 & reversed 함수 이용"
   ]
  },
  {
   "cell_type": "code",
   "execution_count": 11,
   "id": "04a082c6",
   "metadata": {},
   "outputs": [
    {
     "data": {
      "text/plain": [
       "[1.0, 2.0, 3.0]"
      ]
     },
     "execution_count": 11,
     "metadata": {},
     "output_type": "execute_result"
    }
   ],
   "source": [
    "# map 함수 : map() 함수에 int 함수로 반복 가능한 a 객체를 넣어 int 자료형으로 변경 구문 실행 후 결과를 list로 받는다.\n",
    "n = 123\n",
    "n = list(str(n))\n",
    "a = list(map(float, n))\n",
    "a"
   ]
  },
  {
   "cell_type": "code",
   "execution_count": 14,
   "id": "fe94e26f",
   "metadata": {},
   "outputs": [
    {
     "name": "stdout",
     "output_type": "stream",
     "text": [
      "3\n",
      "2\n",
      "1\n"
     ]
    }
   ],
   "source": [
    "# reversed 함수 : 역방향으로 각 문자에 접근하는 함수 -> generator 함수라서 함수를 한 번 쳤을 때 출력 또한 한 번만 가능\n",
    "# reversed 함수가 기억이 안날 땐 -> [::-1]\n",
    "for i in reversed(n):    \n",
    "    print(i)"
   ]
  },
  {
   "cell_type": "code",
   "execution_count": null,
   "id": "89bf79fe",
   "metadata": {},
   "outputs": [],
   "source": []
  }
 ],
 "metadata": {
  "kernelspec": {
   "display_name": "Python 3 (ipykernel)",
   "language": "python",
   "name": "python3"
  },
  "language_info": {
   "codemirror_mode": {
    "name": "ipython",
    "version": 3
   },
   "file_extension": ".py",
   "mimetype": "text/x-python",
   "name": "python",
   "nbconvert_exporter": "python",
   "pygments_lexer": "ipython3",
   "version": "3.9.12"
  }
 },
 "nbformat": 4,
 "nbformat_minor": 5
}
